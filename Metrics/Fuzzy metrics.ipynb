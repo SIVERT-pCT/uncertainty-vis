{
 "cells": [
  {
   "cell_type": "code",
   "execution_count": 38,
   "metadata": {},
   "outputs": [],
   "source": [
    "import numpy as np\n",
    "from matplotlib import pyplot as plt\n",
    "import ipywidgets as widgets\n",
    "from scipy import optimize\n",
    "from scipy import special"
   ]
  },
  {
   "cell_type": "code",
   "execution_count": 3,
   "metadata": {},
   "outputs": [],
   "source": [
    "def normal_dist(x , mean , var):\n",
    "    prob_density = 1 / (np.sqrt(2*np.pi)*var) * np.exp(-0.5*((x-mean)/var)**2)\n",
    "    return prob_density\n",
    "\n",
    "def wasserstein(mu1, var1, mu2, var2):\n",
    "    return np.sqrt(\n",
    "        ( mu1 - mu2 )**2 + ( np.sqrt(var1) - np.sqrt(var2) )**2\n",
    "    )"
   ]
  },
  {
   "cell_type": "markdown",
   "metadata": {},
   "source": [
    "# Standard GV-fuzzy metric\n",
    "\n",
    "\\begin{align*}\n",
    "    M_d(x, y, t) &= \\frac{ t }{ t + d(x,y) }\n",
    "\\end{align*}"
   ]
  },
  {
   "cell_type": "code",
   "execution_count": 21,
   "metadata": {},
   "outputs": [],
   "source": [
    "def standard_gv_fuzzy(t ,mu1, var1, mu2, var2):\n",
    "    return np.array([ u / ( u + wasserstein(mu1, var1, mu2, var2) ) if u > 0 else u for u in t ])"
   ]
  },
  {
   "cell_type": "code",
   "execution_count": 25,
   "metadata": {},
   "outputs": [
    {
     "data": {
      "application/vnd.jupyter.widget-view+json": {
       "model_id": "11bd0cd3e1ce43c8b052c11573d5ab44",
       "version_major": 2,
       "version_minor": 0
      },
      "text/plain": [
       "interactive(children=(FloatSlider(value=0.0, description='mu1', max=10.0, min=-10.0), FloatSlider(value=1.0, d…"
      ]
     },
     "metadata": {},
     "output_type": "display_data"
    }
   ],
   "source": [
    "@widgets.interact(mu1=(-10,10,0.1),var1=(1e-9,2,0.1),mu2=(-10,10,0.1),var2=(1e-9,2,0.1))\n",
    "def show_standard_gv(mu1=0, var1=1, mu2=0.5, var2=1.5):\n",
    "    x = np.linspace(-5, 5)\n",
    "\n",
    "    pdf1 = normal_dist(x, mu1, var1)\n",
    "    pdf2 = normal_dist(x, mu2, var2)\n",
    "\n",
    "    t = np.linspace(0, 50)\n",
    "    difference = standard_gv_fuzzy(t, mu1, var1, mu2, var2)\n",
    "\n",
    "    plt.figure(figsize=(24,9))\n",
    "    plt.subplot(3,1,1)\n",
    "    plt.plot(x, pdf1, label='PDF 1')\n",
    "    plt.plot(x, pdf2, label='PDF 2')\n",
    "    plt.grid()\n",
    "    plt.legend()\n",
    "\n",
    "    plt.subplot(3,1,2)\n",
    "    plt.plot(t, difference)\n",
    "    plt.ylim(0, 1.1)\n",
    "    plt.grid()\n",
    "\n",
    "    plt.subplot(3,1,3)\n",
    "    plt.plot(t[:-1], np.diff(difference))\n",
    "    plt.ylim(0, 1.1)\n",
    "    plt.grid()\n",
    "    plt.show()"
   ]
  },
  {
   "cell_type": "markdown",
   "metadata": {},
   "source": [
    "## Fitting the exponential distribution"
   ]
  },
  {
   "cell_type": "code",
   "execution_count": 31,
   "metadata": {},
   "outputs": [],
   "source": [
    "def exp_pdf(x, l):\n",
    "    g = l * np.exp( - l * x )\n",
    "    return g\n",
    "\n",
    "def exp_cdf(x, l):\n",
    "    g = np.array([1 - np.exp( - l * u ) if u >= 0 else 0 for u in x ])\n",
    "    return g"
   ]
  },
  {
   "cell_type": "code",
   "execution_count": 36,
   "metadata": {},
   "outputs": [
    {
     "data": {
      "application/vnd.jupyter.widget-view+json": {
       "model_id": "b180a11962cc42c79f8db2ce805482ce",
       "version_major": 2,
       "version_minor": 0
      },
      "text/plain": [
       "interactive(children=(FloatSlider(value=0.0, description='mu1', max=10.0, min=-10.0), FloatSlider(value=1.0, d…"
      ]
     },
     "metadata": {},
     "output_type": "display_data"
    }
   ],
   "source": [
    "@widgets.interact(mu1=(-10,10,0.1),var1=(1e-9,2,0.1),mu2=(-10,10,0.1),var2=(1e-9,2,0.1))\n",
    "def show_standard_gv(mu1=0, var1=1, mu2=0.5, var2=1.5):\n",
    "    x = np.linspace(-5, 5)\n",
    "\n",
    "    pdf1 = normal_dist(x, mu1, var1)\n",
    "    pdf2 = normal_dist(x, mu2, var2)\n",
    "\n",
    "    t = np.linspace(0, 50)\n",
    "    difference = standard_gv_fuzzy(t, mu1, var1, mu2, var2)\n",
    "\n",
    "    popt, pcov = optimize.curve_fit(exp_cdf, t, difference)\n",
    "\n",
    "    plt.figure(figsize=(24,9))\n",
    "    plt.subplot(3,1,1)\n",
    "    plt.plot(x, pdf1, label='PDF 1')\n",
    "    plt.plot(x, pdf2, label='PDF 2')\n",
    "    plt.grid()\n",
    "    plt.legend()\n",
    "\n",
    "    plt.subplot(3,1,2)\n",
    "    plt.plot(t, difference, label='difference')\n",
    "    plt.plot(t, exp_cdf(t, *popt), label=r'$F(x; \\lambda)$')\n",
    "    plt.ylim(0, 1.1)\n",
    "    plt.legend()\n",
    "    plt.grid()\n",
    "\n",
    "    plt.subplot(3,1,3)\n",
    "    plt.plot(t[:-1], np.diff(difference), label='Difference')\n",
    "    plt.plot(t[:-1], exp_pdf(t[:-1], *popt), label='exp distr.')\n",
    "    plt.ylim(0, 1.1)\n",
    "    plt.legend()\n",
    "    plt.grid()\n",
    "    plt.show()"
   ]
  },
  {
   "cell_type": "markdown",
   "metadata": {},
   "source": [
    "## Fitting the Gamma distribution"
   ]
  },
  {
   "cell_type": "code",
   "execution_count": 52,
   "metadata": {},
   "outputs": [],
   "source": [
    "def gamma_cdf(t, k, theta):\n",
    "    return special.gammainc(k, t / theta) / special.gamma(k)\n",
    "\n",
    "def gamma_pdf(x, k, theta):\n",
    "    g = np.array([ ( u**(k-1) * np.exp( -u / theta ) ) / ( theta**k * special.gamma(k) ) if u > 0 else 1.0 for u in x])\n",
    "    return g"
   ]
  },
  {
   "cell_type": "code",
   "execution_count": 53,
   "metadata": {},
   "outputs": [
    {
     "data": {
      "application/vnd.jupyter.widget-view+json": {
       "model_id": "ae54ce6c53b24db2b75dcc47a49b32ce",
       "version_major": 2,
       "version_minor": 0
      },
      "text/plain": [
       "interactive(children=(FloatSlider(value=0.0, description='mu1', max=10.0, min=-10.0), FloatSlider(value=1.0, d…"
      ]
     },
     "metadata": {},
     "output_type": "display_data"
    }
   ],
   "source": [
    "@widgets.interact(mu1=(-10,10,0.1),var1=(1e-9,2,0.1),mu2=(-10,10,0.1),var2=(1e-9,2,0.1))\n",
    "def show_standard_gv(mu1=0, var1=1, mu2=0.5, var2=1.5):\n",
    "    x = np.linspace(-5, 5)\n",
    "\n",
    "    pdf1 = normal_dist(x, mu1, var1)\n",
    "    pdf2 = normal_dist(x, mu2, var2)\n",
    "\n",
    "    t = np.linspace(0, 50)\n",
    "    difference = standard_gv_fuzzy(t, mu1, var1, mu2, var2)\n",
    "\n",
    "    popt, pcov = optimize.curve_fit(gamma_cdf, t, difference)\n",
    "\n",
    "    plt.figure(figsize=(24,9))\n",
    "    plt.subplot(3,1,1)\n",
    "    plt.plot(x, pdf1, label='PDF 1')\n",
    "    plt.plot(x, pdf2, label='PDF 2')\n",
    "    plt.grid()\n",
    "    plt.legend()\n",
    "\n",
    "    plt.subplot(3,1,2)\n",
    "    plt.plot(t, difference, label='difference')\n",
    "    plt.plot(t, gamma_cdf(t, *popt), label=r'$F(x; k, \\theta)$')\n",
    "    plt.ylim(0, 1.1)\n",
    "    plt.legend()\n",
    "    plt.grid()\n",
    "\n",
    "    plt.subplot(3,1,3)\n",
    "    plt.plot(t[:-1], np.diff(difference), label='Difference')\n",
    "    plt.plot(t[:-1], gamma_pdf(t[:-1], *popt), label=r'$f(x; k, \\theta)$')\n",
    "    plt.ylim(0, 1.1)\n",
    "    plt.legend()\n",
    "    plt.grid()\n",
    "    plt.show()"
   ]
  },
  {
   "cell_type": "markdown",
   "metadata": {},
   "source": [
    "# Exponential GV-fuzzy metric\n",
    "\n",
    "\\begin{align*}\n",
    "    M_e(x, y, t) &= e^{ - \\frac{ d(x,y) }{ t } }\n",
    "\\end{align*}"
   ]
  },
  {
   "cell_type": "code",
   "execution_count": 26,
   "metadata": {},
   "outputs": [],
   "source": [
    "def exponential_gv_fuzzy(t, mu1, var1, mu2, var2):\n",
    "    return np.array([ np.exp( - wasserstein(mu1, var1, mu2, var2) / u ) if u > 0 else 0 for u in t])"
   ]
  },
  {
   "cell_type": "code",
   "execution_count": 28,
   "metadata": {},
   "outputs": [
    {
     "data": {
      "application/vnd.jupyter.widget-view+json": {
       "model_id": "6dfd6b404ea64e2eb3f6a84a80e33ccb",
       "version_major": 2,
       "version_minor": 0
      },
      "text/plain": [
       "interactive(children=(FloatSlider(value=0.0, description='mu1', max=10.0, min=-10.0), FloatSlider(value=1.0, d…"
      ]
     },
     "metadata": {},
     "output_type": "display_data"
    }
   ],
   "source": [
    "@widgets.interact(mu1=(-10,10,0.1),var1=(1e-9,2,0.1),mu2=(-10,10,0.1),var2=(1e-9,2,0.1))\n",
    "def show_standard_gv(mu1=0, var1=1, mu2=0.5, var2=1.5):\n",
    "    x = np.linspace(-5, 5, 100)\n",
    "\n",
    "    pdf1 = normal_dist(x, mu1, var1)\n",
    "    pdf2 = normal_dist(x, mu2, var2)\n",
    "\n",
    "    t = np.linspace(0, 50, 100)\n",
    "    difference = exponential_gv_fuzzy(t, mu1, var1, mu2, var2)\n",
    "\n",
    "    plt.figure(figsize=(24,9))\n",
    "    plt.subplot(3,1,1)\n",
    "    plt.plot(x, pdf1, label='PDF 1')\n",
    "    plt.plot(x, pdf2, label='PDF 2')\n",
    "    plt.grid()\n",
    "    plt.legend()\n",
    "\n",
    "    plt.subplot(3,1,2)\n",
    "    plt.plot(t, difference)\n",
    "    plt.ylim(0, 1.1)\n",
    "    plt.grid()\n",
    "\n",
    "    plt.subplot(3,1,3)\n",
    "    plt.plot(t[:-1], np.diff(difference))\n",
    "    plt.ylim(0, 1.1)\n",
    "    plt.grid()\n",
    "    plt.show()"
   ]
  },
  {
   "cell_type": "markdown",
   "metadata": {},
   "source": [
    "## Fitting the eponential distribution"
   ]
  },
  {
   "cell_type": "code",
   "execution_count": 37,
   "metadata": {},
   "outputs": [
    {
     "data": {
      "application/vnd.jupyter.widget-view+json": {
       "model_id": "65cb2c5eb9764eeeb3430e4f7553985a",
       "version_major": 2,
       "version_minor": 0
      },
      "text/plain": [
       "interactive(children=(FloatSlider(value=0.0, description='mu1', max=10.0, min=-10.0), FloatSlider(value=1.0, d…"
      ]
     },
     "metadata": {},
     "output_type": "display_data"
    }
   ],
   "source": [
    "@widgets.interact(mu1=(-10,10,0.1),var1=(1e-9,2,0.1),mu2=(-10,10,0.1),var2=(1e-9,2,0.1))\n",
    "def show_standard_gv(mu1=0, var1=1, mu2=0.5, var2=1.5):\n",
    "    x = np.linspace(-5, 5)\n",
    "\n",
    "    pdf1 = normal_dist(x, mu1, var1)\n",
    "    pdf2 = normal_dist(x, mu2, var2)\n",
    "\n",
    "    t = np.linspace(0, 50)\n",
    "    difference = exponential_gv_fuzzy(t, mu1, var1, mu2, var2)\n",
    "\n",
    "    popt, pcov = optimize.curve_fit(exp_cdf, t, difference)\n",
    "\n",
    "    plt.figure(figsize=(24,9))\n",
    "    plt.subplot(3,1,1)\n",
    "    plt.plot(x, pdf1, label='PDF 1')\n",
    "    plt.plot(x, pdf2, label='PDF 2')\n",
    "    plt.grid()\n",
    "    plt.legend()\n",
    "\n",
    "    plt.subplot(3,1,2)\n",
    "    plt.plot(t, difference, label='difference')\n",
    "    plt.plot(t, exp_cdf(t, *popt), label=r'$F(x; \\lambda)$')\n",
    "    plt.ylim(0, 1.1)\n",
    "    plt.legend()\n",
    "    plt.grid()\n",
    "\n",
    "    plt.subplot(3,1,3)\n",
    "    plt.plot(t[:-1], np.diff(difference), label='Difference')\n",
    "    plt.plot(t[:-1], exp_pdf(t[:-1], *popt), label='exp distr.')\n",
    "    plt.ylim(0, 1.1)\n",
    "    plt.legend()\n",
    "    plt.grid()\n",
    "    plt.show()"
   ]
  },
  {
   "cell_type": "code",
   "execution_count": null,
   "metadata": {},
   "outputs": [],
   "source": []
  }
 ],
 "metadata": {
  "kernelspec": {
   "display_name": "pct",
   "language": "python",
   "name": "python3"
  },
  "language_info": {
   "codemirror_mode": {
    "name": "ipython",
    "version": 3
   },
   "file_extension": ".py",
   "mimetype": "text/x-python",
   "name": "python",
   "nbconvert_exporter": "python",
   "pygments_lexer": "ipython3",
   "version": "3.10.4"
  }
 },
 "nbformat": 4,
 "nbformat_minor": 2
}
