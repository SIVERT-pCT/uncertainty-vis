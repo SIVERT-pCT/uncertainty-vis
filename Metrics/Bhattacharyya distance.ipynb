{
 "cells": [
  {
   "cell_type": "code",
   "execution_count": 1,
   "id": "legendary-preference",
   "metadata": {},
   "outputs": [],
   "source": [
    "import numpy as np\n",
    "from matplotlib import pyplot as plt\n",
    "from matplotlib.gridspec import GridSpec"
   ]
  },
  {
   "cell_type": "markdown",
   "id": "mathematical-consultancy",
   "metadata": {},
   "source": [
    "# Bhattacharyya distance\n",
    "\n",
    "\\begin{align}\n",
    "    D_{B}(p,q) &= -\\ln \\left(BC(p,q)\\right) \\\\\n",
    "    BC(p,q) &= \\sum _{{x\\in X}}{\\sqrt  {p(x)q(x)}}\n",
    "\\end{align}\n",
    "In the case of normal distributions:\n",
    "\\begin{align}\n",
    "    D_{B}(p,q)={\\frac  {1}{4}}\\ln \\left({\\frac  14}\\left({\\frac  {\\sigma _{p}^{2}}{\\sigma _{q}^{2}}}+{\\frac  {\\sigma _{q}^{2}}{\\sigma _{p}^{2}}}+2\\right)\\right)+{\\frac  {1}{4}}\\left({\\frac  {(\\mu _{p}-\\mu _{q})^{{2}}}{\\sigma _{p}^{2}+\\sigma _{q}^{2}}}\\right)\n",
    "\\end{align}"
   ]
  },
  {
   "cell_type": "code",
   "execution_count": 27,
   "id": "assumed-africa",
   "metadata": {},
   "outputs": [],
   "source": [
    "def bhattacharyya_distance(pdf1, pdf2):\n",
    "    return - np.log( np.sum( np.sqrt( pdf1 * pdf2 ) ) )\n",
    "\n",
    "def bhattacharyya_coefficent(pdf1, pdf2):\n",
    "    return np.sum( np.sqrt( pdf1 * pdf2 ) )"
   ]
  },
  {
   "cell_type": "code",
   "execution_count": 41,
   "id": "grateful-matthew",
   "metadata": {},
   "outputs": [
    {
     "name": "stdout",
     "output_type": "stream",
     "text": [
      "distance: -1.3268539294718973\n",
      "overlapping: 3.7691666507236414\n"
     ]
    }
   ],
   "source": [
    "print( 'distance:', bhattacharyya_distance(pdf1, pdf2) )\n",
    "print( 'overlapping:', bhattacharyya_coefficent(pdf1, pdf2))"
   ]
  },
  {
   "cell_type": "markdown",
   "id": "three-setup",
   "metadata": {},
   "source": [
    "## Multivariate normal distributions\n",
    "Let $p_{i}={\\mathcal  {N}}({\\boldsymbol  \\mu }_{i},\\,{\\boldsymbol  \\Sigma }_{i})$ a multivariate normal distribution, the Bhattacharyya distance is then as followed:\n",
    "\\begin{align}\n",
    "    D_{B} &= {1 \\over 8}({\\boldsymbol  \\mu }_{1}-{\\boldsymbol  \\mu }_{2})^{T}{\\boldsymbol  \\Sigma }^{{-1}}({\\boldsymbol  \\mu }_{1}-{\\boldsymbol  \\mu }_{2})+{1 \\over 2}\\ln \\,\\left({\\det {\\boldsymbol  \\Sigma } \\over {\\sqrt  {\\det {\\boldsymbol  \\Sigma }_{1}\\,\\det {\\boldsymbol  \\Sigma }_{2}}}}\\right), \\\\\n",
    "    {\\boldsymbol  \\Sigma } &= {{\\boldsymbol  \\Sigma }_{1}+{\\boldsymbol  \\Sigma }_{2} \\over 2}.\n",
    "\\end{align}"
   ]
  },
  {
   "cell_type": "code",
   "execution_count": null,
   "id": "under-access",
   "metadata": {},
   "outputs": [],
   "source": [
    "# TODO"
   ]
  },
  {
   "cell_type": "markdown",
   "id": "reserved-group",
   "metadata": {},
   "source": [
    "# Bhattacharyya coefficient\n",
    "The Bhattacharyya coefficient is an approximate measurement of the amount of overlap between two statistical samples.\n",
    "\\begin{align}\n",
    "    BC({\\mathbf  {p}},{\\mathbf  {q}})=\\sum _{{i=1}}^{n}{\\sqrt  {p_{i}q_{i}}}\n",
    "\\end{align}"
   ]
  },
  {
   "cell_type": "code",
   "execution_count": null,
   "id": "natural-sterling",
   "metadata": {},
   "outputs": [],
   "source": []
  }
 ],
 "metadata": {
  "kernelspec": {
   "display_name": "Python 3.10.4 ('pct')",
   "language": "python",
   "name": "python3"
  },
  "language_info": {
   "codemirror_mode": {
    "name": "ipython",
    "version": 3
   },
   "file_extension": ".py",
   "mimetype": "text/x-python",
   "name": "python",
   "nbconvert_exporter": "python",
   "pygments_lexer": "ipython3",
   "version": "3.10.4"
  },
  "vscode": {
   "interpreter": {
    "hash": "1313183b19501a2416bbc9ce49d479f35a972677788ec3c0759d999f6a401c4e"
   }
  }
 },
 "nbformat": 4,
 "nbformat_minor": 5
}
