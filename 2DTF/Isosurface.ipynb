{
 "cells": [
  {
   "cell_type": "code",
   "execution_count": 1,
   "metadata": {},
   "outputs": [],
   "source": [
    "import numpy as np\n",
    "import pandas as pd\n",
    "from scipy import special\n",
    "from matplotlib import pyplot as plt\n",
    "import ipywidgets as widgets\n",
    "import tabulate\n",
    "import tikzmagic\n",
    "%load_ext tikzmagic"
   ]
  },
  {
   "cell_type": "code",
   "execution_count": 17,
   "metadata": {
    "vscode": {
     "languageId": "latex"
    }
   },
   "outputs": [
    {
     "data": {
      "image/svg+xml": [
       "<svg xmlns=\"http://www.w3.org/2000/svg\" xmlns:xlink=\"http://www.w3.org/1999/xlink\" width=\"600px\" height=\"400px\" viewBox=\"0 0 131.465 146.735\" version=\"1.1\">\n",
       "<defs>\n",
       "<g>\n",
       "<symbol overflow=\"visible\" id=\"glyph0-0\">\n",
       "<path style=\"stroke:none;\" d=\"\"/>\n",
       "</symbol>\n",
       "<symbol overflow=\"visible\" id=\"glyph0-1\">\n",
       "<path style=\"stroke:none;\" d=\"M 2.296875 -3.5 C 2.359375 -3.703125 2.453125 -4.09375 2.453125 -4.140625 C 2.453125 -4.3125 2.328125 -4.40625 2.15625 -4.40625 C 2.140625 -4.40625 1.859375 -4.390625 1.765625 -4.046875 L 0.328125 1.71875 C 0.296875 1.84375 0.296875 1.859375 0.296875 1.890625 C 0.296875 2.03125 0.40625 2.15625 0.578125 2.15625 C 0.78125 2.15625 0.90625 1.96875 0.921875 1.9375 C 0.96875 1.859375 1.09375 1.328125 1.46875 -0.203125 C 1.796875 0.0625 2.25 0.109375 2.4375 0.109375 C 3.140625 0.109375 3.53125 -0.34375 3.765625 -0.625 C 3.859375 -0.171875 4.234375 0.109375 4.671875 0.109375 C 5.015625 0.109375 5.25 -0.125 5.40625 -0.4375 C 5.578125 -0.796875 5.703125 -1.40625 5.703125 -1.421875 C 5.703125 -1.53125 5.609375 -1.53125 5.578125 -1.53125 C 5.484375 -1.53125 5.46875 -1.484375 5.4375 -1.34375 C 5.28125 -0.703125 5.09375 -0.109375 4.6875 -0.109375 C 4.421875 -0.109375 4.390625 -0.375 4.390625 -0.5625 C 4.390625 -0.78125 4.5 -1.25 4.578125 -1.609375 L 4.859375 -2.6875 C 4.890625 -2.828125 5 -3.203125 5.03125 -3.359375 C 5.078125 -3.59375 5.1875 -3.96875 5.1875 -4.03125 C 5.1875 -4.203125 5.046875 -4.296875 4.890625 -4.296875 C 4.84375 -4.296875 4.578125 -4.28125 4.5 -3.953125 L 4.03125 -2.078125 C 3.921875 -1.578125 3.8125 -1.171875 3.78125 -1.0625 C 3.765625 -1.015625 3.296875 -0.109375 2.484375 -0.109375 C 1.984375 -0.109375 1.75 -0.4375 1.75 -0.984375 C 1.75 -1.265625 1.8125 -1.546875 1.890625 -1.828125 Z M 2.296875 -3.5 \"/>\n",
       "</symbol>\n",
       "<symbol overflow=\"visible\" id=\"glyph0-2\">\n",
       "<path style=\"stroke:none;\" d=\"M 5.15625 -3.71875 C 5.296875 -3.71875 5.65625 -3.71875 5.65625 -4.0625 C 5.65625 -4.296875 5.4375 -4.296875 5.265625 -4.296875 L 2.984375 -4.296875 C 1.484375 -4.296875 0.375 -2.65625 0.375 -1.46875 C 0.375 -0.59375 0.96875 0.109375 1.875 0.109375 C 3.046875 0.109375 4.375 -1.09375 4.375 -2.625 C 4.375 -2.796875 4.375 -3.28125 4.0625 -3.71875 Z M 1.890625 -0.109375 C 1.390625 -0.109375 1 -0.46875 1 -1.1875 C 1 -1.484375 1.109375 -2.296875 1.46875 -2.890625 C 1.890625 -3.578125 2.484375 -3.71875 2.828125 -3.71875 C 3.65625 -3.71875 3.734375 -3.0625 3.734375 -2.75 C 3.734375 -2.28125 3.53125 -1.46875 3.203125 -0.953125 C 2.8125 -0.375 2.265625 -0.109375 1.890625 -0.109375 Z M 1.890625 -0.109375 \"/>\n",
       "</symbol>\n",
       "<symbol overflow=\"visible\" id=\"glyph0-3\">\n",
       "<path style=\"stroke:none;\" d=\"M 4.53125 -4.984375 C 4.53125 -5.640625 4.359375 -7.03125 3.34375 -7.03125 C 1.953125 -7.03125 0.421875 -4.21875 0.421875 -1.9375 C 0.421875 -1 0.703125 0.109375 1.609375 0.109375 C 3.015625 0.109375 4.53125 -2.75 4.53125 -4.984375 Z M 1.46875 -3.625 C 1.640625 -4.25 1.84375 -5.046875 2.25 -5.765625 C 2.515625 -6.25 2.875 -6.8125 3.328125 -6.8125 C 3.8125 -6.8125 3.875 -6.171875 3.875 -5.609375 C 3.875 -5.109375 3.796875 -4.609375 3.5625 -3.625 Z M 3.46875 -3.296875 C 3.359375 -2.84375 3.15625 -2 2.765625 -1.28125 C 2.421875 -0.59375 2.046875 -0.109375 1.609375 -0.109375 C 1.28125 -0.109375 1.078125 -0.40625 1.078125 -1.328125 C 1.078125 -1.75 1.140625 -2.328125 1.390625 -3.296875 Z M 3.46875 -3.296875 \"/>\n",
       "</symbol>\n",
       "<symbol overflow=\"visible\" id=\"glyph0-4\">\n",
       "<path style=\"stroke:none;\" d=\"M 0.453125 1.21875 C 0.375 1.5625 0.34375 1.625 -0.09375 1.625 C -0.203125 1.625 -0.3125 1.625 -0.3125 1.8125 C -0.3125 1.890625 -0.265625 1.9375 -0.1875 1.9375 C 0.078125 1.9375 0.375 1.90625 0.640625 1.90625 C 0.984375 1.90625 1.3125 1.9375 1.640625 1.9375 C 1.6875 1.9375 1.8125 1.9375 1.8125 1.734375 C 1.8125 1.625 1.71875 1.625 1.578125 1.625 C 1.078125 1.625 1.078125 1.5625 1.078125 1.46875 C 1.078125 1.34375 1.5 -0.28125 1.5625 -0.53125 C 1.6875 -0.234375 1.96875 0.109375 2.484375 0.109375 C 3.640625 0.109375 4.890625 -1.34375 4.890625 -2.8125 C 4.890625 -3.75 4.3125 -4.40625 3.5625 -4.40625 C 3.0625 -4.40625 2.578125 -4.046875 2.25 -3.65625 C 2.15625 -4.203125 1.71875 -4.40625 1.359375 -4.40625 C 0.890625 -4.40625 0.703125 -4.015625 0.625 -3.84375 C 0.4375 -3.5 0.3125 -2.90625 0.3125 -2.875 C 0.3125 -2.765625 0.40625 -2.765625 0.421875 -2.765625 C 0.53125 -2.765625 0.53125 -2.78125 0.59375 -3 C 0.765625 -3.703125 0.96875 -4.1875 1.328125 -4.1875 C 1.5 -4.1875 1.640625 -4.109375 1.640625 -3.734375 C 1.640625 -3.5 1.609375 -3.390625 1.5625 -3.21875 Z M 2.203125 -3.109375 C 2.265625 -3.375 2.546875 -3.65625 2.71875 -3.8125 C 3.078125 -4.109375 3.359375 -4.1875 3.53125 -4.1875 C 3.921875 -4.1875 4.171875 -3.84375 4.171875 -3.25 C 4.171875 -2.65625 3.84375 -1.515625 3.65625 -1.140625 C 3.3125 -0.4375 2.84375 -0.109375 2.46875 -0.109375 C 1.8125 -0.109375 1.6875 -0.9375 1.6875 -1 C 1.6875 -1.015625 1.6875 -1.03125 1.71875 -1.15625 Z M 2.203125 -3.109375 \"/>\n",
       "</symbol>\n",
       "<symbol overflow=\"visible\" id=\"glyph1-0\">\n",
       "<path style=\"stroke:none;\" d=\"\"/>\n",
       "</symbol>\n",
       "<symbol overflow=\"visible\" id=\"glyph1-1\">\n",
       "<path style=\"stroke:none;\" d=\"M 2.328125 -4.4375 C 2.328125 -4.625 2.328125 -4.625 2.125 -4.625 C 1.671875 -4.1875 1.046875 -4.1875 0.765625 -4.1875 L 0.765625 -3.9375 C 0.921875 -3.9375 1.390625 -3.9375 1.765625 -4.125 L 1.765625 -0.578125 C 1.765625 -0.34375 1.765625 -0.25 1.078125 -0.25 L 0.8125 -0.25 L 0.8125 0 C 0.9375 0 1.796875 -0.03125 2.046875 -0.03125 C 2.265625 -0.03125 3.140625 0 3.296875 0 L 3.296875 -0.25 L 3.03125 -0.25 C 2.328125 -0.25 2.328125 -0.34375 2.328125 -0.578125 Z M 2.328125 -4.4375 \"/>\n",
       "</symbol>\n",
       "<symbol overflow=\"visible\" id=\"glyph1-2\">\n",
       "<path style=\"stroke:none;\" d=\"M 3.515625 -1.265625 L 3.28125 -1.265625 C 3.265625 -1.109375 3.1875 -0.703125 3.09375 -0.640625 C 3.046875 -0.59375 2.515625 -0.59375 2.40625 -0.59375 L 1.125 -0.59375 C 1.859375 -1.234375 2.109375 -1.4375 2.515625 -1.765625 C 3.03125 -2.171875 3.515625 -2.609375 3.515625 -3.265625 C 3.515625 -4.109375 2.78125 -4.625 1.890625 -4.625 C 1.03125 -4.625 0.4375 -4.015625 0.4375 -3.375 C 0.4375 -3.03125 0.734375 -2.984375 0.8125 -2.984375 C 0.96875 -2.984375 1.171875 -3.109375 1.171875 -3.359375 C 1.171875 -3.484375 1.125 -3.734375 0.765625 -3.734375 C 0.984375 -4.21875 1.453125 -4.375 1.78125 -4.375 C 2.484375 -4.375 2.84375 -3.828125 2.84375 -3.265625 C 2.84375 -2.65625 2.40625 -2.1875 2.1875 -1.9375 L 0.515625 -0.265625 C 0.4375 -0.203125 0.4375 -0.1875 0.4375 0 L 3.3125 0 Z M 3.515625 -1.265625 \"/>\n",
       "</symbol>\n",
       "<symbol overflow=\"visible\" id=\"glyph2-0\">\n",
       "<path style=\"stroke:none;\" d=\"\"/>\n",
       "</symbol>\n",
       "<symbol overflow=\"visible\" id=\"glyph2-1\">\n",
       "<path style=\"stroke:none;\" d=\"M -3.5 -2.296875 C -3.703125 -2.359375 -4.09375 -2.453125 -4.140625 -2.453125 C -4.3125 -2.453125 -4.40625 -2.328125 -4.40625 -2.15625 C -4.40625 -2.140625 -4.390625 -1.859375 -4.046875 -1.765625 L 1.71875 -0.328125 C 1.84375 -0.296875 1.859375 -0.296875 1.890625 -0.296875 C 2.03125 -0.296875 2.15625 -0.40625 2.15625 -0.578125 C 2.15625 -0.78125 1.96875 -0.90625 1.9375 -0.921875 C 1.859375 -0.96875 1.328125 -1.09375 -0.203125 -1.46875 C 0.0625 -1.796875 0.109375 -2.25 0.109375 -2.4375 C 0.109375 -3.140625 -0.34375 -3.53125 -0.625 -3.765625 C -0.171875 -3.859375 0.109375 -4.234375 0.109375 -4.671875 C 0.109375 -5.015625 -0.125 -5.25 -0.4375 -5.40625 C -0.796875 -5.578125 -1.40625 -5.703125 -1.421875 -5.703125 C -1.53125 -5.703125 -1.53125 -5.609375 -1.53125 -5.578125 C -1.53125 -5.484375 -1.484375 -5.46875 -1.34375 -5.4375 C -0.703125 -5.28125 -0.109375 -5.09375 -0.109375 -4.6875 C -0.109375 -4.421875 -0.375 -4.390625 -0.5625 -4.390625 C -0.78125 -4.390625 -1.25 -4.5 -1.609375 -4.578125 L -2.6875 -4.859375 C -2.828125 -4.890625 -3.203125 -5 -3.359375 -5.03125 C -3.59375 -5.078125 -3.96875 -5.1875 -4.03125 -5.1875 C -4.203125 -5.1875 -4.296875 -5.046875 -4.296875 -4.890625 C -4.296875 -4.84375 -4.28125 -4.578125 -3.953125 -4.5 L -2.078125 -4.03125 C -1.578125 -3.921875 -1.171875 -3.8125 -1.0625 -3.78125 C -1.015625 -3.765625 -0.109375 -3.296875 -0.109375 -2.484375 C -0.109375 -1.984375 -0.4375 -1.75 -0.984375 -1.75 C -1.265625 -1.75 -1.546875 -1.8125 -1.828125 -1.890625 Z M -3.5 -2.296875 \"/>\n",
       "</symbol>\n",
       "<symbol overflow=\"visible\" id=\"glyph2-2\">\n",
       "<path style=\"stroke:none;\" d=\"M -3.71875 -5.15625 C -3.71875 -5.296875 -3.71875 -5.65625 -4.0625 -5.65625 C -4.296875 -5.65625 -4.296875 -5.4375 -4.296875 -5.265625 L -4.296875 -2.984375 C -4.296875 -1.484375 -2.65625 -0.375 -1.46875 -0.375 C -0.59375 -0.375 0.109375 -0.96875 0.109375 -1.875 C 0.109375 -3.046875 -1.09375 -4.375 -2.625 -4.375 C -2.796875 -4.375 -3.28125 -4.375 -3.71875 -4.0625 Z M -0.109375 -1.890625 C -0.109375 -1.390625 -0.46875 -1 -1.1875 -1 C -1.484375 -1 -2.296875 -1.109375 -2.890625 -1.46875 C -3.578125 -1.890625 -3.71875 -2.484375 -3.71875 -2.828125 C -3.71875 -3.65625 -3.0625 -3.734375 -2.75 -3.734375 C -2.28125 -3.734375 -1.46875 -3.53125 -0.953125 -3.203125 C -0.375 -2.8125 -0.109375 -2.265625 -0.109375 -1.890625 Z M -0.109375 -1.890625 \"/>\n",
       "</symbol>\n",
       "<symbol overflow=\"visible\" id=\"glyph3-0\">\n",
       "<path style=\"stroke:none;\" d=\"\"/>\n",
       "</symbol>\n",
       "<symbol overflow=\"visible\" id=\"glyph3-1\">\n",
       "<path style=\"stroke:none;\" d=\"M -4.4375 -2.328125 C -4.625 -2.328125 -4.625 -2.328125 -4.625 -2.125 C -4.1875 -1.671875 -4.1875 -1.046875 -4.1875 -0.765625 L -3.9375 -0.765625 C -3.9375 -0.921875 -3.9375 -1.390625 -4.125 -1.765625 L -0.578125 -1.765625 C -0.34375 -1.765625 -0.25 -1.765625 -0.25 -1.078125 L -0.25 -0.8125 L 0 -0.8125 C 0 -0.9375 -0.03125 -1.796875 -0.03125 -2.046875 C -0.03125 -2.265625 0 -3.140625 0 -3.296875 L -0.25 -3.296875 L -0.25 -3.03125 C -0.25 -2.328125 -0.34375 -2.328125 -0.578125 -2.328125 Z M -4.4375 -2.328125 \"/>\n",
       "</symbol>\n",
       "<symbol overflow=\"visible\" id=\"glyph3-2\">\n",
       "<path style=\"stroke:none;\" d=\"M -1.265625 -3.515625 L -1.265625 -3.28125 C -1.109375 -3.265625 -0.703125 -3.1875 -0.640625 -3.09375 C -0.59375 -3.046875 -0.59375 -2.515625 -0.59375 -2.40625 L -0.59375 -1.125 C -1.234375 -1.859375 -1.4375 -2.109375 -1.765625 -2.515625 C -2.171875 -3.03125 -2.609375 -3.515625 -3.265625 -3.515625 C -4.109375 -3.515625 -4.625 -2.78125 -4.625 -1.890625 C -4.625 -1.03125 -4.015625 -0.4375 -3.375 -0.4375 C -3.03125 -0.4375 -2.984375 -0.734375 -2.984375 -0.8125 C -2.984375 -0.96875 -3.109375 -1.171875 -3.359375 -1.171875 C -3.484375 -1.171875 -3.734375 -1.125 -3.734375 -0.765625 C -4.21875 -0.984375 -4.375 -1.453125 -4.375 -1.78125 C -4.375 -2.484375 -3.828125 -2.84375 -3.265625 -2.84375 C -2.65625 -2.84375 -2.1875 -2.40625 -1.9375 -2.1875 L -0.265625 -0.515625 C -0.203125 -0.4375 -0.1875 -0.4375 0 -0.4375 L 0 -3.3125 Z M -1.265625 -3.515625 \"/>\n",
       "</symbol>\n",
       "<symbol overflow=\"visible\" id=\"glyph4-0\">\n",
       "<path style=\"stroke:none;\" d=\"\"/>\n",
       "</symbol>\n",
       "<symbol overflow=\"visible\" id=\"glyph4-1\">\n",
       "<path style=\"stroke:none;\" d=\"M -2.296875 -4.078125 L -2.296875 -6.859375 C -2.296875 -7 -2.296875 -7.1875 -2.5 -7.1875 C -2.6875 -7.1875 -2.6875 -7 -2.6875 -6.859375 L -2.6875 -4.078125 L -5.484375 -4.078125 C -5.625 -4.078125 -5.8125 -4.078125 -5.8125 -3.875 C -5.8125 -3.671875 -5.625 -3.671875 -5.484375 -3.671875 L -2.6875 -3.671875 L -2.6875 -0.890625 C -2.6875 -0.75 -2.6875 -0.5625 -2.5 -0.5625 C -2.296875 -0.5625 -2.296875 -0.75 -2.296875 -0.890625 L -2.296875 -3.671875 L 0.5 -3.671875 C 0.640625 -3.671875 0.828125 -3.671875 0.828125 -3.875 C 0.828125 -4.078125 0.640625 -4.078125 0.5 -4.078125 Z M -2.296875 -4.078125 \"/>\n",
       "</symbol>\n",
       "</g>\n",
       "</defs>\n",
       "<g id=\"surface1\">\n",
       "<path style=\"fill:none;stroke-width:0.3985;stroke-linecap:butt;stroke-linejoin:miter;stroke:rgb(0%,0%,0%);stroke-opacity:1;stroke-miterlimit:10;\" d=\"M 0.00109375 0.00115625 L 99.169062 0.00115625 \" transform=\"matrix(1,0,0,-1,18.995,105.091)\"/>\n",
       "<path style=\"fill:none;stroke-width:0.31879;stroke-linecap:round;stroke-linejoin:round;stroke:rgb(0%,0%,0%);stroke-opacity:1;stroke-miterlimit:10;\" d=\"M -1.19565 1.594906 C -1.094088 0.99725 -0.0003375 0.0988125 0.300444 0.00115625 C -0.0003375 -0.100406 -1.094088 -0.994938 -1.19565 -1.592594 \" transform=\"matrix(1,0,0,-1,118.1644,105.091)\"/>\n",
       "<g style=\"fill:rgb(0%,0%,0%);fill-opacity:1;\">\n",
       "  <use xlink:href=\"#glyph0-1\" x=\"122.141\" y=\"106.267\"/>\n",
       "</g>\n",
       "<path style=\"fill:none;stroke-width:0.3985;stroke-linecap:butt;stroke-linejoin:miter;stroke:rgb(0%,0%,0%);stroke-opacity:1;stroke-miterlimit:10;\" d=\"M 0.00109375 0.00115625 L 0.00109375 99.169125 \" transform=\"matrix(1,0,0,-1,18.995,105.091)\"/>\n",
       "<path style=\"fill:none;stroke-width:0.31879;stroke-linecap:round;stroke-linejoin:round;stroke:rgb(0%,0%,0%);stroke-opacity:1;stroke-miterlimit:10;\" d=\"M -1.195588 1.592656 C -1.094025 0.995 -0.000275 0.100469 0.300506 -0.00109375 C -0.000275 -0.09875 -1.094025 -0.997188 -1.195588 -1.594844 \" transform=\"matrix(0,-1,-1,0,18.995,5.9216)\"/>\n",
       "<g style=\"fill:rgb(0%,0%,0%);fill-opacity:1;\">\n",
       "  <use xlink:href=\"#glyph0-2\" x=\"9.425\" y=\"7.61\"/>\n",
       "</g>\n",
       "<path style=\"fill:none;stroke-width:0.3985;stroke-linecap:butt;stroke-linejoin:miter;stroke:rgb(0%,0%,0%);stroke-opacity:1;stroke-dasharray:2.98883,2.98883;stroke-miterlimit:10;\" d=\"M 59.778438 0.00115625 L 59.778438 99.626156 \" transform=\"matrix(1,0,0,-1,18.995,105.091)\"/>\n",
       "<g style=\"fill:rgb(0%,0%,0%);fill-opacity:1;\">\n",
       "  <use xlink:href=\"#glyph0-3\" x=\"76.294\" y=\"115.529\"/>\n",
       "</g>\n",
       "<path style=\" stroke:none;fill-rule:nonzero;fill:rgb(100%,0%,0%);fill-opacity:1;\" d=\"M 60.253906 65.238281 C 60.253906 64.460938 59.625 63.832031 58.847656 63.832031 C 58.066406 63.832031 57.4375 64.460938 57.4375 65.238281 C 57.4375 66.019531 58.066406 66.648438 58.847656 66.648438 C 59.625 66.648438 60.253906 66.019531 60.253906 65.238281 Z M 60.253906 65.238281 \"/>\n",
       "<g style=\"fill:rgb(0%,0%,0%);fill-opacity:1;\">\n",
       "  <use xlink:href=\"#glyph0-4\" x=\"54.105\" y=\"59.784\"/>\n",
       "</g>\n",
       "<g style=\"fill:rgb(0%,0%,0%);fill-opacity:1;\">\n",
       "  <use xlink:href=\"#glyph1-1\" x=\"59.117\" y=\"61.278\"/>\n",
       "</g>\n",
       "<path style=\"fill:none;stroke-width:0.3985;stroke-linecap:butt;stroke-linejoin:miter;stroke:rgb(0%,0%,0%);stroke-opacity:1;stroke-miterlimit:10;\" d=\"M 25.204219 39.852719 L 54.497188 39.852719 \" transform=\"matrix(1,0,0,-1,18.995,105.091)\"/>\n",
       "<path style=\"fill:none;stroke-width:0.3985;stroke-linecap:square;stroke-linejoin:miter;stroke:rgb(0%,0%,0%);stroke-opacity:1;stroke-miterlimit:10;\" d=\"M 0.0992175 -2.591492 L 0.0992175 2.592101 \" transform=\"matrix(-1,0,0,1,44.20078,65.23993)\"/>\n",
       "<path style=\"fill:none;stroke-width:0.3985;stroke-linecap:square;stroke-linejoin:miter;stroke:rgb(0%,0%,0%);stroke-opacity:1;stroke-miterlimit:10;\" d=\"M 0.0984937 -2.592101 L 0.0984937 2.591492 \" transform=\"matrix(1,0,0,-1,73.49135,65.23993)\"/>\n",
       "<path style=\"fill:none;stroke-width:0.3985;stroke-linecap:butt;stroke-linejoin:miter;stroke:rgb(0%,0%,0%);stroke-opacity:1;stroke-miterlimit:10;\" d=\"M -1.991094 39.852719 L 1.993281 39.852719 \" transform=\"matrix(1,0,0,-1,18.995,105.091)\"/>\n",
       "<g style=\"fill:rgb(0%,0%,0%);fill-opacity:1;\">\n",
       "  <use xlink:href=\"#glyph0-2\" x=\"3.321\" y=\"66.638\"/>\n",
       "</g>\n",
       "<g style=\"fill:rgb(0%,0%,0%);fill-opacity:1;\">\n",
       "  <use xlink:href=\"#glyph1-1\" x=\"9.013\" y=\"68.133\"/>\n",
       "</g>\n",
       "<path style=\"fill:none;stroke-width:0.3985;stroke-linecap:butt;stroke-linejoin:miter;stroke:rgb(0%,0%,0%);stroke-opacity:1;stroke-miterlimit:10;\" d=\"M 49.813594 -1.991031 L 49.813594 1.993344 \" transform=\"matrix(1,0,0,-1,18.995,105.091)\"/>\n",
       "<g style=\"fill:rgb(0%,0%,0%);fill-opacity:1;\">\n",
       "  <use xlink:href=\"#glyph2-1\" x=\"70.745\" y=\"143.414\"/>\n",
       "</g>\n",
       "<g style=\"fill:rgb(0%,0%,0%);fill-opacity:1;\">\n",
       "  <use xlink:href=\"#glyph3-1\" x=\"72.24\" y=\"137.411\"/>\n",
       "</g>\n",
       "<g style=\"fill:rgb(0%,0%,0%);fill-opacity:1;\">\n",
       "  <use xlink:href=\"#glyph4-1\" x=\"70.745\" y=\"130.727\"/>\n",
       "</g>\n",
       "<g style=\"fill:rgb(0%,0%,0%);fill-opacity:1;\">\n",
       "  <use xlink:href=\"#glyph2-2\" x=\"70.745\" y=\"120.765\"/>\n",
       "</g>\n",
       "<g style=\"fill:rgb(0%,0%,0%);fill-opacity:1;\">\n",
       "  <use xlink:href=\"#glyph3-1\" x=\"72.24\" y=\"115.072\"/>\n",
       "</g>\n",
       "<path style=\" stroke:none;fill-rule:nonzero;fill:rgb(100%,0%,0%);fill-opacity:1;\" d=\"M 60.253906 35.351562 C 60.253906 34.574219 59.625 33.941406 58.847656 33.941406 C 58.066406 33.941406 57.4375 34.574219 57.4375 35.351562 C 57.4375 36.128906 58.066406 36.761719 58.847656 36.761719 C 59.625 36.761719 60.253906 36.128906 60.253906 35.351562 Z M 60.253906 35.351562 \"/>\n",
       "<g style=\"fill:rgb(0%,0%,0%);fill-opacity:1;\">\n",
       "  <use xlink:href=\"#glyph0-4\" x=\"54.105\" y=\"29.896\"/>\n",
       "</g>\n",
       "<g style=\"fill:rgb(0%,0%,0%);fill-opacity:1;\">\n",
       "  <use xlink:href=\"#glyph1-2\" x=\"59.117\" y=\"31.39\"/>\n",
       "</g>\n",
       "<path style=\"fill:none;stroke-width:0.3985;stroke-linecap:butt;stroke-linejoin:miter;stroke:rgb(0%,0%,0%);stroke-opacity:1;stroke-miterlimit:10;\" d=\"M 10.262813 69.739437 L 69.438594 69.739437 \" transform=\"matrix(1,0,0,-1,18.995,105.091)\"/>\n",
       "<path style=\"fill:none;stroke-width:0.3985;stroke-linecap:square;stroke-linejoin:miter;stroke:rgb(0%,0%,0%);stroke-opacity:1;stroke-miterlimit:10;\" d=\"M 0.10038 -2.589901 L 0.10038 2.589786 \" transform=\"matrix(-1,0,0,1,29.25663,35.35162)\"/>\n",
       "<path style=\"fill:none;stroke-width:0.3985;stroke-linecap:square;stroke-linejoin:miter;stroke:rgb(0%,0%,0%);stroke-opacity:1;stroke-miterlimit:10;\" d=\"M 0.0996562 -2.589786 L 0.0996562 2.589901 \" transform=\"matrix(1,0,0,-1,88.4355,35.35162)\"/>\n",
       "<path style=\"fill:none;stroke-width:0.3985;stroke-linecap:butt;stroke-linejoin:miter;stroke:rgb(0%,0%,0%);stroke-opacity:1;stroke-miterlimit:10;\" d=\"M -1.991094 69.739437 L 1.993281 69.739437 \" transform=\"matrix(1,0,0,-1,18.995,105.091)\"/>\n",
       "<g style=\"fill:rgb(0%,0%,0%);fill-opacity:1;\">\n",
       "  <use xlink:href=\"#glyph0-2\" x=\"3.321\" y=\"36.75\"/>\n",
       "</g>\n",
       "<g style=\"fill:rgb(0%,0%,0%);fill-opacity:1;\">\n",
       "  <use xlink:href=\"#glyph1-2\" x=\"9.013\" y=\"38.245\"/>\n",
       "</g>\n",
       "<path style=\"fill:none;stroke-width:0.3985;stroke-linecap:butt;stroke-linejoin:miter;stroke:rgb(0%,0%,0%);stroke-opacity:1;stroke-miterlimit:10;\" d=\"M 69.739375 -1.991031 L 69.739375 1.993344 \" transform=\"matrix(1,0,0,-1,18.995,105.091)\"/>\n",
       "<g style=\"fill:rgb(0%,0%,0%);fill-opacity:1;\">\n",
       "  <use xlink:href=\"#glyph2-1\" x=\"90.671\" y=\"143.414\"/>\n",
       "</g>\n",
       "<g style=\"fill:rgb(0%,0%,0%);fill-opacity:1;\">\n",
       "  <use xlink:href=\"#glyph3-2\" x=\"92.166\" y=\"137.411\"/>\n",
       "</g>\n",
       "<g style=\"fill:rgb(0%,0%,0%);fill-opacity:1;\">\n",
       "  <use xlink:href=\"#glyph4-1\" x=\"90.671\" y=\"130.728\"/>\n",
       "</g>\n",
       "<g style=\"fill:rgb(0%,0%,0%);fill-opacity:1;\">\n",
       "  <use xlink:href=\"#glyph2-2\" x=\"90.671\" y=\"120.765\"/>\n",
       "</g>\n",
       "<g style=\"fill:rgb(0%,0%,0%);fill-opacity:1;\">\n",
       "  <use xlink:href=\"#glyph3-2\" x=\"92.166\" y=\"115.073\"/>\n",
       "</g>\n",
       "</g>\n",
       "</svg>"
      ]
     },
     "metadata": {
      "isolated": "true"
     },
     "output_type": "display_data"
    }
   ],
   "source": [
    "%%tikz -s 600,400 -f svg -l positioning,calc\n",
    "\n",
    "\\draw[->] (0,0) -- (100pt,0) node[anchor=west] {$\\mu$};\n",
    "\\draw[->] (0,0) -- (0,100pt) node[anchor=east] {$\\sigma$};\n",
    "\n",
    "\\draw[dashed] (60pt,0) node[anchor=north] {$\\theta$} -- (60pt, 100pt);\n",
    "\n",
    "\\node[circle,fill=red,red, inner sep=1] (p1) at (40pt,40pt) {};\n",
    "\\node[anchor=south] at (p1) {$p_1$};\n",
    "\\draw[|-|] ($(p1)-(15pt,0)$) -- ($(p1)+(15pt,0)$);\n",
    "\\draw (-2pt,0 |- p1) node[anchor=east] {$\\sigma_1$} -- (2pt,0 |- p1);\n",
    "\n",
    "\\draw ($ (0,-2pt -| p1) + (10pt,0) $) node[anchor=east,rotate=90] {$\\mu_1 + \\sigma_1$} -- ($ (0,2pt -| p1) + (10pt,0) $);\n",
    "\n",
    "\\node[circle,fill=red,red, inner sep=1] (p2) at (40pt,70pt) {};\n",
    "\\node[anchor=south] at (p2) {$p_2$};\n",
    "\\draw[|-|] ($(p2)-(30pt,0)$) -- ($(p2)+(30pt,0)$);\n",
    "\\draw (-2pt,0 |- p2) node[anchor=east] {$\\sigma_2$} -- (2pt,0 |- p2);\n",
    "\n",
    "\\draw ($ (0,-2pt -| p2) + (30pt,0) $) node[anchor=east,rotate=90] {$\\mu_2 + \\sigma_2$} -- ($ (0,2pt -| p2) + (30pt,0) $);\n"
   ]
  },
  {
   "cell_type": "code",
   "execution_count": 16,
   "metadata": {
    "vscode": {
     "languageId": "latex"
    }
   },
   "outputs": [
    {
     "data": {
      "image/svg+xml": [
       "<svg xmlns=\"http://www.w3.org/2000/svg\" xmlns:xlink=\"http://www.w3.org/1999/xlink\" width=\"600px\" height=\"400px\" viewBox=\"0 0 131.465 118.85\" version=\"1.1\">\n",
       "<defs>\n",
       "<g>\n",
       "<symbol overflow=\"visible\" id=\"glyph0-0\">\n",
       "<path style=\"stroke:none;\" d=\"\"/>\n",
       "</symbol>\n",
       "<symbol overflow=\"visible\" id=\"glyph0-1\">\n",
       "<path style=\"stroke:none;\" d=\"M 2.296875 -3.5 C 2.359375 -3.703125 2.453125 -4.09375 2.453125 -4.140625 C 2.453125 -4.3125 2.328125 -4.40625 2.15625 -4.40625 C 2.140625 -4.40625 1.859375 -4.390625 1.765625 -4.046875 L 0.328125 1.71875 C 0.296875 1.84375 0.296875 1.859375 0.296875 1.890625 C 0.296875 2.03125 0.40625 2.15625 0.578125 2.15625 C 0.78125 2.15625 0.90625 1.96875 0.921875 1.9375 C 0.96875 1.859375 1.09375 1.328125 1.46875 -0.203125 C 1.796875 0.0625 2.25 0.109375 2.4375 0.109375 C 3.140625 0.109375 3.53125 -0.34375 3.765625 -0.625 C 3.859375 -0.171875 4.234375 0.109375 4.671875 0.109375 C 5.015625 0.109375 5.25 -0.125 5.40625 -0.4375 C 5.578125 -0.796875 5.703125 -1.40625 5.703125 -1.421875 C 5.703125 -1.53125 5.609375 -1.53125 5.578125 -1.53125 C 5.484375 -1.53125 5.46875 -1.484375 5.4375 -1.34375 C 5.28125 -0.703125 5.09375 -0.109375 4.6875 -0.109375 C 4.421875 -0.109375 4.390625 -0.375 4.390625 -0.5625 C 4.390625 -0.78125 4.5 -1.25 4.578125 -1.609375 L 4.859375 -2.6875 C 4.890625 -2.828125 5 -3.203125 5.03125 -3.359375 C 5.078125 -3.59375 5.1875 -3.96875 5.1875 -4.03125 C 5.1875 -4.203125 5.046875 -4.296875 4.890625 -4.296875 C 4.84375 -4.296875 4.578125 -4.28125 4.5 -3.953125 L 4.03125 -2.078125 C 3.921875 -1.578125 3.8125 -1.171875 3.78125 -1.0625 C 3.765625 -1.015625 3.296875 -0.109375 2.484375 -0.109375 C 1.984375 -0.109375 1.75 -0.4375 1.75 -0.984375 C 1.75 -1.265625 1.8125 -1.546875 1.890625 -1.828125 Z M 2.296875 -3.5 \"/>\n",
       "</symbol>\n",
       "<symbol overflow=\"visible\" id=\"glyph0-2\">\n",
       "<path style=\"stroke:none;\" d=\"M 5.15625 -3.71875 C 5.296875 -3.71875 5.65625 -3.71875 5.65625 -4.0625 C 5.65625 -4.296875 5.4375 -4.296875 5.265625 -4.296875 L 2.984375 -4.296875 C 1.484375 -4.296875 0.375 -2.65625 0.375 -1.46875 C 0.375 -0.59375 0.96875 0.109375 1.875 0.109375 C 3.046875 0.109375 4.375 -1.09375 4.375 -2.625 C 4.375 -2.796875 4.375 -3.28125 4.0625 -3.71875 Z M 1.890625 -0.109375 C 1.390625 -0.109375 1 -0.46875 1 -1.1875 C 1 -1.484375 1.109375 -2.296875 1.46875 -2.890625 C 1.890625 -3.578125 2.484375 -3.71875 2.828125 -3.71875 C 3.65625 -3.71875 3.734375 -3.0625 3.734375 -2.75 C 3.734375 -2.28125 3.53125 -1.46875 3.203125 -0.953125 C 2.8125 -0.375 2.265625 -0.109375 1.890625 -0.109375 Z M 1.890625 -0.109375 \"/>\n",
       "</symbol>\n",
       "<symbol overflow=\"visible\" id=\"glyph0-3\">\n",
       "<path style=\"stroke:none;\" d=\"M 4.53125 -4.984375 C 4.53125 -5.640625 4.359375 -7.03125 3.34375 -7.03125 C 1.953125 -7.03125 0.421875 -4.21875 0.421875 -1.9375 C 0.421875 -1 0.703125 0.109375 1.609375 0.109375 C 3.015625 0.109375 4.53125 -2.75 4.53125 -4.984375 Z M 1.46875 -3.625 C 1.640625 -4.25 1.84375 -5.046875 2.25 -5.765625 C 2.515625 -6.25 2.875 -6.8125 3.328125 -6.8125 C 3.8125 -6.8125 3.875 -6.171875 3.875 -5.609375 C 3.875 -5.109375 3.796875 -4.609375 3.5625 -3.625 Z M 3.46875 -3.296875 C 3.359375 -2.84375 3.15625 -2 2.765625 -1.28125 C 2.421875 -0.59375 2.046875 -0.109375 1.609375 -0.109375 C 1.28125 -0.109375 1.078125 -0.40625 1.078125 -1.328125 C 1.078125 -1.75 1.140625 -2.328125 1.390625 -3.296875 Z M 3.46875 -3.296875 \"/>\n",
       "</symbol>\n",
       "<symbol overflow=\"visible\" id=\"glyph0-4\">\n",
       "<path style=\"stroke:none;\" d=\"M 0.453125 1.21875 C 0.375 1.5625 0.34375 1.625 -0.09375 1.625 C -0.203125 1.625 -0.3125 1.625 -0.3125 1.8125 C -0.3125 1.890625 -0.265625 1.9375 -0.1875 1.9375 C 0.078125 1.9375 0.375 1.90625 0.640625 1.90625 C 0.984375 1.90625 1.3125 1.9375 1.640625 1.9375 C 1.6875 1.9375 1.8125 1.9375 1.8125 1.734375 C 1.8125 1.625 1.71875 1.625 1.578125 1.625 C 1.078125 1.625 1.078125 1.5625 1.078125 1.46875 C 1.078125 1.34375 1.5 -0.28125 1.5625 -0.53125 C 1.6875 -0.234375 1.96875 0.109375 2.484375 0.109375 C 3.640625 0.109375 4.890625 -1.34375 4.890625 -2.8125 C 4.890625 -3.75 4.3125 -4.40625 3.5625 -4.40625 C 3.0625 -4.40625 2.578125 -4.046875 2.25 -3.65625 C 2.15625 -4.203125 1.71875 -4.40625 1.359375 -4.40625 C 0.890625 -4.40625 0.703125 -4.015625 0.625 -3.84375 C 0.4375 -3.5 0.3125 -2.90625 0.3125 -2.875 C 0.3125 -2.765625 0.40625 -2.765625 0.421875 -2.765625 C 0.53125 -2.765625 0.53125 -2.78125 0.59375 -3 C 0.765625 -3.703125 0.96875 -4.1875 1.328125 -4.1875 C 1.5 -4.1875 1.640625 -4.109375 1.640625 -3.734375 C 1.640625 -3.5 1.609375 -3.390625 1.5625 -3.21875 Z M 2.203125 -3.109375 C 2.265625 -3.375 2.546875 -3.65625 2.71875 -3.8125 C 3.078125 -4.109375 3.359375 -4.1875 3.53125 -4.1875 C 3.921875 -4.1875 4.171875 -3.84375 4.171875 -3.25 C 4.171875 -2.65625 3.84375 -1.515625 3.65625 -1.140625 C 3.3125 -0.4375 2.84375 -0.109375 2.46875 -0.109375 C 1.8125 -0.109375 1.6875 -0.9375 1.6875 -1 C 1.6875 -1.015625 1.6875 -1.03125 1.71875 -1.15625 Z M 2.203125 -3.109375 \"/>\n",
       "</symbol>\n",
       "<symbol overflow=\"visible\" id=\"glyph1-0\">\n",
       "<path style=\"stroke:none;\" d=\"\"/>\n",
       "</symbol>\n",
       "<symbol overflow=\"visible\" id=\"glyph1-1\">\n",
       "<path style=\"stroke:none;\" d=\"M 2.328125 -4.4375 C 2.328125 -4.625 2.328125 -4.625 2.125 -4.625 C 1.671875 -4.1875 1.046875 -4.1875 0.765625 -4.1875 L 0.765625 -3.9375 C 0.921875 -3.9375 1.390625 -3.9375 1.765625 -4.125 L 1.765625 -0.578125 C 1.765625 -0.34375 1.765625 -0.25 1.078125 -0.25 L 0.8125 -0.25 L 0.8125 0 C 0.9375 0 1.796875 -0.03125 2.046875 -0.03125 C 2.265625 -0.03125 3.140625 0 3.296875 0 L 3.296875 -0.25 L 3.03125 -0.25 C 2.328125 -0.25 2.328125 -0.34375 2.328125 -0.578125 Z M 2.328125 -4.4375 \"/>\n",
       "</symbol>\n",
       "<symbol overflow=\"visible\" id=\"glyph1-2\">\n",
       "<path style=\"stroke:none;\" d=\"M 3.515625 -1.265625 L 3.28125 -1.265625 C 3.265625 -1.109375 3.1875 -0.703125 3.09375 -0.640625 C 3.046875 -0.59375 2.515625 -0.59375 2.40625 -0.59375 L 1.125 -0.59375 C 1.859375 -1.234375 2.109375 -1.4375 2.515625 -1.765625 C 3.03125 -2.171875 3.515625 -2.609375 3.515625 -3.265625 C 3.515625 -4.109375 2.78125 -4.625 1.890625 -4.625 C 1.03125 -4.625 0.4375 -4.015625 0.4375 -3.375 C 0.4375 -3.03125 0.734375 -2.984375 0.8125 -2.984375 C 0.96875 -2.984375 1.171875 -3.109375 1.171875 -3.359375 C 1.171875 -3.484375 1.125 -3.734375 0.765625 -3.734375 C 0.984375 -4.21875 1.453125 -4.375 1.78125 -4.375 C 2.484375 -4.375 2.84375 -3.828125 2.84375 -3.265625 C 2.84375 -2.65625 2.40625 -2.1875 2.1875 -1.9375 L 0.515625 -0.265625 C 0.4375 -0.203125 0.4375 -0.1875 0.4375 0 L 3.3125 0 Z M 3.515625 -1.265625 \"/>\n",
       "</symbol>\n",
       "</g>\n",
       "</defs>\n",
       "<g id=\"surface1\">\n",
       "<path style=\"fill:none;stroke-width:0.3985;stroke-linecap:butt;stroke-linejoin:miter;stroke:rgb(0%,0%,0%);stroke-opacity:1;stroke-miterlimit:10;\" d=\"M 0.00109375 0.00115625 L 99.169062 0.00115625 \" transform=\"matrix(1,0,0,-1,18.995,105.091)\"/>\n",
       "<path style=\"fill:none;stroke-width:0.31879;stroke-linecap:round;stroke-linejoin:round;stroke:rgb(0%,0%,0%);stroke-opacity:1;stroke-miterlimit:10;\" d=\"M -1.19565 1.594906 C -1.094088 0.99725 -0.0003375 0.0988125 0.300444 0.00115625 C -0.0003375 -0.100406 -1.094088 -0.994938 -1.19565 -1.592594 \" transform=\"matrix(1,0,0,-1,118.1644,105.091)\"/>\n",
       "<g style=\"fill:rgb(0%,0%,0%);fill-opacity:1;\">\n",
       "  <use xlink:href=\"#glyph0-1\" x=\"122.141\" y=\"106.267\"/>\n",
       "</g>\n",
       "<path style=\"fill:none;stroke-width:0.3985;stroke-linecap:butt;stroke-linejoin:miter;stroke:rgb(0%,0%,0%);stroke-opacity:1;stroke-miterlimit:10;\" d=\"M 0.00109375 0.00115625 L 0.00109375 99.169125 \" transform=\"matrix(1,0,0,-1,18.995,105.091)\"/>\n",
       "<path style=\"fill:none;stroke-width:0.31879;stroke-linecap:round;stroke-linejoin:round;stroke:rgb(0%,0%,0%);stroke-opacity:1;stroke-miterlimit:10;\" d=\"M -1.195588 1.592656 C -1.094025 0.995 -0.000275 0.100469 0.300506 -0.00109375 C -0.000275 -0.09875 -1.094025 -0.997188 -1.195588 -1.594844 \" transform=\"matrix(0,-1,-1,0,18.995,5.9216)\"/>\n",
       "<g style=\"fill:rgb(0%,0%,0%);fill-opacity:1;\">\n",
       "  <use xlink:href=\"#glyph0-2\" x=\"9.425\" y=\"7.61\"/>\n",
       "</g>\n",
       "<path style=\"fill:none;stroke-width:0.3985;stroke-linecap:butt;stroke-linejoin:miter;stroke:rgb(0%,0%,0%);stroke-opacity:1;stroke-dasharray:2.98883,2.98883;stroke-miterlimit:10;\" d=\"M 59.778438 0.00115625 L 59.778438 99.626156 \" transform=\"matrix(1,0,0,-1,18.995,105.091)\"/>\n",
       "<g style=\"fill:rgb(0%,0%,0%);fill-opacity:1;\">\n",
       "  <use xlink:href=\"#glyph0-3\" x=\"76.294\" y=\"115.529\"/>\n",
       "</g>\n",
       "<path style=\" stroke:none;fill-rule:nonzero;fill:rgb(100%,0%,0%);fill-opacity:1;\" d=\"M 60.253906 65.238281 C 60.253906 64.460938 59.625 63.832031 58.847656 63.832031 C 58.066406 63.832031 57.4375 64.460938 57.4375 65.238281 C 57.4375 66.019531 58.066406 66.648438 58.847656 66.648438 C 59.625 66.648438 60.253906 66.019531 60.253906 65.238281 Z M 60.253906 65.238281 \"/>\n",
       "<g style=\"fill:rgb(0%,0%,0%);fill-opacity:1;\">\n",
       "  <use xlink:href=\"#glyph0-4\" x=\"54.105\" y=\"59.784\"/>\n",
       "</g>\n",
       "<g style=\"fill:rgb(0%,0%,0%);fill-opacity:1;\">\n",
       "  <use xlink:href=\"#glyph1-1\" x=\"59.117\" y=\"61.278\"/>\n",
       "</g>\n",
       "<path style=\"fill:none;stroke-width:0.3985;stroke-linecap:butt;stroke-linejoin:miter;stroke:rgb(0%,0%,0%);stroke-opacity:1;stroke-miterlimit:10;\" d=\"M 45.13 39.852719 L 74.422969 39.852719 \" transform=\"matrix(1,0,0,-1,18.995,105.091)\"/>\n",
       "<path style=\"fill:none;stroke-width:0.3985;stroke-linecap:square;stroke-linejoin:miter;stroke:rgb(0%,0%,0%);stroke-opacity:1;stroke-miterlimit:10;\" d=\"M 0.0989762 -2.591493 L 0.0989762 2.592101 \" transform=\"matrix(-1,0,0,1,64.12632,65.23993)\"/>\n",
       "<path style=\"fill:none;stroke-width:0.3985;stroke-linecap:square;stroke-linejoin:miter;stroke:rgb(0%,0%,0%);stroke-opacity:1;stroke-miterlimit:10;\" d=\"M 0.098735 -2.592101 L 0.098735 2.591493 \" transform=\"matrix(1,0,0,-1,93.41689,65.23993)\"/>\n",
       "<path style=\"fill:none;stroke-width:0.3985;stroke-linecap:butt;stroke-linejoin:miter;stroke:rgb(0%,0%,0%);stroke-opacity:1;stroke-miterlimit:10;\" d=\"M -1.991094 39.852719 L 1.993281 39.852719 \" transform=\"matrix(1,0,0,-1,18.995,105.091)\"/>\n",
       "<g style=\"fill:rgb(0%,0%,0%);fill-opacity:1;\">\n",
       "  <use xlink:href=\"#glyph0-2\" x=\"3.321\" y=\"66.638\"/>\n",
       "</g>\n",
       "<g style=\"fill:rgb(0%,0%,0%);fill-opacity:1;\">\n",
       "  <use xlink:href=\"#glyph1-1\" x=\"9.013\" y=\"68.133\"/>\n",
       "</g>\n",
       "<path style=\" stroke:none;fill-rule:nonzero;fill:rgb(100%,0%,0%);fill-opacity:1;\" d=\"M 60.253906 35.351562 C 60.253906 34.574219 59.625 33.941406 58.847656 33.941406 C 58.066406 33.941406 57.4375 34.574219 57.4375 35.351562 C 57.4375 36.128906 58.066406 36.761719 58.847656 36.761719 C 59.625 36.761719 60.253906 36.128906 60.253906 35.351562 Z M 60.253906 35.351562 \"/>\n",
       "<g style=\"fill:rgb(0%,0%,0%);fill-opacity:1;\">\n",
       "  <use xlink:href=\"#glyph0-4\" x=\"54.105\" y=\"29.896\"/>\n",
       "</g>\n",
       "<g style=\"fill:rgb(0%,0%,0%);fill-opacity:1;\">\n",
       "  <use xlink:href=\"#glyph1-2\" x=\"59.117\" y=\"31.39\"/>\n",
       "</g>\n",
       "<path style=\"fill:none;stroke-width:0.3985;stroke-linecap:butt;stroke-linejoin:miter;stroke:rgb(0%,0%,0%);stroke-opacity:1;stroke-miterlimit:10;\" d=\"M 30.188594 69.739437 L 89.364375 69.739437 \" transform=\"matrix(1,0,0,-1,18.995,105.091)\"/>\n",
       "<path style=\"fill:none;stroke-width:0.3985;stroke-linecap:square;stroke-linejoin:miter;stroke:rgb(0%,0%,0%);stroke-opacity:1;stroke-miterlimit:10;\" d=\"M 0.100129 -2.589901 L 0.100129 2.589786 \" transform=\"matrix(-1,0,0,1,49.18216,35.35162)\"/>\n",
       "<path style=\"fill:none;stroke-width:0.3985;stroke-linecap:square;stroke-linejoin:miter;stroke:rgb(0%,0%,0%);stroke-opacity:1;stroke-miterlimit:10;\" d=\"M 0.0998975 -2.589786 L 0.0998975 2.589901 \" transform=\"matrix(1,0,0,-1,108.36104,35.35162)\"/>\n",
       "<path style=\"fill:none;stroke-width:0.3985;stroke-linecap:butt;stroke-linejoin:miter;stroke:rgb(0%,0%,0%);stroke-opacity:1;stroke-miterlimit:10;\" d=\"M -1.991094 69.739437 L 1.993281 69.739437 \" transform=\"matrix(1,0,0,-1,18.995,105.091)\"/>\n",
       "<g style=\"fill:rgb(0%,0%,0%);fill-opacity:1;\">\n",
       "  <use xlink:href=\"#glyph0-2\" x=\"3.321\" y=\"36.75\"/>\n",
       "</g>\n",
       "<g style=\"fill:rgb(0%,0%,0%);fill-opacity:1;\">\n",
       "  <use xlink:href=\"#glyph1-2\" x=\"9.013\" y=\"38.245\"/>\n",
       "</g>\n",
       "</g>\n",
       "</svg>"
      ]
     },
     "metadata": {
      "isolated": "true"
     },
     "output_type": "display_data"
    }
   ],
   "source": [
    "%%tikz -s 600,400 -f svg -l positioning,calc\n",
    "\n",
    "\\draw[->] (0,0) -- (100pt,0) node[anchor=west] {$\\mu$};\n",
    "\\draw[->] (0,0) -- (0,100pt) node[anchor=east] {$\\sigma$};\n",
    "\n",
    "\\draw[dashed] (60pt,0) node[anchor=north] {$\\theta$} -- (60pt, 100pt);\n",
    "\n",
    "\\node[circle,fill=red,red, inner sep=1] (point1) at (40pt,40pt) {};\n",
    "\\node[anchor=south] at (point1) {$p_1$};\n",
    "\\node (p1) at (60pt,40pt) {};\n",
    "\\draw[|-|] ($(p1)-(15pt,0)$) -- ($(p1)+(15pt,0)$);\n",
    "\\draw (-2pt,0 |- p1) node[anchor=east] {$\\sigma_1$} -- (2pt,0 |- p1);\n",
    "\n",
    "\\node[circle,fill=red,red, inner sep=1] (point2) at (40pt,70pt) {};\n",
    "\\node[anchor=south] at (point2) {$p_2$};\n",
    "\\node (p2) at (60pt,70pt) {};\n",
    "\\draw[|-|] ($(p2)-(30pt,0)$) -- ($(p2)+(30pt,0)$);\n",
    "\\draw (-2pt,0 |- p2) node[anchor=east] {$\\sigma_2$} -- (2pt,0 |- p2);\n"
   ]
  },
  {
   "attachments": {},
   "cell_type": "markdown",
   "metadata": {},
   "source": [
    "# Standard deviation"
   ]
  },
  {
   "attachments": {},
   "cell_type": "markdown",
   "metadata": {},
   "source": [
    "\\begin{align}\n",
    "    p = \\mathop{erf}( \\frac{z}{ \\sqrt{2} } )\n",
    "\\end{align}"
   ]
  },
  {
   "cell_type": "code",
   "execution_count": 18,
   "metadata": {},
   "outputs": [
    {
     "data": {
      "image/png": "[encoded data removed]",
      "text/plain": [
       "<Figure size 640x480 with 1 Axes>"
      ]
     },
     "metadata": {},
     "output_type": "display_data"
    },
    {
     "data": {
      "application/vnd.jupyter.widget-view+json": {
       "model_id": "5a69fbc1d38346e6a66c4b2c65a5f4b7",
       "version_major": 2,
       "version_minor": 0
      },
      "text/plain": [
       "HTML(value='<table>\\n<thead>\\n<tr><th>Confidence interval  </th><th>Percentage  </th></tr>\\n</thead>\\n<tbody>\\…"
      ]
     },
     "metadata": {},
     "output_type": "display_data"
    }
   ],
   "source": [
    "z = np.linspace(0, 7)\n",
    "p = special.erf( z / np.sqrt(2))\n",
    "\n",
    "plt.figure()\n",
    "plt.plot(z, p)\n",
    "\n",
    "plt.xlabel('z')\n",
    "plt.ylabel('p')\n",
    "\n",
    "plt.grid()\n",
    "plt.show()\n",
    "\n",
    "z = [0.318639, 0.674490, 0.977925, 0.994458, 1, 1.281552, 1.644854, 1.959964, 2, 2.575829, 3]\n",
    "p = special.erf( z / np.sqrt(2))\n",
    "\n",
    "z_text = ['{:g} σ'.format(zz) for zz in z]\n",
    "p_text = ['{:g} %'.format(pp) for pp in p]\n",
    "\n",
    "display( widgets.HTML(tabulate.tabulate( np.transpose([z_text, p_text]), headers=['Confidence interval', 'Percentage'], tablefmt='html' ) ))"
   ]
  },
  {
   "attachments": {},
   "cell_type": "markdown",
   "metadata": {},
   "source": [
    "\\begin{align}\n",
    "    z = \\sqrt{2} \\mathop{erf}^{-1} ( p )\n",
    "\\end{align}"
   ]
  },
  {
   "cell_type": "code",
   "execution_count": 19,
   "metadata": {},
   "outputs": [
    {
     "data": {
      "image/png": "[encoded data removed]",
      "text/plain": [
       "<Figure size 640x480 with 1 Axes>"
      ]
     },
     "metadata": {},
     "output_type": "display_data"
    }
   ],
   "source": [
    "p = np.linspace(0, 0.99999, 200)\n",
    "z = special.erfinv(p) * np.sqrt(2)\n",
    "\n",
    "plt.figure()\n",
    "plt.plot(p, z)\n",
    "\n",
    "plt.xlabel('p')\n",
    "plt.ylabel('z')\n",
    "\n",
    "plt.grid()\n",
    "plt.show()"
   ]
  },
  {
   "cell_type": "code",
   "execution_count": 20,
   "metadata": {},
   "outputs": [
    {
     "data": {
      "application/vnd.jupyter.widget-view+json": {
       "model_id": "9292fc21dea14372ab8cb346eedcbca9",
       "version_major": 2,
       "version_minor": 0
      },
      "text/plain": [
       "interactive(children=(FloatSlider(value=0.5, description='percentage', max=1.0, min=1e-09, step=0.01), Output(…"
      ]
     },
     "metadata": {},
     "output_type": "display_data"
    }
   ],
   "source": [
    "@widgets.interact(percentage=(1e-9, 1, 0.01))\n",
    "def show_ivw(percentage=0.5):\n",
    "    plt.figure(figsize=(18,6))\n",
    "    plt.xlim(-1, 1)\n",
    "    #plt.xticks(np.linspace(-1, 1, 11))\n",
    "    plt.ylim(0, 1)\n",
    "    #plt.yticks(np.arange(0, 1, 0.2))\n",
    "    plt.xlabel(r'$\\mu$')\n",
    "    plt.ylabel(r'$\\sigma$')\n",
    "\n",
    "    plt.vlines(0, 0, 1, 'k','dashed')\n",
    "\n",
    "    sigma = np.linspace(0, 1)\n",
    "\n",
    "    z = special.erfinv(percentage) * np.sqrt(2)\n",
    "    points_left = 0 - z * sigma\n",
    "    points_right = 0 + z * sigma\n",
    "\n",
    "    plt.plot(points_left, sigma, 'tab:blue')\n",
    "    plt.plot(points_right, sigma, 'tab:blue')\n",
    "\n",
    "    plt.grid()\n",
    "\n",
    "    plt.show()"
   ]
  },
  {
   "attachments": {},
   "cell_type": "markdown",
   "metadata": {},
   "source": [
    "# Variance"
   ]
  },
  {
   "cell_type": "code",
   "execution_count": 21,
   "metadata": {},
   "outputs": [
    {
     "data": {
      "application/vnd.jupyter.widget-view+json": {
       "model_id": "77bac0c288e846cb92479e2c0078dffd",
       "version_major": 2,
       "version_minor": 0
      },
      "text/plain": [
       "interactive(children=(FloatSlider(value=0.5, description='percentage', max=1.0, min=1e-09, step=0.01), Output(…"
      ]
     },
     "metadata": {},
     "output_type": "display_data"
    }
   ],
   "source": [
    "@widgets.interact(percentage=(1e-9, 1, 0.01))\n",
    "def show_ivw_variance(percentage=0.5):\n",
    "    plt.figure(figsize=(18,6))\n",
    "    plt.xlim(-1, 1)\n",
    "    plt.xticks(np.linspace(-1, 1, 11))\n",
    "    plt.ylim(0, 1)\n",
    "    plt.yticks(np.arange(0, 1, 0.2))\n",
    "    plt.xlabel(r'$\\mu$')\n",
    "    plt.ylabel(r'$\\sigma^2$')\n",
    "\n",
    "    plt.vlines(0, 0, 1, 'k','dashed')\n",
    "\n",
    "    var = np.linspace(0, 1)\n",
    "\n",
    "    z = special.erfinv(percentage) * np.sqrt(2)\n",
    "    points_left = 0 - z * np.sqrt(var)\n",
    "    points_right = 0 + z * np.sqrt(var)\n",
    "\n",
    "    plt.plot(points_left, var, 'tab:blue')\n",
    "    plt.plot(points_right, var, 'tab:blue')\n",
    "\n",
    "    plt.grid()\n",
    "\n",
    "    plt.show()"
   ]
  },
  {
   "cell_type": "code",
   "execution_count": null,
   "metadata": {},
   "outputs": [],
   "source": []
  }
 ],
 "metadata": {
  "kernelspec": {
   "display_name": "Python 3 (ipykernel)",
   "language": "python",
   "name": "python3"
  },
  "language_info": {
   "codemirror_mode": {
    "name": "ipython",
    "version": 3
   },
   "file_extension": ".py",
   "mimetype": "text/x-python",
   "name": "python",
   "nbconvert_exporter": "python",
   "pygments_lexer": "ipython3",
   "version": "3.10.8"
  }
 },
 "nbformat": 4,
 "nbformat_minor": 2
}
