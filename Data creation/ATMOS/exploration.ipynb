{
 "cells": [
  {
   "cell_type": "code",
   "execution_count": 4,
   "metadata": {},
   "outputs": [],
   "source": [
    "import numpy as np\n",
    "from matplotlib import pyplot as plt"
   ]
  },
  {
   "cell_type": "code",
   "execution_count": 7,
   "metadata": {},
   "outputs": [],
   "source": [
    "attributes = ['cloudhigh', 'cloudlow', 'cloudmid', 'ozone']\n",
    "filepath = '../../Data/ATMOS/Files/{:s}{:d}.txt'\n",
    "num_files = 72"
   ]
  },
  {
   "cell_type": "code",
   "execution_count": 13,
   "metadata": {},
   "outputs": [
    {
     "data": {
      "text/plain": [
       "array([[26. , 23. , 23. , 17. , 19.5, 17. , 16. , 16. , 16. , 19. , 18. ,\n",
       "        19. , 19.5, 19.5, 18. , 16. , 14. , 14. , 14. , 18. , 20.5, 22. ,\n",
       "        25.5],\n",
       "       [20. , 20. , 18.5, 16.5, 18. , 15. , 15. , 15. , 16. , 15. , 15. ,\n",
       "        17.5, 17. , 17. , 17. , 17.5, 17.5, 18. , 19. , 19. , 20. , 22. ,\n",
       "        23.5],\n",
       "       [16. , 16. , 14. , 12.5, 13.5, 14.5, 13.5, 13.5, 13.5, 13. , 13. ,\n",
       "        16.5, 18.5, 20. , 21. , 21. , 21. , 20.5, 20.5, 19.5, 19. , 19. ,\n",
       "        19. ],\n",
       "       [13. , 11. , 11. , 11. , 14. , 13.5, 11.5, 12. , 15. , 18. , 18. ,\n",
       "        18.5, 20.5, 20.5, 18.5, 18. , 17. , 15. , 15. , 14. , 13. , 13. ,\n",
       "        13.5],\n",
       "       [ 7.5,  8. , 10.5, 10.5, 15. , 16.5, 19.5, 20. , 20.5, 19.5, 17. ,\n",
       "        16. , 16. , 16. , 12.5,  9.5,  8.5,  7.5,  5.5,  4.5,  4.5,  6.5,\n",
       "         6.5],\n",
       "       [ 8. , 11. , 13. , 19.5, 19.5, 26. , 27.5, 25.5, 20. , 14. ,  9.5,\n",
       "         8.5, 10. ,  8. ,  4.5,  5. ,  5. ,  4.5,  3.5,  2.5,  2.5,  4. ,\n",
       "         8. ],\n",
       "       [14.5, 13.5, 15. , 19.5, 28. , 28. , 23. , 14. ,  6. ,  3.5,  3.5,\n",
       "         3. ,  3. ,  3.5,  3. ,  2.5,  1.5,  1.5,  1. ,  1.5,  2.5,  3.5,\n",
       "         4. ],\n",
       "       [19.5, 19.5, 24. , 24.5, 24. , 21.5, 14.5,  7.5,  3. ,  1. ,  0.5,\n",
       "         0.5,  1. ,  2.5,  1.5,  1.5,  1.5,  1. ,  1. ,  1. ,  1.5,  1.5,\n",
       "         1.5],\n",
       "       [22.5, 26. , 24. , 18. , 13. ,  7.5,  4. ,  2. ,  2. ,  1. ,  1. ,\n",
       "         1. ,  0.5,  0.5,  0.5,  1. ,  1. ,  1. ,  0.5,  0. ,  0. ,  1. ,\n",
       "         1. ],\n",
       "       [21. , 26.5, 25.5, 20. , 12. ,  6. ,  3. ,  2. ,  1.5,  1.5,  1. ,\n",
       "         0.5,  0.5,  0.5,  0.5,  0.5,  0.5,  0.5,  0.5,  0.5,  0.5,  0.5,\n",
       "         0.5],\n",
       "       [19. , 20. , 21. , 14. ,  8.5,  5.5,  3. ,  1.5,  1.5,  1. ,  1. ,\n",
       "         1.5,  2. ,  3. ,  1. ,  1. ,  1.5,  1. ,  0.5,  0.5,  0. ,  1. ,\n",
       "         1. ],\n",
       "       [16.5, 16.5, 15. , 10. ,  8. ,  7.5,  5. ,  3. ,  3. ,  2.5,  2.5,\n",
       "         2. ,  1.5,  1.5,  1.5,  1.5,  3.5,  4. ,  2. ,  1.5,  1. ,  1.5,\n",
       "         1.5],\n",
       "       [17.5, 15. , 15. , 16.5, 12.5, 11.5, 13. , 13. , 12. , 10.5,  9. ,\n",
       "         9. ,  6. ,  3. ,  5.5, 12. ,  8. ,  3. ,  2. ,  3.5,  3. ,  2.5,\n",
       "         2. ],\n",
       "       [ 5.5,  4.5,  5. ,  5.5, 11. , 11.5, 15.5, 17.5, 17. , 16. , 19. ,\n",
       "        22. , 12. ,  6.5, 16.5, 13.5,  4. ,  5.5,  9. ,  9. ,  5. ,  2. ,\n",
       "         2. ],\n",
       "       [ 0.5,  0.5,  0. ,  0. ,  1. ,  3. ,  5. ,  8. ,  8. ,  8. ,  7.5,\n",
       "         5. ,  4.5, 11.5, 15. ,  9. ,  8.5, 13. , 18.5, 15.5,  7. ,  5. ,\n",
       "         5.5],\n",
       "       [ 0. ,  0. ,  0. ,  0. ,  0. ,  0.5,  1.5,  3.5,  3. ,  1.5,  1. ,\n",
       "         0. ,  0.5,  3.5,  7.5, 11.5, 15. , 20.5, 21.5, 20. , 14.5, 13.5,\n",
       "        15.5],\n",
       "       [ 0.5,  0. ,  0. ,  0. ,  0.5,  1. ,  1.5,  3. ,  3.5,  1.5,  0.5,\n",
       "         0. ,  0. ,  1. ,  7. , 13.5, 21.5, 25.5, 27.5, 29. , 26.5, 26.5,\n",
       "        29.5],\n",
       "       [ 1.5,  1. ,  1. ,  0.5,  0.5,  1. ,  2.5,  3. ,  2. ,  2. ,  1. ,\n",
       "         0.5,  0.5,  1. ,  5.5, 11.5, 17.5, 28.5, 32. , 35.5, 35. , 36.5,\n",
       "        39.5],\n",
       "       [ 1.5,  3. ,  1.5,  1. ,  1.5,  1.5,  2.5,  2.5,  2.5,  2.5,  2.5,\n",
       "         2.5,  1.5,  1. ,  3. , 21. , 21.5, 26.5, 33.5, 40.5, 43. , 44.5,\n",
       "        42.5],\n",
       "       [ 2. ,  3. ,  4. ,  3.5,  2. ,  1. ,  1. ,  1.5,  2.5,  2.5,  2. ,\n",
       "         2. ,  1. ,  1.5, 14.5, 36.5, 30. , 30. , 36. , 38.5, 41.5, 44. ,\n",
       "        44. ],\n",
       "       [ 4. ,  3. ,  3. ,  3.5,  3. ,  2.5,  1.5,  1. ,  2. ,  2. ,  2. ,\n",
       "         1.5,  1. ,  1.5,  4.5, 27. , 41. , 42.5, 32. , 33. , 39. , 43. ,\n",
       "        48. ],\n",
       "       [ 3.5,  3. ,  1.5,  1. ,  3. ,  2.5,  1.5,  1.5,  1. ,  1. ,  1. ,\n",
       "         0.5,  1. ,  2.5,  4. ,  7. , 16. , 28.5, 35.5, 39. , 34. , 31. ,\n",
       "        39. ],\n",
       "       [ 2.5,  2.5,  2.5,  1.5,  1. ,  0.5,  0.5,  0.5,  0.5,  0.5,  0.5,\n",
       "         1.5,  2.5,  3. ,  3. ,  3. ,  3. , 13.5, 31. , 31. , 31.5, 26.5,\n",
       "        36. ],\n",
       "       [ 0.5,  1.5,  1.5,  1. ,  0.5,  0. ,  0. ,  0. ,  0.5,  1. ,  1. ,\n",
       "         1. ,  1.5,  2.5,  1.5,  1. ,  1. ,  1.5, 14. , 29.5, 22.5, 24. ,\n",
       "        36. ]], dtype=float32)"
      ]
     },
     "execution_count": 13,
     "metadata": {},
     "output_type": "execute_result"
    }
   ],
   "source": [
    "data = np.loadtxt( filepath.format( attributes[0], 1 ), dtype=np.float32, skiprows=7, usecols=range(3,26) )\n",
    "data"
   ]
  },
  {
   "cell_type": "code",
   "execution_count": 17,
   "metadata": {},
   "outputs": [
    {
     "data": {
      "image/png": "[encoded data removed]",
      "text/plain": [
       "<Figure size 640x480 with 2 Axes>"
      ]
     },
     "metadata": {},
     "output_type": "display_data"
    }
   ],
   "source": [
    "plt.figure()\n",
    "plt.imshow(data, extent=[56.2, 113.8, 21.2, 36.2])\n",
    "plt.colorbar()\n",
    "plt.show()"
   ]
  },
  {
   "cell_type": "code",
   "execution_count": null,
   "metadata": {},
   "outputs": [],
   "source": []
  }
 ],
 "metadata": {
  "kernelspec": {
   "display_name": "pct",
   "language": "python",
   "name": "python3"
  },
  "language_info": {
   "codemirror_mode": {
    "name": "ipython",
    "version": 3
   },
   "file_extension": ".py",
   "mimetype": "text/x-python",
   "name": "python",
   "nbconvert_exporter": "python",
   "pygments_lexer": "ipython3",
   "version": "3.10.8"
  },
  "orig_nbformat": 4,
  "vscode": {
   "interpreter": {
    "hash": "1313183b19501a2416bbc9ce49d479f35a972677788ec3c0759d999f6a401c4e"
   }
  }
 },
 "nbformat": 4,
 "nbformat_minor": 2
}
