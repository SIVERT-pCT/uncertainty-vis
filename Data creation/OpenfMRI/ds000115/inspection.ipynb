{
 "cells": [
  {
   "cell_type": "code",
   "execution_count": 8,
   "metadata": {},
   "outputs": [],
   "source": [
    "import numpy as np\n",
    "from matplotlib import pyplot as plt\n",
    "import nibabel as nib\n",
    "import ipywidgets as widgets"
   ]
  },
  {
   "cell_type": "code",
   "execution_count": 17,
   "metadata": {},
   "outputs": [
    {
     "name": "stdout",
     "output_type": "stream",
     "text": [
      "<class 'nibabel.nifti1.Nifti1Image'>\n",
      "data shape (64, 64, 36, 137)\n",
      "affine: \n",
      "[[-3.99977493e+00  6.25283318e-03  4.19654548e-02  1.31784821e+02]\n",
      " [ 7.13006221e-03  3.99911761e+00  8.37076157e-02 -1.14343925e+02]\n",
      " [ 4.18253504e-02 -8.37777182e-02  3.99890327e+00 -6.58145447e+01]\n",
      " [ 0.00000000e+00  0.00000000e+00  0.00000000e+00  1.00000000e+00]]\n",
      "metadata:\n",
      "<class 'nibabel.nifti1.Nifti1Header'> object, endian='<'\n",
      "sizeof_hdr      : 348\n",
      "data_type       : b''\n",
      "db_name         : b'?TR:2500.000 TE:27'\n",
      "extents         : 0\n",
      "session_error   : 0\n",
      "regular         : b'r'\n",
      "dim_info        : 0\n",
      "dim             : [  4  64  64  36 137   1   1   1]\n",
      "intent_p1       : 0.0\n",
      "intent_p2       : 0.0\n",
      "intent_p3       : 0.0\n",
      "intent_code     : none\n",
      "datatype        : int16\n",
      "bitpix          : 16\n",
      "slice_start     : 0\n",
      "pixdim          : [-1.0000000e+00  4.0000000e+00  4.0000000e+00  3.9999995e+00\n",
      "  2.5000000e+00  1.0000000e+00  1.0000000e+00  4.4254809e+04]\n",
      "vox_offset      : 0.0\n",
      "scl_slope       : nan\n",
      "scl_inter       : nan\n",
      "slice_end       : 0\n",
      "slice_code      : unknown\n",
      "xyzt_units      : 10\n",
      "cal_max         : 0.0\n",
      "cal_min         : 0.0\n",
      "slice_duration  : 0.0\n",
      "toffset         : 0.0\n",
      "glmax           : 255\n",
      "glmin           : 0\n",
      "descrip         : b''\n",
      "aux_file        : b''\n",
      "qform_code      : scanner\n",
      "sform_code      : scanner\n",
      "quatern_b       : -0.00083648856\n",
      "quatern_c       : -0.99993116\n",
      "quatern_d       : 0.010468556\n",
      "qoffset_x       : 131.78482\n",
      "qoffset_y       : -114.343925\n",
      "qoffset_z       : -65.814545\n",
      "srow_x          : [-3.9997749e+00  6.2528332e-03  4.1965455e-02  1.3178482e+02]\n",
      "srow_y          : [ 7.13006221e-03  3.99911761e+00  8.37076157e-02 -1.14343925e+02]\n",
      "srow_z          : [ 4.1825350e-02 -8.3777718e-02  3.9989033e+00 -6.5814545e+01]\n",
      "intent_name     : b''\n",
      "magic           : b'n+1'\n"
     ]
    }
   ],
   "source": [
    "file = nib.load('../../../Data/OpenfMRI/ds000115_R2.0.0/sub-03/func/sub-03_task-letter1backtask_bold.nii.gz')\n",
    "print(file)"
   ]
  },
  {
   "cell_type": "code",
   "execution_count": 18,
   "metadata": {},
   "outputs": [],
   "source": [
    "image = file.get_fdata()\n",
    "mean = np.mean(image, axis=3)\n",
    "var = np.var(image, axis=3)"
   ]
  },
  {
   "cell_type": "code",
   "execution_count": 19,
   "metadata": {},
   "outputs": [
    {
     "data": {
      "application/vnd.jupyter.widget-view+json": {
       "model_id": "50a324f485e04f298b2242d887dc9ffc",
       "version_major": 2,
       "version_minor": 0
      },
      "text/plain": [
       "interactive(children=(IntSlider(value=0, description='idx', max=35), Output()), _dom_classes=('widget-interact…"
      ]
     },
     "metadata": {},
     "output_type": "display_data"
    }
   ],
   "source": [
    "@widgets.interact(idx=(0, mean.shape[2] - 1, 1))\n",
    "def show_slice(idx=0):\n",
    "    plt.figure(figsize=(18,6))\n",
    "    plt.subplot(1,2,1)\n",
    "    plt.imshow(mean[:,:,idx], vmax=mean.max(), vmin=mean.min())\n",
    "    plt.colorbar()\n",
    "\n",
    "    plt.subplot(1,2,2)\n",
    "    plt.imshow(var[:,:,idx], vmax=var.max(), vmin=var.min())\n",
    "    plt.colorbar()\n",
    "    plt.show()"
   ]
  },
  {
   "cell_type": "code",
   "execution_count": null,
   "metadata": {},
   "outputs": [],
   "source": []
  }
 ],
 "metadata": {
  "kernelspec": {
   "display_name": "pct",
   "language": "python",
   "name": "python3"
  },
  "language_info": {
   "codemirror_mode": {
    "name": "ipython",
    "version": 3
   },
   "file_extension": ".py",
   "mimetype": "text/x-python",
   "name": "python",
   "nbconvert_exporter": "python",
   "pygments_lexer": "ipython3",
   "version": "3.10.8"
  },
  "orig_nbformat": 4
 },
 "nbformat": 4,
 "nbformat_minor": 2
}
