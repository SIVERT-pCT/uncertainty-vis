{
 "cells": [
  {
   "cell_type": "code",
   "execution_count": 1,
   "metadata": {},
   "outputs": [],
   "source": [
    "import numpy as np\n",
    "from matplotlib import pyplot as plt\n",
    "import nibabel as nib\n",
    "import ipywidgets as widgets\n",
    "from os import path"
   ]
  },
  {
   "cell_type": "markdown",
   "metadata": {},
   "source": [
    "# Prototyping"
   ]
  },
  {
   "cell_type": "code",
   "execution_count": 2,
   "metadata": {},
   "outputs": [],
   "source": [
    "subjectPath = '../../../Data/OpenfMRI/ds000115_R2.0.0/sub-{0:02d}'\n",
    "filepath = subjectPath + '/func/sub-{0:02d}_task-letter{1:d}backtask_bold.nii.gz'"
   ]
  },
  {
   "cell_type": "code",
   "execution_count": 3,
   "metadata": {},
   "outputs": [],
   "source": [
    "subject = 2\n",
    "backtask = 2\n",
    "\n",
    "file = nib.load(filepath.format(subject, backtask))\n",
    "imageSequence = file.get_fdata()"
   ]
  },
  {
   "cell_type": "code",
   "execution_count": 4,
   "metadata": {},
   "outputs": [],
   "source": [
    "sequenceMean = np.mean(imageSequence, axis=3)\n",
    "sequenceVariance = np.var(imageSequence, axis=3)"
   ]
  },
  {
   "cell_type": "code",
   "execution_count": 16,
   "metadata": {},
   "outputs": [
    {
     "data": {
      "application/vnd.jupyter.widget-view+json": {
       "model_id": "8db1b307f34c4605b5d125389e85839a",
       "version_major": 2,
       "version_minor": 0
      },
      "text/plain": [
       "interactive(children=(IntSlider(value=0, description='idx', max=35), Output()), _dom_classes=('widget-interact…"
      ]
     },
     "metadata": {},
     "output_type": "display_data"
    }
   ],
   "source": [
    "@widgets.interact(idx=(0, sequenceMean.shape[2]-1, 1))\n",
    "def show_slice(idx=0):\n",
    "    plt.figure(figsize=(18,6))\n",
    "    plt.subplot(1,2,1)\n",
    "    plt.imshow(sequenceMean[:,:,idx], vmin=sequenceMean.min(), vmax=sequenceMean.max())\n",
    "    plt.colorbar()\n",
    "\n",
    "    plt.subplot(1,2,2)\n",
    "    plt.imshow(sequenceVariance[:,:,idx], vmin=sequenceVariance.min(), vmax=sequenceVariance.max())\n",
    "    plt.colorbar()\n",
    "    plt.show()"
   ]
  },
  {
   "cell_type": "markdown",
   "metadata": {},
   "source": [
    "# Bulk conversion"
   ]
  },
  {
   "cell_type": "code",
   "execution_count": 5,
   "metadata": {},
   "outputs": [
    {
     "name": "stdout",
     "output_type": "stream",
     "text": [
      "subject 1 finished\n",
      "subject 2 finished\n",
      "subject 3 finished\n",
      "subject 4 finished\n",
      "subject 5 finished\n",
      "subject 6 finished\n",
      "subject 7 finished\n",
      "subject 8 finished\n",
      "subject 9 finished\n",
      "subject 10 finished\n",
      "subject 11 finished\n",
      "subject 12 finished\n",
      "subject 13 finished\n",
      "subject 14 finished\n",
      "subject 15 finished\n",
      "subject 16 finished\n",
      "subject 17 finished\n",
      "subject 18 finished\n",
      "subject 19 finished\n",
      "subject 20 finished\n",
      "subject 21 finished\n",
      "subject 22 finished\n",
      "subject 23 not exist\n",
      "subject 24 finished\n",
      "subject 25 not exist\n",
      "subject 26 finished\n",
      "subject 27 finished\n",
      "subject 28 finished\n",
      "subject 29 finished\n",
      "subject 30 finished\n",
      "subject 31 finished\n",
      "subject 32 finished\n",
      "subject 33 finished\n",
      "subject 34 finished\n",
      "subject 35 finished\n",
      "subject 36 finished\n",
      "subject 37 finished\n",
      "subject 38 finished\n",
      "subject 39 finished\n",
      "subject 40 finished\n",
      "subject 41 finished\n",
      "subject 42 finished\n",
      "subject 43 finished\n",
      "subject 44 finished\n",
      "subject 45 finished\n",
      "subject 46 finished\n",
      "subject 47 finished\n",
      "subject 48 not exist\n",
      "subject 49 finished\n",
      "subject 50 finished\n",
      "subject 51 finished\n",
      "subject 52 finished\n",
      "subject 53 finished\n",
      "subject 54 finished\n",
      "subject 55 finished\n",
      "subject 56 finished\n",
      "subject 57 finished\n",
      "subject 58 finished\n",
      "subject 59 finished\n",
      "subject 60 finished\n",
      "subject 61 finished\n",
      "subject 62 finished\n",
      "subject 63 finished\n",
      "subject 64 finished\n",
      "subject 65 finished\n",
      "subject 66 finished\n",
      "subject 67 finished\n",
      "subject 68 finished\n",
      "subject 69 finished\n",
      "subject 70 finished\n",
      "subject 71 finished\n",
      "subject 72 finished\n",
      "subject 73 finished\n",
      "subject 74 finished\n",
      "subject 75 finished\n",
      "subject 76 finished\n",
      "subject 77 finished\n",
      "subject 78 finished\n",
      "subject 79 finished\n",
      "subject 80 finished\n",
      "subject 81 finished\n",
      "subject 82 finished\n",
      "subject 83 finished\n",
      "subject 84 finished\n",
      "subject 85 finished\n",
      "subject 86 finished\n",
      "subject 87 finished\n",
      "subject 88 finished\n",
      "subject 89 finished\n",
      "subject 90 finished\n",
      "subject 91 finished\n",
      "subject 92 finished\n",
      "subject 93 finished\n",
      "subject 94 finished\n",
      "subject 95 finished\n",
      "subject 96 finished\n",
      "subject 97 finished\n",
      "subject 98 finished\n",
      "subject 99 finished\n",
      "subject 100 finished\n",
      "subject 101 finished\n",
      "subject 102 finished\n"
     ]
    }
   ],
   "source": [
    "subjects = np.arange(1, 102 + 1)\n",
    "backtests = np.arange(0, 2 + 1)\n",
    "for s in subjects:\n",
    "    if not path.exists(subjectPath.format(s)):\n",
    "        print('subject {:d} not exist'.format(s))\n",
    "        continue\n",
    "\n",
    "    for b in backtests:\n",
    "        file = nib.load(filepath.format(s, b))\n",
    "        imageSequence = file.get_fdata()\n",
    "\n",
    "        mean = nib.Nifti1Image(np.mean(imageSequence, axis=3), file.affine)\n",
    "        variance = nib.Nifti1Image(np.var(imageSequence, axis=3), file.affine)\n",
    "\n",
    "        savePath = subjectPath + '/func/sub-{0:02d}_task-letter{1:d}backtask_bold-{2:s}.nii'\n",
    "\n",
    "        nib.save(mean, savePath.format(s, b, 'mean'))\n",
    "        nib.save(variance, savePath.format(s, b, 'variance'))\n",
    "\n",
    "    print('subject {:d} finished'.format(s))\n",
    "\n",
    "        "
   ]
  },
  {
   "cell_type": "code",
   "execution_count": null,
   "metadata": {},
   "outputs": [],
   "source": []
  }
 ],
 "metadata": {
  "kernelspec": {
   "display_name": "pct",
   "language": "python",
   "name": "python3"
  },
  "language_info": {
   "codemirror_mode": {
    "name": "ipython",
    "version": 3
   },
   "file_extension": ".py",
   "mimetype": "text/x-python",
   "name": "python",
   "nbconvert_exporter": "python",
   "pygments_lexer": "ipython3",
   "version": "3.10.8"
  }
 },
 "nbformat": 4,
 "nbformat_minor": 2
}
