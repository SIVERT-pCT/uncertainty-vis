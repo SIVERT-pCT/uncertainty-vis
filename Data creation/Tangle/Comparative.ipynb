{
 "cells": [
  {
   "cell_type": "code",
   "execution_count": 7,
   "metadata": {},
   "outputs": [],
   "source": [
    "import numpy as np\n",
    "from matplotlib import pyplot as plt\n",
    "import nibabel as nib\n",
    "import ipywidgets as widgets"
   ]
  },
  {
   "cell_type": "markdown",
   "metadata": {},
   "source": [
    "\\begin{align}\n",
    "    f(x, y, z, r) &= x^4 - r x^2 + y^4 - 5 y^2 + z^4 - 5 z^2 + 11.8\n",
    "\\end{align}"
   ]
  },
  {
   "cell_type": "markdown",
   "metadata": {},
   "source": [
    "The tangle function is symmetric in the 8 quadrants. With this data set, we want to compare the following cases:\n",
    "* difference in the mean: $-2.5 \\leq x \\leq 0 \\mapsto +0.1$\n",
    "* difference in the variance\n",
    "* difference in the mean and the variance"
   ]
  },
  {
   "cell_type": "code",
   "execution_count": 9,
   "metadata": {},
   "outputs": [],
   "source": [
    "def tangle(x, y, z, r):\n",
    "    return x**4 - r * x**2 + y**4 - 5 * y**2 + z**4 - 5 * z**2 + 11.8"
   ]
  },
  {
   "cell_type": "code",
   "execution_count": 37,
   "metadata": {},
   "outputs": [
    {
     "data": {
      "application/vnd.jupyter.widget-view+json": {
       "model_id": "8c4a393c9d6c4d6baea0c415c3b1f205",
       "version_major": 2,
       "version_minor": 0
      },
      "text/plain": [
       "interactive(children=(IntSlider(value=64, description='z', max=127), FloatSlider(value=-0.7, description='c', …"
      ]
     },
     "metadata": {},
     "output_type": "display_data"
    }
   ],
   "source": [
    "resolution = 128\n",
    "\n",
    "x = np.linspace(-2.5, 2.5, resolution)\n",
    "y = np.linspace(-2.5, 2.5, resolution)\n",
    "z = np.linspace(-2.5, 2.5, resolution)\n",
    "r = 5\n",
    "\n",
    "xx, yy, zz = np.meshgrid(x, y, z)\n",
    "\n",
    "tangle_mean1 = tangle(xx, yy, zz, r)\n",
    "tangle_mean1[:,:64,64:] *= 2.0\n",
    "tangle_mean1[:,64:,:64] *= 0.5\n",
    "tangle_variance1 = np.ones_like(tangle_mean)\n",
    "tangle_variance1[:64,:,:64] = 10\n",
    "tangle_variance1[64:,:,64:] = 2.5\n",
    "\n",
    "@widgets.interact(z=(0, len(z) - 1, 1), c=(-1., 1., 0.01), r=(0., 10.))\n",
    "def explore_tangle(z=resolution//2, c=-0.7):\n",
    "\n",
    "    plt.figure(figsize=(18,6))\n",
    "    plt.subplot(1,2,1)\n",
    "    plt.title('mean')\n",
    "    plt.imshow(tangle_mean1[z, :, :], extent=[x[0], x[-1], y[0], y[-1]], vmin=np.min(tangle_mean1), vmax=np.max(tangle_mean1))\n",
    "    plt.colorbar()\n",
    "    plt.contour(x, y, tangle_mean1[z,:,:], levels=[c])\n",
    "    plt.xlabel('x')\n",
    "    plt.ylabel('y')\n",
    "\n",
    "    plt.subplot(1,2,2)\n",
    "    plt.title('variance')\n",
    "    plt.imshow(tangle_variance1[z, :, :], extent=[x[0], x[-1], y[0], y[-1]], vmin=np.min(tangle_variance1), vmax=np.max(tangle_variance1))\n",
    "    plt.colorbar()\n",
    "    plt.contour(x, y, tangle_mean1[z,:,:], levels=[c])\n",
    "    plt.xlabel('x')\n",
    "    plt.ylabel('y')\n",
    "\n",
    "    plt.show()"
   ]
  },
  {
   "cell_type": "code",
   "execution_count": 38,
   "metadata": {},
   "outputs": [
    {
     "data": {
      "application/vnd.jupyter.widget-view+json": {
       "model_id": "9e8fd10c74634ba6a90f7b5086720822",
       "version_major": 2,
       "version_minor": 0
      },
      "text/plain": [
       "interactive(children=(IntSlider(value=64, description='z', max=127), FloatSlider(value=-0.7, description='c', …"
      ]
     },
     "metadata": {},
     "output_type": "display_data"
    }
   ],
   "source": [
    "resolution = 128\n",
    "\n",
    "x = np.linspace(-2.5, 2.5, resolution)\n",
    "y = np.linspace(-2.5, 2.5, resolution)\n",
    "z = np.linspace(-2.5, 2.5, resolution)\n",
    "r = 5\n",
    "\n",
    "xx, yy, zz = np.meshgrid(x, y, z)\n",
    "\n",
    "tangle_mean2 = tangle(xx, yy, zz, r)\n",
    "tangle_mean2[:,:64,64:] *= 0.5\n",
    "tangle_mean2[:,64:,:64] *= 2.0\n",
    "tangle_variance2 = np.ones_like(tangle_mean)\n",
    "tangle_variance2[:64,:,:64] = 2.5\n",
    "tangle_variance2[64:,:,64:] = 10\n",
    "\n",
    "@widgets.interact(z=(0, len(z) - 1, 1), c=(-1., 1., 0.01), r=(0., 10.))\n",
    "def explore_tangle(z=resolution//2, c=-0.7):\n",
    "\n",
    "    plt.figure(figsize=(18,6))\n",
    "    plt.subplot(1,2,1)\n",
    "    plt.title('mean')\n",
    "    plt.imshow(tangle_mean2[z, :, :], extent=[x[0], x[-1], y[0], y[-1]], vmin=np.min(tangle_mean2), vmax=np.max(tangle_mean2))\n",
    "    plt.colorbar()\n",
    "    plt.contour(x, y, tangle_mean2[z,:,:], levels=[c])\n",
    "\n",
    "    plt.subplot(1,2,2)\n",
    "    plt.title('variance')\n",
    "    plt.imshow(tangle_variance2[z, :, :], extent=[x[0], x[-1], y[0], y[-1]], vmin=np.min(tangle_variance2), vmax=np.max(tangle_variance2))\n",
    "    plt.colorbar()\n",
    "    plt.contour(x, y, tangle_mean2[z,:,:], levels=[c])\n",
    "\n",
    "    plt.show()"
   ]
  },
  {
   "cell_type": "code",
   "execution_count": 39,
   "metadata": {},
   "outputs": [],
   "source": [
    "np.save('../../Data/Tangle/comparative/mean1-resolution-{:d}.npy'.format(resolution), tangle_mean1)\n",
    "np.save('../../Data/Tangle/comparative//variance1-resolution-{:d}.npy'.format(resolution), tangle_variance1)\n",
    "np.save('../../Data/Tangle/comparative/mean2-resolution-{:d}.npy'.format(resolution), tangle_mean2)\n",
    "np.save('../../Data/Tangle/comparative//variance2-resolution-{:d}.npy'.format(resolution), tangle_variance2)\n",
    "\n",
    "tangle_mean1.tofile('../../Data/Tangle/comparative/mean1-resolution-{:d}.raw'.format(resolution))\n",
    "tangle_variance1.tofile('../../Data/Tangle/comparative/variance1-resolution-{:d}.raw'.format(resolution))\n",
    "tangle_mean2.tofile('../../Data/Tangle/comparative/mean2-resolution-{:d}.raw'.format(resolution))\n",
    "tangle_variance2.tofile('../../Data/Tangle/comparative/variance2-resolution-{:d}.raw'.format(resolution))\n",
    "\n",
    "affine = np.eye(4)\n",
    "nifti_file = nib.Nifti1Image(tangle_mean1, affine)\n",
    "nib.save(nifti_file, '../../Data/Tangle/comparative/mean1-resolution-{:d}.nii'.format(resolution))\n",
    "nifti_file = nib.Nifti1Image(tangle_mean2, affine)\n",
    "nib.save(nifti_file, '../../Data/Tangle/comparative/mean2-resolution-{:d}.nii'.format(resolution))\n",
    "\n",
    "nifti_file = nib.Nifti1Image(tangle_variance1, affine)\n",
    "nib.save(nifti_file, '../../Data/Tangle/comparative/variance1-resolution-{:d}.nii'.format(resolution))\n",
    "nifti_file = nib.Nifti1Image(tangle_variance2, affine)\n",
    "nib.save(nifti_file, '../../Data/Tangle/comparative/variance2-resolution-{:d}.nii'.format(resolution))"
   ]
  },
  {
   "cell_type": "code",
   "execution_count": null,
   "metadata": {},
   "outputs": [],
   "source": []
  }
 ],
 "metadata": {
  "kernelspec": {
   "display_name": "pct",
   "language": "python",
   "name": "python3"
  },
  "language_info": {
   "codemirror_mode": {
    "name": "ipython",
    "version": 3
   },
   "file_extension": ".py",
   "mimetype": "text/x-python",
   "name": "python",
   "nbconvert_exporter": "python",
   "pygments_lexer": "ipython3",
   "version": "3.10.8"
  },
  "orig_nbformat": 4
 },
 "nbformat": 4,
 "nbformat_minor": 2
}
