{
 "cells": [
  {
   "attachments": {},
   "cell_type": "markdown",
   "metadata": {},
   "source": [
    "# Tangle Data set\n",
    "This script generates a data set in form of an ensemble and summarizes it using Gaussian distributions."
   ]
  },
  {
   "cell_type": "code",
   "execution_count": 1,
   "metadata": {},
   "outputs": [],
   "source": [
    "import numpy as np\n",
    "from matplotlib import pyplot as plt\n",
    "import nibabel\n",
    "import ipywidgets as widgets"
   ]
  },
  {
   "attachments": {},
   "cell_type": "markdown",
   "metadata": {},
   "source": [
    "\\begin{align}\n",
    "    x^4 - r x^2 + y^4 - 5 y^2 + z^4 - 5 z^2 + 11.8\n",
    "\\end{align}"
   ]
  },
  {
   "cell_type": "code",
   "execution_count": 2,
   "metadata": {},
   "outputs": [],
   "source": [
    "def tangle(x, y, z, r):\n",
    "    return x**4 - r * x**2 + y**4 - 5 * y**2 + z**4 - 5 * z**2 + 11.8"
   ]
  },
  {
   "attachments": {},
   "cell_type": "markdown",
   "metadata": {},
   "source": [
    "# Uncertainty in $r$"
   ]
  },
  {
   "cell_type": "code",
   "execution_count": 3,
   "metadata": {},
   "outputs": [],
   "source": [
    "resolution = 128\n",
    "\n",
    "mu_r = 5.0\n",
    "std_r = 0.1\n",
    "\n",
    "num_samples = 100\n",
    "\n",
    "x = np.linspace(-2.5, 2.5, resolution)\n",
    "y = np.linspace(-2.5, 2.5, resolution)\n",
    "z = np.linspace(-2.5, 2.5, resolution)"
   ]
  },
  {
   "cell_type": "code",
   "execution_count": 4,
   "metadata": {},
   "outputs": [],
   "source": [
    "RNG = np.random.default_rng()\n",
    "\n",
    "xx, yy, zz = np.meshgrid(x, y, z)\n",
    "\n",
    "tangle_ensemble = np.empty( (resolution, resolution, resolution, num_samples) )\n",
    "for i in range(num_samples):\n",
    "   r = RNG.normal(mu_r, std_r)\n",
    "   tangle_ensemble[:,:,:, i] = tangle(xx, yy, zz, r)"
   ]
  },
  {
   "cell_type": "code",
   "execution_count": 9,
   "metadata": {},
   "outputs": [],
   "source": [
    "np.save('../../Data/Tangle/ensemble/Ensemble-resolution-{:d}-mu_r-{:g}-std_r-{:g}-samples-{:d}.npy'.format(resolution, mu_r, std_r, num_samples), tangle_ensemble)\n"
   ]
  },
  {
   "cell_type": "code",
   "execution_count": 10,
   "metadata": {},
   "outputs": [],
   "source": [
    "tangle_mean = np.mean(tangle_ensemble, axis=3)\n",
    "tangle_variance = np.var(tangle_ensemble, axis=3)"
   ]
  },
  {
   "cell_type": "code",
   "execution_count": 11,
   "metadata": {},
   "outputs": [],
   "source": [
    "np.save('../../Data/Tangle/ensemble/mean-resolution-{:d}-mu_r-{:g}-std_r-{:g}-samples-{:d}.npy'.format(resolution, mu_r, std_r, num_samples), tangle_mean)\n",
    "np.save('../../Data/Tangle/ensemble/variance-resolution-{:d}-mu_r-{:g}-std_r-{:g}-samples-{:d}.npy'.format(resolution, mu_r, std_r, num_samples), tangle_variance)\n",
    "\n",
    "tangle_mean.tofile('../../Data/Tangle/ensemble/mean-resolution-{:d}-mu_r-{:g}-std_r-{:g}-samples-{:d}.raw'.format(resolution, mu_r, std_r, num_samples))\n",
    "tangle_variance.tofile('../../Data/Tangle/ensemble/variance-resolution-{:d}-mu_r-{:g}-std_r-{:g}-samples-{:d}.raw'.format(resolution, mu_r, std_r, num_samples))\n",
    "\n",
    "affine = np.eye(4)\n",
    "nifti_file = nibabel.Nifti1Image(tangle_mean, affine)\n",
    "nibabel.save(nifti_file, '../../Data/Tangle/ensemble/mean-resolution-{:d}-mu_r-{:g}-std_r-{:g}-samples-{:d}.nii'.format(resolution, mu_r, std_r, num_samples))\n",
    "\n",
    "nifti_file = nibabel.Nifti1Image(tangle_variance, affine)\n",
    "nibabel.save(nifti_file, '../../Data/Tangle/ensemble/variance-resolution-{:d}-mu_r-{:g}-std_r-{:g}-samples-{:d}.nii'.format(resolution, mu_r, std_r, num_samples))"
   ]
  },
  {
   "attachments": {},
   "cell_type": "markdown",
   "metadata": {},
   "source": [
    "# Inspect"
   ]
  },
  {
   "cell_type": "code",
   "execution_count": 5,
   "metadata": {},
   "outputs": [],
   "source": [
    "tangle_mean = np.load('../../Data/Tangle/ensemble/mean-resolution-{:d}-mu_r-{:g}-std_r-{:g}-samples-{:d}.npy'.format(resolution, mu_r, std_r, num_samples))\n",
    "tangle_variance = np.load('../../Data/Tangle/ensemble/variance-resolution-{:d}-mu_r-{:g}-std_r-{:g}-samples-{:d}.npy'.format(resolution, mu_r, std_r, num_samples))\n"
   ]
  },
  {
   "cell_type": "code",
   "execution_count": 8,
   "metadata": {},
   "outputs": [
    {
     "data": {
      "application/vnd.jupyter.widget-view+json": {
       "model_id": "4e43b4b933f94efaa5726767f392c9ee",
       "version_major": 2,
       "version_minor": 0
      },
      "text/plain": [
       "interactive(children=(IntSlider(value=64, description='z', max=127), FloatSlider(value=-0.7, description='c', …"
      ]
     },
     "metadata": {},
     "output_type": "display_data"
    }
   ],
   "source": [
    "@widgets.interact(z=(0, len(z) - 1, 1), c=(-1., 1., 0.01), r=(0., 10.))\n",
    "def explore_tangle(z=resolution//2, c=-0.7):\n",
    "\n",
    "    plt.figure(figsize=(18,6))\n",
    "    plt.subplot(1,2,1)\n",
    "    plt.title('mean')\n",
    "    plt.imshow(tangle_mean[z, :, :], extent=[x[0], x[-1], y[0], y[-1]], vmin=np.min(tangle_mean), vmax=np.max(tangle_mean))\n",
    "    plt.colorbar()\n",
    "    plt.contour(x, y, tangle_mean[z,:,:], levels=[c])\n",
    "\n",
    "    plt.subplot(1,2,2)\n",
    "    plt.title('variance')\n",
    "    plt.imshow(tangle_variance[z, :, :], extent=[x[0], x[-1], y[0], y[-1]], vmin=np.min(tangle_variance), vmax=np.max(tangle_variance))\n",
    "    plt.colorbar()\n",
    "    plt.contour(x, y, tangle_mean[z,:,:], levels=[c])\n",
    "\n",
    "    plt.show()"
   ]
  },
  {
   "cell_type": "code",
   "execution_count": null,
   "metadata": {},
   "outputs": [],
   "source": []
  }
 ],
 "metadata": {
  "kernelspec": {
   "display_name": "pct",
   "language": "python",
   "name": "python3"
  },
  "language_info": {
   "codemirror_mode": {
    "name": "ipython",
    "version": 3
   },
   "file_extension": ".py",
   "mimetype": "text/x-python",
   "name": "python",
   "nbconvert_exporter": "python",
   "pygments_lexer": "ipython3",
   "version": "3.10.8"
  },
  "orig_nbformat": 4,
  "vscode": {
   "interpreter": {
    "hash": "1313183b19501a2416bbc9ce49d479f35a972677788ec3c0759d999f6a401c4e"
   }
  }
 },
 "nbformat": 4,
 "nbformat_minor": 2
}
