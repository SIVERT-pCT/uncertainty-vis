{
 "cells": [
  {
   "attachments": {},
   "cell_type": "markdown",
   "metadata": {},
   "source": [
    "# Tangle Ground Truth"
   ]
  },
  {
   "cell_type": "code",
   "execution_count": 1,
   "metadata": {},
   "outputs": [],
   "source": [
    "import numpy as np\n",
    "from matplotlib import pyplot as plt\n",
    "import nibabel\n",
    "import ipywidgets as widgets"
   ]
  },
  {
   "attachments": {},
   "cell_type": "markdown",
   "metadata": {},
   "source": [
    "\\begin{align}\n",
    "    x^4 - r x^2 + y^4 - 5 y^2 + z^4 - 5 z^2 + 11.8\n",
    "\\end{align}\n",
    "\n",
    "For $r=5$ and an iso-value $\\phi = -0.7$ the tangle is symmetric on all axes and the four quadrants just touch each other."
   ]
  },
  {
   "cell_type": "code",
   "execution_count": 2,
   "metadata": {},
   "outputs": [],
   "source": [
    "def tangle(x, y, z, r):\n",
    "    return x**4 - r * x**2 + y**4 - 5 * y**2 + z**4 - 5 * z**2 + 11.8"
   ]
  },
  {
   "cell_type": "code",
   "execution_count": 3,
   "metadata": {},
   "outputs": [
    {
     "data": {
      "application/vnd.jupyter.widget-view+json": {
       "model_id": "c0dedb7c48d941dfa7c7a4a6ccff8713",
       "version_major": 2,
       "version_minor": 0
      },
      "text/plain": [
       "interactive(children=(IntSlider(value=0, description='z', max=99), FloatSlider(value=-0.7, description='c', ma…"
      ]
     },
     "metadata": {},
     "output_type": "display_data"
    }
   ],
   "source": [
    "x = np.linspace(-2.5, 2.5, 100)\n",
    "y = np.linspace(-2.5, 2.5, 100)\n",
    "z = np.linspace(-2.5, 2.5, 100)\n",
    "\n",
    "xx, yy, zz = np.meshgrid(x, y, z)\n",
    "\n",
    "@widgets.interact(z=(0, len(z) - 1, 1), c=(-1., 1., 0.01), r=(0., 10.))\n",
    "def explore_tangle(z=0, c=-0.7, r=5.0):\n",
    "\n",
    "    t = tangle(xx, yy, zz, r)\n",
    "\n",
    "    plt.figure(figsize=(18,6))\n",
    "    plt.imshow(t[z, :, :], extent=[x[0], x[-1], y[0], y[-1]], vmin=np.min(t), vmax=np.max(t))\n",
    "    plt.colorbar()\n",
    "    plt.contour(x, y, t[z,:,:], levels=[c])\n",
    "    plt.show()"
   ]
  },
  {
   "cell_type": "code",
   "execution_count": 4,
   "metadata": {},
   "outputs": [],
   "source": [
    "resolution = 128\n",
    "\n",
    "x = np.linspace(-2.5, 2.5, resolution)\n",
    "y = np.linspace(-2.5, 2.5, resolution)\n",
    "z = np.linspace(-2.5, 2.5, resolution)\n",
    "\n",
    "xx, yy, zz = np.meshgrid(x, y, z)\n",
    "\n",
    "r = 5.0\n",
    "tangle_volume = tangle(xx, yy, zz, r)"
   ]
  },
  {
   "cell_type": "code",
   "execution_count": null,
   "metadata": {},
   "outputs": [],
   "source": [
    "np.save('../../Data/Tangle/Resolution-{:d}-r-{:g}.npy'.format(resolution, r), tangle_volume)\n",
    "affine = np.eye(4)\n",
    "nifti_file = nibabel.Nifti1Image(tangle_volume, affine)\n",
    "nibabel.save(nifti_file, '../../Data/Tangle/Resolution-{:d}-r-{:g}.nii'.format(resolution, r))"
   ]
  }
 ],
 "metadata": {
  "kernelspec": {
   "display_name": "pct",
   "language": "python",
   "name": "python3"
  },
  "language_info": {
   "codemirror_mode": {
    "name": "ipython",
    "version": 3
   },
   "file_extension": ".py",
   "mimetype": "text/x-python",
   "name": "python",
   "nbconvert_exporter": "python",
   "pygments_lexer": "ipython3",
   "version": "3.10.8"
  },
  "orig_nbformat": 4,
  "vscode": {
   "interpreter": {
    "hash": "1313183b19501a2416bbc9ce49d479f35a972677788ec3c0759d999f6a401c4e"
   }
  }
 },
 "nbformat": 4,
 "nbformat_minor": 2
}
