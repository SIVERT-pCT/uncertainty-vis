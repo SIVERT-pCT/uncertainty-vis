{
 "cells": [
  {
   "cell_type": "code",
   "execution_count": 1,
   "metadata": {},
   "outputs": [],
   "source": [
    "from pydicom import dcmread\n",
    "import numpy as np\n",
    "import os\n",
    "from matplotlib import pyplot as plt\n",
    "import ipywidgets as widgets\n",
    "from scipy import sparse\n",
    "from progress.bar import Bar"
   ]
  },
  {
   "cell_type": "code",
   "execution_count": 3,
   "metadata": {},
   "outputs": [],
   "source": [
    "folderPath = \"/home/vik/Dokumente/Promotion/pCT/uncertainty-vis/Data/CHAOS/Train_Sets/MR/\"\n",
    "# subpath = \"T2SPIR/DICOM_anon/\"\n",
    "subpath = \"T1DUAL/DICOM_anon/InPhase\"\n",
    "setlist = [\n",
    "\t[\"1\",slice(None, None, None)],\n",
    "\t[\"2\",slice(None, None, None)],\n",
    "\t[\"3\",slice(None, None, None)],\n",
    "\t[\"5\",slice(None, None, None)],\n",
    "\t[\"8\",slice(None, None, None)],\n",
    "\t[\"10\",slice(None, None, None)],\n",
    "\t[\"13\",slice(None, None, None)],\n",
    "\t[\"15\",slice(None, None, None)],\n",
    "\t[\"19\",slice(None, None, None)],\n",
    "\t[\"20\",slice(None, None, None)],\n",
    "\t[\"21\",slice(None, None, None)],\n",
    "\t[\"22\",slice(None, None, None)],\n",
    "\t[\"31\",slice(None, None, None)],\n",
    "\t[\"32\",slice(None, None, None)],\n",
    "\t[\"33\",slice(None, None, None)],\n",
    "\t[\"34\",slice(None, None, None)],\n",
    "\t[\"36\",slice(None, None, None)],\n",
    "\t[\"37\",slice(None, None, None)],\n",
    "\t[\"38\",slice(None, None, None)],\n",
    "\t[\"39\",slice(None, None, None)],\n",
    "]"
   ]
  },
  {
   "cell_type": "code",
   "execution_count": 21,
   "metadata": {},
   "outputs": [],
   "source": [
    "target_shape = 256\n",
    "persons = []\n",
    "for person, extend in setlist:\n",
    "    personPath = os.path.join(folderPath, person, subpath)\n",
    "    scans = []\n",
    "    scanFiles = os.listdir(personPath)\n",
    "    scanFiles.sort()\n",
    "    for item in scanFiles[extend]:\n",
    "        scanPath = os.path.join(personPath, item)\n",
    "\n",
    "        if os.path.isfile(scanPath):\n",
    "            ds = dcmread(scanPath)\n",
    "            current_shape = ds.pixel_array.shape[0]\n",
    "            cut = (current_shape - target_shape) // 2\n",
    "            img = ds.pixel_array\n",
    "            scans.append( img[cut:target_shape + cut, cut:target_shape + cut] )\n",
    "\n",
    "    persons.append( np.array(scans) )"
   ]
  },
  {
   "cell_type": "code",
   "execution_count": 22,
   "metadata": {},
   "outputs": [
    {
     "data": {
      "application/vnd.jupyter.widget-view+json": {
       "model_id": "58cdfc33f37e49948809e60f9e595862",
       "version_major": 2,
       "version_minor": 0
      },
      "text/plain": [
       "interactive(children=(IntSlider(value=0, description='pdx', max=19), IntSlider(value=0, description='idx'), Ou…"
      ]
     },
     "metadata": {},
     "output_type": "display_data"
    }
   ],
   "source": [
    "@widgets.interact( pdx=( 0, len(persons) - 1, 1 ), idx=( 0, 100, 1 ) )\n",
    "def show_scan(pdx=0, idx=0):\n",
    "    print(persons[pdx].shape)\n",
    "    plt.figure(figsize=(18,6))\n",
    "    plt.imshow(persons[pdx][idx,:,:])\n",
    "    plt.colorbar()\n",
    "    plt.show()"
   ]
  },
  {
   "cell_type": "code",
   "execution_count": 52,
   "metadata": {},
   "outputs": [
    {
     "name": "stdout",
     "output_type": "stream",
     "text": [
      "Compute best fit for set 0  out of  20\n",
      "Compute best fit for set 1  out of  20\n",
      "Compute best fit for set 2  out of  20\n",
      "Compute best fit for set 3  out of  20\n",
      "Compute best fit for set 4  out of  20\n",
      "Compute best fit for set 5  out of  20\n",
      "Compute best fit for set 6  out of  20\n",
      "Compute best fit for set 7  out of  20\n",
      "Compute best fit for set 8  out of  20\n",
      "Compute best fit for set 9  out of  20\n",
      "Compute best fit for set 10  out of  20\n",
      "Compute best fit for set 11  out of  20\n",
      "Compute best fit for set 12  out of  20\n",
      "Compute best fit for set 13  out of  20\n",
      "Compute best fit for set 14  out of  20\n",
      "Compute best fit for set 15  out of  20\n",
      "Compute best fit for set 16  out of  20\n",
      "Compute best fit for set 17  out of  20\n",
      "Compute best fit for set 18  out of  20\n"
     ]
    }
   ],
   "source": [
    "z_dim = persons[0].shape[0]\n",
    "ref = persons[0]\n",
    "persons_aligned = []\n",
    "for p in persons:\n",
    "    if p.shape[0] < z_dim:\n",
    "        z_dim = p.shape[0]\n",
    "        ref = p\n",
    "\n",
    "prog = 0\n",
    "for p in persons:\n",
    "    if p is ref:\n",
    "        continue\n",
    "    \n",
    "    best = -1\n",
    "    set = p\n",
    "    print(\"Compute best fit for set\", prog, \" out of \", len(persons))\n",
    "    prog += 1\n",
    "    for i in range(0, p.shape[0] - z_dim):\n",
    "        difference = ref - p[i:i+z_dim, :, :]\n",
    "        error = np.mean(difference**2)\n",
    "        \n",
    "        if error > best:\n",
    "            best = error\n",
    "            set = p[i:i+z_dim, :, :]\n",
    "    persons_aligned.append(set)"
   ]
  },
  {
   "cell_type": "code",
   "execution_count": 53,
   "metadata": {},
   "outputs": [
    {
     "data": {
      "text/plain": [
       "(19, 26, 256, 256)"
      ]
     },
     "execution_count": 53,
     "metadata": {},
     "output_type": "execute_result"
    }
   ],
   "source": [
    "np.shape(persons_aligned)"
   ]
  },
  {
   "cell_type": "code",
   "execution_count": 54,
   "metadata": {},
   "outputs": [
    {
     "name": "stdout",
     "output_type": "stream",
     "text": [
      "(26, 256, 256, 38)\n"
     ]
    }
   ],
   "source": [
    "weight = 20\n",
    "for i in range(weight-1):\n",
    "    persons_aligned.append(persons_aligned[0])\n",
    "\n",
    "persons_reshaped = np.transpose(persons_aligned, [1,2,3,0])\n",
    "print( persons_reshaped.shape )"
   ]
  },
  {
   "cell_type": "code",
   "execution_count": 55,
   "metadata": {},
   "outputs": [
    {
     "name": "stdout",
     "output_type": "stream",
     "text": [
      "(26, 256, 256)\n",
      "float64\n"
     ]
    }
   ],
   "source": [
    "mean = np.mean(persons_reshaped, axis=3)\n",
    "print(mean.shape)\n",
    "print(mean.dtype)\n",
    "mean.tofile(\"/home/vik/Dokumente/Promotion/pCT/uncertainty-vis/Data/CHAOS/MRInmeanW\" + str(weight) + \".raw\")"
   ]
  },
  {
   "cell_type": "code",
   "execution_count": 56,
   "metadata": {},
   "outputs": [
    {
     "name": "stdout",
     "output_type": "stream",
     "text": [
      "(26, 256, 256)\n",
      "float64\n"
     ]
    }
   ],
   "source": [
    "std = np.std(persons_reshaped, axis=3)\n",
    "print(std.shape)\n",
    "print(std.dtype)\n",
    "std.tofile(\"/home/vik/Dokumente/Promotion/pCT/uncertainty-vis/Data/CHAOS/MRInstdW\" + str(weight) + \".raw\")"
   ]
  },
  {
   "cell_type": "code",
   "execution_count": 49,
   "metadata": {},
   "outputs": [
    {
     "data": {
      "application/vnd.jupyter.widget-view+json": {
       "model_id": "c97d489162b447868a4c9e6083bc93f1",
       "version_major": 2,
       "version_minor": 0
      },
      "text/plain": [
       "interactive(children=(IntSlider(value=0, description='idx', max=25), Output()), _dom_classes=('widget-interact…"
      ]
     },
     "metadata": {},
     "output_type": "display_data"
    }
   ],
   "source": [
    "@widgets.interact(idx=(0,mean.shape[0]-1,1))\n",
    "def show_mean(idx=0):\n",
    "    plt.figure(figsize=(18,6))\n",
    "    plt.imshow(mean[idx,:,:])\n",
    "    plt.colorbar()\n",
    "    plt.show()"
   ]
  },
  {
   "attachments": {},
   "cell_type": "markdown",
   "metadata": {},
   "source": [
    "# Dense Stacked Covariance Matrix\n",
    "Creates a Covariance matrix for each point containing only the neighbors of the point. Thus, we get for each point a 8 times 8 covariance matrix."
   ]
  },
  {
   "cell_type": "code",
   "execution_count": 92,
   "metadata": {},
   "outputs": [],
   "source": [
    "def covPerCell(data, covArea = 0):\n",
    "\tdata = np.asarray(data)\n",
    "\tcovLength = 2 + 2 * covArea\n",
    "\tcov = []\n",
    "\tfor z in range(data.shape[0] - 1):\n",
    "\t\tprint(\"Computing covariance: \", z, \" out of \", data.shape[2] - 1)\n",
    "\t\tplane = []\n",
    "\t\tfor y in range(data.shape[1] - 1):\n",
    "\t\t\trow = []\n",
    "\t\t\tfor x in range(data.shape[2] - 1):\n",
    "\t\t\t\t#cell = data[x:x+2,y:y+2,z:z+2,:]\n",
    "\t\t\t\t#cell = np.reshape(cell,(8,data.shape[3]))\n",
    "\t\t\t\tcell = data[max(0,x-covArea):min(data.shape[0],(x+covArea+2)),max(0,y-covArea):min(data.shape[1],(y+covArea+2)),max(0,z-covArea):min(data.shape[2],(z+covArea+2)),:]\n",
    "\t\t\t\tcell = np.reshape(cell,(cell.shape[0]*cell.shape[1]*cell.shape[2],data.shape[3]))\n",
    "\t\t\t\tmatrix = np.cov(cell)\n",
    "\t\t\t\tfor zi in range(covLength):\n",
    "\t\t\t\t\tfor yi in range(covLength):\n",
    "\t\t\t\t\t\tfor xi in range(covLength):\n",
    "\t\t\t\t\t\t\tindex = zi * covLength * covLength + yi * covLength + xi\n",
    "\t\t\t\t\t\t\tif (x - xi + covArea + 1 < 0 or x + xi - covArea + 1 > data.shape[0] or\n",
    "\t\t\t\t\t\t\t\ty - yi + covArea + 1 < 0 or y + yi - covArea + 1 > data.shape[1] or\n",
    "\t\t\t\t\t\t\t\tz - zi + covArea + 1 < 0 or z + zi - covArea + 1 > data.shape[2]):\n",
    "\t\t\t\t\t\t\t\tmatrix = np.insert(matrix, index, 0.0, axis=0)\n",
    "\t\t\t\t\t\t\t\tmatrix = np.insert(matrix, index, 0.0, axis=1)\n",
    "\t\t\t\t\t\t\t\t#print(matrix.shape)\n",
    "\t\t\t\t#print(matrix.shape)\n",
    "\t\t\t\t\t\t\t\t\t\t\t\n",
    "\t\t\t\t\t\t\t\t\t\t\n",
    "\t\t\t\trow.append(matrix)\n",
    "\t\t\tplane.append(row)\n",
    "\t\tcov.append(plane)\n",
    "\treturn np.array(cov)"
   ]
  },
  {
   "cell_type": "code",
   "execution_count": 93,
   "metadata": {},
   "outputs": [
    {
     "name": "stdout",
     "output_type": "stream",
     "text": [
      "Computing covariance:  0  out of  255\n",
      "Computing covariance:  1  out of  255\n",
      "Computing covariance:  2  out of  255\n",
      "Computing covariance:  3  out of  255\n",
      "Computing covariance:  4  out of  255\n",
      "Computing covariance:  5  out of  255\n",
      "Computing covariance:  6  out of  255\n",
      "Computing covariance:  7  out of  255\n",
      "Computing covariance:  8  out of  255\n",
      "Computing covariance:  9  out of  255\n",
      "Computing covariance:  10  out of  255\n",
      "Computing covariance:  11  out of  255\n",
      "Computing covariance:  12  out of  255\n",
      "Computing covariance:  13  out of  255\n",
      "Computing covariance:  14  out of  255\n",
      "Computing covariance:  15  out of  255\n",
      "Computing covariance:  16  out of  255\n",
      "Computing covariance:  17  out of  255\n",
      "Computing covariance:  18  out of  255\n",
      "Computing covariance:  19  out of  255\n",
      "Computing covariance:  20  out of  255\n",
      "Computing covariance:  21  out of  255\n",
      "Computing covariance:  22  out of  255\n",
      "Computing covariance:  23  out of  255\n",
      "Computing covariance:  24  out of  255\n",
      "Computing covariance:  25  out of  255\n",
      "Computing covariance:  26  out of  255\n",
      "Computing covariance:  27  out of  255\n",
      "Computing covariance:  28  out of  255\n",
      "Computing covariance:  29  out of  255\n",
      "Computing covariance:  30  out of  255\n",
      "Computing covariance:  31  out of  255\n",
      "Computing covariance:  32  out of  255\n",
      "Computing covariance:  33  out of  255\n",
      "Computing covariance:  34  out of  255\n",
      "Computing covariance:  35  out of  255\n",
      "Computing covariance:  36  out of  255\n",
      "Computing covariance:  37  out of  255\n",
      "Computing covariance:  38  out of  255\n",
      "Computing covariance:  39  out of  255\n",
      "Computing covariance:  40  out of  255\n",
      "Computing covariance:  41  out of  255\n",
      "Computing covariance:  42  out of  255\n",
      "Computing covariance:  43  out of  255\n",
      "Computing covariance:  44  out of  255\n",
      "Computing covariance:  45  out of  255\n",
      "Computing covariance:  46  out of  255\n",
      "Computing covariance:  47  out of  255\n",
      "Computing covariance:  48  out of  255\n",
      "Computing covariance:  49  out of  255\n",
      "Computing covariance:  50  out of  255\n",
      "Computing covariance:  51  out of  255\n",
      "Computing covariance:  52  out of  255\n",
      "Computing covariance:  53  out of  255\n",
      "Computing covariance:  54  out of  255\n",
      "Computing covariance:  55  out of  255\n",
      "Computing covariance:  56  out of  255\n",
      "Computing covariance:  57  out of  255\n",
      "Computing covariance:  58  out of  255\n",
      "Computing covariance:  59  out of  255\n",
      "Computing covariance:  60  out of  255\n",
      "Computing covariance:  61  out of  255\n",
      "Computing covariance:  62  out of  255\n",
      "Computing covariance:  63  out of  255\n",
      "Computing covariance:  64  out of  255\n",
      "Computing covariance:  65  out of  255\n",
      "Computing covariance:  66  out of  255\n",
      "Computing covariance:  67  out of  255\n",
      "Computing covariance:  68  out of  255\n",
      "Computing covariance:  69  out of  255\n",
      "Computing covariance:  70  out of  255\n",
      "Computing covariance:  71  out of  255\n",
      "Computing covariance:  72  out of  255\n",
      "Computing covariance:  73  out of  255\n",
      "Computing covariance:  74  out of  255\n",
      "Computing covariance:  75  out of  255\n",
      "Computing covariance:  76  out of  255\n",
      "Computing covariance:  77  out of  255\n",
      "Computing covariance:  78  out of  255\n",
      "Computing covariance:  79  out of  255\n"
     ]
    }
   ],
   "source": [
    "cov = covPerCell(persons_reshaped)"
   ]
  },
  {
   "cell_type": "code",
   "execution_count": 94,
   "metadata": {},
   "outputs": [
    {
     "name": "stdout",
     "output_type": "stream",
     "text": [
      "(255, 255, 80, 8, 8)\n",
      "float64\n"
     ]
    }
   ],
   "source": [
    "cov = np.swapaxes(cov, 0, 2)\n",
    "print(cov.shape)\n",
    "print(cov.dtype)"
   ]
  },
  {
   "cell_type": "code",
   "execution_count": 100,
   "metadata": {},
   "outputs": [],
   "source": [
    "cov.tofile(\"/home/vik/Dokumente/Promotion/pCT/uncertainty-vis/Data/covW\" + str(weight) + \".raw\")"
   ]
  },
  {
   "attachments": {},
   "cell_type": "markdown",
   "metadata": {},
   "source": [
    "# Sparse Covariance Matrix"
   ]
  },
  {
   "cell_type": "code",
   "execution_count": 57,
   "metadata": {},
   "outputs": [
    {
     "name": "stdout",
     "output_type": "stream",
     "text": [
      "(26, 256, 256, 38) 1703936\n"
     ]
    },
    {
     "name": "stderr",
     "output_type": "stream",
     "text": [
      " |                                | 244/1703936"
     ]
    },
    {
     "name": "stdout",
     "output_type": "stream",
     "text": [
      "(1703936, 1703936)\n"
     ]
    },
    {
     "name": "stderr",
     "output_type": "stream",
     "text": [
      " |################################| 1703936/1703936\n",
      "\u001b[?25h"
     ]
    }
   ],
   "source": [
    "N = np.prod(persons_reshaped.shape[:-1])\n",
    "print(persons_reshaped.shape, N)\n",
    "covarianceMatrix = sparse.lil_matrix((N, N))\n",
    "print(covarianceMatrix.shape)\n",
    "\n",
    "dim = persons_reshaped.shape[:-1]\n",
    "\n",
    "with Bar(max=N, check_tty=False) as bar:\n",
    "    for x in range(dim[0]):\n",
    "        for y in range(dim[1]):\n",
    "            for z in range(dim[2]):\n",
    "                vertexId = np.int64( z + dim[2] * ( y + dim[1] * x ) )\n",
    "\n",
    "                # go through the neighbors (if existent) and calculate the covariance\n",
    "                # x axis\n",
    "                if x - 1 >= 0:\n",
    "                    otherId = np.int64( z + dim[2] * ( y + dim[1] * (x - 1) ) )\n",
    "                    subset = np.stack([\n",
    "                        persons_reshaped[x, y, z, :],\n",
    "                        persons_reshaped[x - 1, y, z, :],\n",
    "                    ])\n",
    "                    covariance = np.cov(subset)\n",
    "\n",
    "                    covarianceMatrix[vertexId, vertexId] = covariance[0,0]\n",
    "                    covarianceMatrix[vertexId, otherId] = covariance[0,1]\n",
    "                    covarianceMatrix[otherId, vertexId] = covariance[0,1]\n",
    "                    covarianceMatrix[otherId, otherId] = covariance[1,1]\n",
    "                if x + 1 < dim[0]:\n",
    "                    otherId = np.int64( z + dim[2] * ( y + dim[1] * (x + 1) ) )\n",
    "                    subset = np.stack([\n",
    "                        persons_reshaped[x, y, z, :],\n",
    "                        persons_reshaped[x + 1, y, z, :],\n",
    "                    ])\n",
    "                    covariance = np.cov(subset)\n",
    "\n",
    "                    covarianceMatrix[vertexId, vertexId] = covariance[0,0]\n",
    "                    covarianceMatrix[vertexId, otherId] = covariance[0,1]\n",
    "                    covarianceMatrix[otherId, vertexId] = covariance[0,1]\n",
    "                    covarianceMatrix[otherId, otherId] = covariance[1,1]\n",
    "\n",
    "                # y axis\n",
    "                if y - 1 >= 0:\n",
    "                    otherId = np.int64( z + dim[2] * ( (y-1) + dim[1] * x ) )\n",
    "                    subset = np.stack([\n",
    "                        persons_reshaped[x, y, z, :],\n",
    "                        persons_reshaped[x, y - 1, z, :],\n",
    "                    ])\n",
    "                    covariance = np.cov(subset)\n",
    "\n",
    "                    covarianceMatrix[vertexId, vertexId] = covariance[0,0]\n",
    "                    covarianceMatrix[vertexId, otherId] = covariance[0,1]\n",
    "                    covarianceMatrix[otherId, vertexId] = covariance[0,1]\n",
    "                    covarianceMatrix[otherId, otherId] = covariance[1,1]\n",
    "                if y + 1 < dim[1]:\n",
    "                    otherId = np.int64( z + dim[2] * ( (y+1) + dim[1] * x ) )\n",
    "                    subset = np.stack([\n",
    "                        persons_reshaped[x, y, z, :],\n",
    "                        persons_reshaped[x, y + 1, z, :],\n",
    "                    ])\n",
    "                    covariance = np.cov(subset)\n",
    "\n",
    "                    covarianceMatrix[vertexId, vertexId] = covariance[0,0]\n",
    "                    covarianceMatrix[vertexId, otherId] = covariance[0,1]\n",
    "                    covarianceMatrix[otherId, vertexId] = covariance[0,1]\n",
    "                    covarianceMatrix[otherId, otherId] = covariance[1,1]\n",
    "\n",
    "                # z axis\n",
    "                if z - 1 >= 0:\n",
    "                    otherId = np.int64( (z-1) + dim[2] * ( y + dim[1] * x ) )\n",
    "                    subset = np.stack([\n",
    "                        persons_reshaped[x, y, z, :],\n",
    "                        persons_reshaped[x, y, z - 1, :],\n",
    "                    ])\n",
    "                    covariance = np.cov(subset)\n",
    "\n",
    "                    covarianceMatrix[vertexId, vertexId] = covariance[0,0]\n",
    "                    covarianceMatrix[vertexId, otherId] = covariance[0,1]\n",
    "                    covarianceMatrix[otherId, vertexId] = covariance[0,1]\n",
    "                    covarianceMatrix[otherId, otherId] = covariance[1,1]\n",
    "                if z + 1 < dim[2]:\n",
    "                    otherId = np.int64( (z+1) + dim[2] * ( y + dim[1] * x ) )\n",
    "                    subset = np.stack([\n",
    "                        persons_reshaped[x, y, z, :],\n",
    "                        persons_reshaped[x, y, z + 1, :],\n",
    "                    ])\n",
    "                    covariance = np.cov(subset)\n",
    "\n",
    "                    covarianceMatrix[vertexId, vertexId] = covariance[0,0]\n",
    "                    covarianceMatrix[vertexId, otherId] = covariance[0,1]\n",
    "                    covarianceMatrix[otherId, vertexId] = covariance[0,1]\n",
    "                    covarianceMatrix[otherId, otherId] = covariance[1,1]\n",
    "\n",
    "                # xy diagonals\n",
    "                if x - 1 >= 0 and y - 1 >= 0:\n",
    "                    otherId = np.int64( z + dim[2] * ( (y - 1) + dim[1] * (x - 1) ) )\n",
    "                    subset = np.stack([\n",
    "                        persons_reshaped[x, y, z, :],\n",
    "                        persons_reshaped[x - 1, y - 1, z, :],\n",
    "                    ])\n",
    "                    covariance = np.cov(subset)\n",
    "\n",
    "                    covarianceMatrix[vertexId, vertexId] = covariance[0,0]\n",
    "                    covarianceMatrix[vertexId, otherId] = covariance[0,1]\n",
    "                    covarianceMatrix[otherId, vertexId] = covariance[0,1]\n",
    "                    covarianceMatrix[otherId, otherId] = covariance[1,1]\n",
    "                if x + 1 < dim[0] and y + 1 < dim[1]:\n",
    "                    otherId = np.int64( z + dim[2] * ( (y + 1) + dim[1] * (x + 1) ) )\n",
    "                    subset = np.stack([\n",
    "                        persons_reshaped[x, y, z, :],\n",
    "                        persons_reshaped[x + 1, y + 1, z, :],\n",
    "                    ])\n",
    "                    covariance = np.cov(subset)\n",
    "\n",
    "                    covarianceMatrix[vertexId, vertexId] = covariance[0,0]\n",
    "                    covarianceMatrix[vertexId, otherId] = covariance[0,1]\n",
    "                    covarianceMatrix[otherId, vertexId] = covariance[0,1]\n",
    "                    covarianceMatrix[otherId, otherId] = covariance[1,1]\n",
    "                if x + 1 < dim[0] and y - 1 >= 0:\n",
    "                    otherId = np.int64( z + dim[2] * ( (y - 1) + dim[1] * (x + 1) ) )\n",
    "                    subset = np.stack([\n",
    "                        persons_reshaped[x, y, z, :],\n",
    "                        persons_reshaped[x + 1, y - 1, z, :],\n",
    "                    ])\n",
    "                    covariance = np.cov(subset)\n",
    "\n",
    "                    covarianceMatrix[vertexId, vertexId] = covariance[0,0]\n",
    "                    covarianceMatrix[vertexId, otherId] = covariance[0,1]\n",
    "                    covarianceMatrix[otherId, vertexId] = covariance[0,1]\n",
    "                    covarianceMatrix[otherId, otherId] = covariance[1,1]\n",
    "                if x + 1 < dim[0] and y - 1 > 0:\n",
    "                    otherId = np.int64( z + dim[2] * ( (y - 1) + dim[1] * (x + 1) ) )\n",
    "                    subset = np.stack([\n",
    "                        persons_reshaped[x, y, z, :],\n",
    "                        persons_reshaped[x + 1, y - 1, z, :],\n",
    "                    ])\n",
    "                    covariance = np.cov(subset)\n",
    "\n",
    "                    covarianceMatrix[vertexId, vertexId] = covariance[0,0]\n",
    "                    covarianceMatrix[vertexId, otherId] = covariance[0,1]\n",
    "                    covarianceMatrix[otherId, vertexId] = covariance[0,1]\n",
    "                    covarianceMatrix[otherId, otherId] = covariance[1,1]\n",
    "\n",
    "                # xy diagonals below\n",
    "                if x - 1 >= 0 and y - 1 >= 0 and z - 1 >= 0:\n",
    "                    otherId = np.int64( (z - 1) + dim[2] * ( (y - 1) + dim[1] * (x - 1) ) )\n",
    "                    subset = np.stack([\n",
    "                        persons_reshaped[x, y, z, :],\n",
    "                        persons_reshaped[x - 1, y - 1, z - 1, :],\n",
    "                    ])\n",
    "                    covariance = np.cov(subset)\n",
    "\n",
    "                    covarianceMatrix[vertexId, vertexId] = covariance[0,0]\n",
    "                    covarianceMatrix[vertexId, otherId] = covariance[0,1]\n",
    "                    covarianceMatrix[otherId, vertexId] = covariance[0,1]\n",
    "                    covarianceMatrix[otherId, otherId] = covariance[1,1]\n",
    "                if x + 1 < dim[0] and y + 1 < dim[1] and z - 1 >= 0:\n",
    "                    otherId = np.int64( (z - 1) + dim[2] * ( (y + 1) + dim[1] * (x + 1) ) )\n",
    "                    subset = np.stack([\n",
    "                        persons_reshaped[x, y, z, :],\n",
    "                        persons_reshaped[x + 1, y + 1, z - 1, :],\n",
    "                    ])\n",
    "                    covariance = np.cov(subset)\n",
    "\n",
    "                    covarianceMatrix[vertexId, vertexId] = covariance[0,0]\n",
    "                    covarianceMatrix[vertexId, otherId] = covariance[0,1]\n",
    "                    covarianceMatrix[otherId, vertexId] = covariance[0,1]\n",
    "                    covarianceMatrix[otherId, otherId] = covariance[1,1]\n",
    "                if x + 1 < dim[0] and y - 1 >= 0 and z - 1 >= 0:\n",
    "                    otherId = np.int64( (z - 1) + dim[2] * ( (y - 1) + dim[1] * (x + 1) ) )\n",
    "                    subset = np.stack([\n",
    "                        persons_reshaped[x, y, z, :],\n",
    "                        persons_reshaped[x + 1, y - 1, z - 1, :],\n",
    "                    ])\n",
    "                    covariance = np.cov(subset)\n",
    "\n",
    "                    covarianceMatrix[vertexId, vertexId] = covariance[0,0]\n",
    "                    covarianceMatrix[vertexId, otherId] = covariance[0,1]\n",
    "                    covarianceMatrix[otherId, vertexId] = covariance[0,1]\n",
    "                    covarianceMatrix[otherId, otherId] = covariance[1,1]\n",
    "                if x + 1 < dim[0] and y - 1 > 0 and z - 1 >= 0:\n",
    "                    otherId = np.int64( (z - 1) + dim[2] * ( (y - 1) + dim[1] * (x + 1) ) )\n",
    "                    subset = np.stack([\n",
    "                        persons_reshaped[x, y, z, :],\n",
    "                        persons_reshaped[x + 1, y - 1, z - 1, :],\n",
    "                    ])\n",
    "                    covariance = np.cov(subset)\n",
    "\n",
    "                    covarianceMatrix[vertexId, vertexId] = covariance[0,0]\n",
    "                    covarianceMatrix[vertexId, otherId] = covariance[0,1]\n",
    "                    covarianceMatrix[otherId, vertexId] = covariance[0,1]\n",
    "                    covarianceMatrix[otherId, otherId] = covariance[1,1]\n",
    "\n",
    "                # xy diagonals above\n",
    "                if x - 1 >= 0 and y - 1 >= 0 and z + 1 < dim[2]:\n",
    "                    otherId = np.int64( (z + 1) + dim[2] * ( (y - 1) + dim[1] * (x - 1) ) )\n",
    "                    subset = np.stack([\n",
    "                        persons_reshaped[x, y, z, :],\n",
    "                        persons_reshaped[x - 1, y - 1, z + 1, :],\n",
    "                    ])\n",
    "                    covariance = np.cov(subset)\n",
    "\n",
    "                    covarianceMatrix[vertexId, vertexId] = covariance[0,0]\n",
    "                    covarianceMatrix[vertexId, otherId] = covariance[0,1]\n",
    "                    covarianceMatrix[otherId, vertexId] = covariance[0,1]\n",
    "                    covarianceMatrix[otherId, otherId] = covariance[1,1]\n",
    "                if x + 1 < dim[0] and y + 1 < dim[1] and z + 1 < dim[2]:\n",
    "                    otherId = np.int64( (z + 1) + dim[2] * ( (y + 1) + dim[1] * (x + 1) ) )\n",
    "                    subset = np.stack([\n",
    "                        persons_reshaped[x, y, z, :],\n",
    "                        persons_reshaped[x + 1, y + 1, z + 1, :],\n",
    "                    ])\n",
    "                    covariance = np.cov(subset)\n",
    "\n",
    "                    covarianceMatrix[vertexId, vertexId] = covariance[0,0]\n",
    "                    covarianceMatrix[vertexId, otherId] = covariance[0,1]\n",
    "                    covarianceMatrix[otherId, vertexId] = covariance[0,1]\n",
    "                    covarianceMatrix[otherId, otherId] = covariance[1,1]\n",
    "                if x + 1 < dim[0] and y - 1 >= 0 and z + 1 < dim[2]:\n",
    "                    otherId = np.int64( (z + 1) + dim[2] * ( (y - 1) + dim[1] * (x + 1) ) )\n",
    "                    subset = np.stack([\n",
    "                        persons_reshaped[x, y, z, :],\n",
    "                        persons_reshaped[x + 1, y - 1, z + 1, :],\n",
    "                    ])\n",
    "                    covariance = np.cov(subset)\n",
    "\n",
    "                    covarianceMatrix[vertexId, vertexId] = covariance[0,0]\n",
    "                    covarianceMatrix[vertexId, otherId] = covariance[0,1]\n",
    "                    covarianceMatrix[otherId, vertexId] = covariance[0,1]\n",
    "                    covarianceMatrix[otherId, otherId] = covariance[1,1]\n",
    "                if x + 1 < dim[0] and y - 1 > 0 and z + 1 < dim[2]:\n",
    "                    otherId = np.int64( (z + 1) + dim[2] * ( (y - 1) + dim[1] * (x + 1) ) )\n",
    "                    subset = np.stack([\n",
    "                        persons_reshaped[x, y, z, :],\n",
    "                        persons_reshaped[x + 1, y - 1, z + 1, :],\n",
    "                    ])\n",
    "                    covariance = np.cov(subset)\n",
    "\n",
    "                    covarianceMatrix[vertexId, vertexId] = covariance[0,0]\n",
    "                    covarianceMatrix[vertexId, otherId] = covariance[0,1]\n",
    "                    covarianceMatrix[otherId, vertexId] = covariance[0,1]\n",
    "                    covarianceMatrix[otherId, otherId] = covariance[1,1]\n",
    "                    \n",
    "                bar.next()\n",
    "            "
   ]
  },
  {
   "cell_type": "code",
   "execution_count": 58,
   "metadata": {},
   "outputs": [],
   "source": [
    "sparse.save_npz('/home/vik/Dokumente/Promotion/pCT/uncertainty-vis/Data/CHAOS/MRInSigmaW20.npz', covarianceMatrix.todia())"
   ]
  },
  {
   "cell_type": "code",
   "execution_count": 60,
   "metadata": {},
   "outputs": [
    {
     "data": {
      "image/png": "[encoded data removed]",
      "text/plain": [
       "<Figure size 1800x600 with 2 Axes>"
      ]
     },
     "metadata": {},
     "output_type": "display_data"
    }
   ],
   "source": [
    "plt.figure(figsize=(18,6))\n",
    "plt.spy(covarianceMatrix[:300,:300].toarray())\n",
    "plt.colorbar()\n",
    "plt.show()"
   ]
  },
  {
   "cell_type": "code",
   "execution_count": null,
   "metadata": {},
   "outputs": [],
   "source": []
  }
 ],
 "metadata": {
  "kernelspec": {
   "display_name": "pct",
   "language": "python",
   "name": "python3"
  },
  "language_info": {
   "codemirror_mode": {
    "name": "ipython",
    "version": 3
   },
   "file_extension": ".py",
   "mimetype": "text/x-python",
   "name": "python",
   "nbconvert_exporter": "python",
   "pygments_lexer": "ipython3",
   "version": "3.10.8"
  },
  "orig_nbformat": 4,
  "vscode": {
   "interpreter": {
    "hash": "1313183b19501a2416bbc9ce49d479f35a972677788ec3c0759d999f6a401c4e"
   }
  }
 },
 "nbformat": 4,
 "nbformat_minor": 2
}
