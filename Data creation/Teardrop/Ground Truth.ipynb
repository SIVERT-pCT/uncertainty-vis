{
 "cells": [
  {
   "attachments": {},
   "cell_type": "markdown",
   "metadata": {},
   "source": [
    "# Ground Truth"
   ]
  },
  {
   "cell_type": "code",
   "execution_count": 26,
   "metadata": {},
   "outputs": [],
   "source": [
    "import numpy as np\n",
    "from matplotlib import pyplot as plt\n",
    "import ipywidgets as widgets\n",
    "import nibabel"
   ]
  },
  {
   "attachments": {},
   "cell_type": "markdown",
   "metadata": {},
   "source": [
    "\\begin{align}\n",
    "    f(x, y, z) &= \\frac{x^5 + x^4}{2} - y^2 - z^2\n",
    "\\end{align}"
   ]
  },
  {
   "cell_type": "code",
   "execution_count": 2,
   "metadata": {},
   "outputs": [],
   "source": [
    "def teardrop(x, y, z):\n",
    "    return ( x**5 + x**4 ) / 2 - y**2 - z**2"
   ]
  },
  {
   "cell_type": "code",
   "execution_count": 25,
   "metadata": {},
   "outputs": [
    {
     "data": {
      "application/vnd.jupyter.widget-view+json": {
       "model_id": "f4e84efd0f2e40b28008b6ceef62ce04",
       "version_major": 2,
       "version_minor": 0
      },
      "text/plain": [
       "interactive(children=(IntSlider(value=128, description='idx', max=255), FloatSlider(value=0.0, description='c'…"
      ]
     },
     "metadata": {},
     "output_type": "display_data"
    }
   ],
   "source": [
    "resolution = 256\n",
    "\n",
    "x = np.linspace(-1, 1, resolution)\n",
    "y = np.linspace(-1, 1, resolution)\n",
    "z = np.linspace(-0.25, 0.25, resolution)\n",
    "\n",
    "xx, yy, zz = np.meshgrid(x, y, z)\n",
    "\n",
    "teardrop_volume = teardrop(xx, yy, zz)\n",
    "\n",
    "@widgets.interact(idx=(0, resolution - 1, 1), c=(-1.0, 1.0, 0.01))\n",
    "def explore_teardrop(idx=resolution//2, c=0.0):\n",
    "    plt.figure(figsize=(18,6))\n",
    "    plt.imshow(teardrop_volume[:, :, idx], extent=[x[0], x[-1], y[0], y[-1]], vmin=np.min(teardrop_volume), vmax=np.max(teardrop_volume))\n",
    "    plt.colorbar()\n",
    "    plt.contour(x, y, teardrop_volume[:,:,idx], levels=[c])\n",
    "    plt.show()"
   ]
  },
  {
   "cell_type": "code",
   "execution_count": 27,
   "metadata": {},
   "outputs": [],
   "source": [
    "np.save('../../Data/Teardrop/Resolution-{:d}.npy'.format(resolution), teardrop_volume)\n",
    "affine = np.eye(4)\n",
    "nifti_file = nibabel.Nifti1Image(teardrop_volume, affine)\n",
    "nibabel.save(nifti_file, '../../Data/Teardrop//Resolution-{:d}.nii'.format(resolution))"
   ]
  },
  {
   "cell_type": "code",
   "execution_count": null,
   "metadata": {},
   "outputs": [],
   "source": []
  }
 ],
 "metadata": {
  "kernelspec": {
   "display_name": "pct",
   "language": "python",
   "name": "python3"
  },
  "language_info": {
   "codemirror_mode": {
    "name": "ipython",
    "version": 3
   },
   "file_extension": ".py",
   "mimetype": "text/x-python",
   "name": "python",
   "nbconvert_exporter": "python",
   "pygments_lexer": "ipython3",
   "version": "3.10.8"
  },
  "orig_nbformat": 4,
  "vscode": {
   "interpreter": {
    "hash": "1313183b19501a2416bbc9ce49d479f35a972677788ec3c0759d999f6a401c4e"
   }
  }
 },
 "nbformat": 4,
 "nbformat_minor": 2
}
