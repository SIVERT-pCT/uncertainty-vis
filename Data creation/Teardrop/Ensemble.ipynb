{
 "cells": [
  {
   "attachments": {},
   "cell_type": "markdown",
   "metadata": {},
   "source": [
    "# Ensemble"
   ]
  },
  {
   "cell_type": "code",
   "execution_count": 1,
   "metadata": {},
   "outputs": [],
   "source": [
    "import numpy as np\n",
    "from matplotlib import pyplot as plt\n",
    "import ipywidgets as widgets\n",
    "import nibabel"
   ]
  },
  {
   "attachments": {},
   "cell_type": "markdown",
   "metadata": {},
   "source": [
    "\\begin{align}\n",
    "    f(x, y, z) &= \\frac{x^5 + x^4}{2} - y^2 - z^2\n",
    "\\end{align}"
   ]
  },
  {
   "cell_type": "code",
   "execution_count": 2,
   "metadata": {},
   "outputs": [],
   "source": [
    "def teardrop(x, y, z):\n",
    "    return ( x**5 + x**4 ) / 2 - y**2 - z**2"
   ]
  },
  {
   "cell_type": "code",
   "execution_count": 3,
   "metadata": {},
   "outputs": [],
   "source": [
    "resolution = 256\n",
    "\n",
    "spatial_std = 1.0 / resolution\n",
    "\n",
    "x = np.linspace(-1, 1, resolution)\n",
    "y = np.linspace(-1, 1, resolution)\n",
    "z = np.linspace(-0.25, 0.25, resolution)\n",
    "\n",
    "xx, yy, zz = np.meshgrid(x, y, z)\n",
    "\n",
    "num_samples = 100\n",
    "RNG = np.random.default_rng()\n",
    "\n",
    "teardrop_ensemble = np.empty( (resolution, resolution, resolution, num_samples) )\n",
    "for sample in range(num_samples):\n",
    "    noise_x = xx + RNG.normal(0, spatial_std)\n",
    "    noise_y = yy + RNG.normal(0, spatial_std)\n",
    "    noise_z = zz + RNG.normal(0, spatial_std)\n",
    "    teardrop_ensemble[:,:,:,sample] = teardrop(noise_x, noise_y, noise_z)\n"
   ]
  },
  {
   "cell_type": "code",
   "execution_count": 4,
   "metadata": {},
   "outputs": [],
   "source": [
    "np.save('../../Data/Teardrop/Ensemble-resolution-{:d}-spatial_std-{:g}-samples-{:d}.npy'.format(resolution, spatial_std, num_samples), teardrop_ensemble)"
   ]
  },
  {
   "cell_type": "code",
   "execution_count": 5,
   "metadata": {},
   "outputs": [],
   "source": [
    "teardrop_mean = np.mean(teardrop_ensemble, axis=3)\n",
    "teardrop_variance = np.var(teardrop_ensemble, axis=3)"
   ]
  },
  {
   "cell_type": "code",
   "execution_count": 6,
   "metadata": {},
   "outputs": [],
   "source": [
    "np.save('../../Data/Teardrop/ensemble//mean-resolution-{:d}-spatial_std-{:g}-samples-{:d}.npy'.format(resolution, spatial_std, num_samples), teardrop_mean)\n",
    "np.save('../../Data/Teardrop/ensemble/variance-resolution-{:d}-spatial_std-{:g}-samples-{:d}.npy'.format(resolution, spatial_std, num_samples), teardrop_variance)\n",
    "\n",
    "affine = np.eye(4)\n",
    "nifti_file = nibabel.Nifti1Image(teardrop_mean, affine)\n",
    "nibabel.save(nifti_file, '../../Data/Teardrop/ensemble/mean-resolution-{:d}-spatial_std-{:g}-samples-{:d}.nii'.format(resolution, spatial_std, num_samples))\n",
    "\n",
    "nifti_file = nibabel.Nifti1Image(teardrop_variance, affine)\n",
    "nibabel.save(nifti_file, '../../Data/Teardrop/ensemble/variance-resolution-{:d}-spatial_std-{:g}-samples-{:d}.nii'.format(resolution, spatial_std, num_samples))"
   ]
  },
  {
   "cell_type": "code",
   "execution_count": null,
   "metadata": {},
   "outputs": [],
   "source": []
  }
 ],
 "metadata": {
  "kernelspec": {
   "display_name": "pct",
   "language": "python",
   "name": "python3"
  },
  "language_info": {
   "codemirror_mode": {
    "name": "ipython",
    "version": 3
   },
   "file_extension": ".py",
   "mimetype": "text/x-python",
   "name": "python",
   "nbconvert_exporter": "python",
   "pygments_lexer": "ipython3",
   "version": "3.10.8"
  },
  "orig_nbformat": 4,
  "vscode": {
   "interpreter": {
    "hash": "1313183b19501a2416bbc9ce49d479f35a972677788ec3c0759d999f6a401c4e"
   }
  }
 },
 "nbformat": 4,
 "nbformat_minor": 2
}
