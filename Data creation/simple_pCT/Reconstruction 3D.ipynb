{
 "cells": [
  {
   "cell_type": "code",
   "execution_count": 14,
   "metadata": {},
   "outputs": [],
   "source": [
    "import numpy as np\n",
    "from matplotlib import pyplot as plt\n",
    "from scipy import sparse\n",
    "from skimage import transform\n",
    "import ipywidgets as widgets"
   ]
  },
  {
   "cell_type": "code",
   "execution_count": 15,
   "metadata": {},
   "outputs": [],
   "source": [
    "rsp = np.load('../../Data/simple_pCT/Phantoms/Head/RSP.npy')\n",
    "\n",
    "scale = 1\n",
    "phantom = np.pad(rsp[:,:,rsp.shape[2]//2], ((30*scale,30*scale), (100*scale, 100*scale)))\n",
    "RSP_shape = phantom.shape[:2]"
   ]
  },
  {
   "cell_type": "code",
   "execution_count": 16,
   "metadata": {},
   "outputs": [],
   "source": [
    "num_angle = 180\n",
    "num_offset = 1\n",
    "num_spotx = 130\n",
    "chord_length = True\n",
    "filter_name='ramp'\n",
    "chords = 'exact' if chord_length else 'map'\n",
    "\n",
    "MLP_angles_spotx = sparse.load_npz('../../Data/simple_pCT/MLP/MLP_angles{:d}_offset{:d}_spotx{:d}_exact_{:d}_{:d}.npz'.format(num_angle, num_offset, num_spotx, RSP_shape[0], RSP_shape[1]))"
   ]
  },
  {
   "cell_type": "code",
   "execution_count": 17,
   "metadata": {},
   "outputs": [],
   "source": [
    "theta = np.linspace(0., 180., num_angle, endpoint=False)\n",
    "\n",
    "reconstructed = np.empty((num_spotx,num_spotx,rsp.shape[2]))\n",
    "for z in range(rsp.shape[2]):\n",
    "    scale = 1\n",
    "    phantom = np.pad(rsp[:,:,z], ((30*scale,30*scale), (100*scale, 100*scale)))\n",
    "\n",
    "    x = phantom.flatten()\n",
    "\n",
    "    b_w = MLP_angles_spotx @ x\n",
    "    wepl = np.reshape(b_w, (num_spotx, num_angle))\n",
    "\n",
    "    reconstructed[:,:,z] = transform.iradon(wepl, theta=theta, filter_name=filter_name, circle=True)\n"
   ]
  },
  {
   "cell_type": "code",
   "execution_count": 18,
   "metadata": {},
   "outputs": [
    {
     "data": {
      "application/vnd.jupyter.widget-view+json": {
       "model_id": "f987d5143e4a4194bfb3a3505a0ceed3",
       "version_major": 2,
       "version_minor": 0
      },
      "text/plain": [
       "interactive(children=(IntSlider(value=0, description='z', max=1025), Output()), _dom_classes=('widget-interact…"
      ]
     },
     "metadata": {},
     "output_type": "display_data"
    }
   ],
   "source": [
    "@widgets.interact(z=(0,rsp.shape[2]-1,1))\n",
    "def show_reconstruction(z=0):\n",
    "    plt.figure()\n",
    "    plt.imshow(reconstructed[:,:,z], aspect='auto')\n",
    "    plt.colorbar()\n",
    "    plt.show()"
   ]
  },
  {
   "cell_type": "code",
   "execution_count": 20,
   "metadata": {},
   "outputs": [],
   "source": [
    "np.save('../../Data/simple_pCT/Reconstruction/Head/{:d}_{:d}/3D/RSP_angles{:d}_offset{:d}_spotx{:d}_{:s}_{:s}.npy'.format(RSP_shape[0], RSP_shape[1], num_angle, num_offset, num_spotx, chords, filter_name), reconstructed)"
   ]
  },
  {
   "cell_type": "code",
   "execution_count": null,
   "metadata": {},
   "outputs": [],
   "source": []
  }
 ],
 "metadata": {
  "kernelspec": {
   "display_name": "pct",
   "language": "python",
   "name": "python3"
  },
  "language_info": {
   "codemirror_mode": {
    "name": "ipython",
    "version": 3
   },
   "file_extension": ".py",
   "mimetype": "text/x-python",
   "name": "python",
   "nbconvert_exporter": "python",
   "pygments_lexer": "ipython3",
   "version": "3.10.0"
  }
 },
 "nbformat": 4,
 "nbformat_minor": 2
}
