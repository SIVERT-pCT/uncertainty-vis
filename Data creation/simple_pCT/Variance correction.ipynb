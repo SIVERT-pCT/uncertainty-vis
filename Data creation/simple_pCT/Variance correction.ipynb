{
 "cells": [
  {
   "cell_type": "code",
   "execution_count": 1,
   "metadata": {},
   "outputs": [],
   "source": [
    "import numpy as np"
   ]
  },
  {
   "cell_type": "code",
   "execution_count": 2,
   "metadata": {},
   "outputs": [],
   "source": [
    "available_angles = [90, 101, 112, 123, 135, 146, 157, 168]\n",
    "available_filters = ['ramp', 'cosine', 'hamming', 'hann', 'shepp-logan']\n",
    "\n",
    "for num_angle in available_angles:\n",
    "    for filter_name in available_filters:\n",
    "\n",
    "        num_offset = 1\n",
    "        num_spotx = 130\n",
    "        chord_length = True\n",
    "        RSP_shape = [190, 1226]\n",
    "        chords = 'exact' if chord_length else 'map'\n",
    "\n",
    "        variance = np.load('../../Data/simple_pCT/Variance/Variance_raedler_angles{:d}_offset{:d}_spotx{:d}_{:s}_{:s}_{:d}_{:d}.npy'.format(num_angle, num_offset, num_spotx, chords, filter_name, RSP_shape[0], RSP_shape[1]))\n",
    "\n",
    "        variance = variance[:,:,::8]\n",
    "\n",
    "        np.save('../../Data/simple_pCT/Variance/Variance_raedler_angles{:d}_offset{:d}_spotx{:d}_{:s}_{:s}_{:d}_{:d}.npy'.format(num_angle, num_offset, num_spotx, chords, filter_name, RSP_shape[0], RSP_shape[1]), variance)"
   ]
  },
  {
   "cell_type": "code",
   "execution_count": null,
   "metadata": {},
   "outputs": [],
   "source": []
  }
 ],
 "metadata": {
  "kernelspec": {
   "display_name": "ai",
   "language": "python",
   "name": "python3"
  },
  "language_info": {
   "codemirror_mode": {
    "name": "ipython",
    "version": 3
   },
   "file_extension": ".py",
   "mimetype": "text/x-python",
   "name": "python",
   "nbconvert_exporter": "python",
   "pygments_lexer": "ipython3",
   "version": "3.9.16"
  }
 },
 "nbformat": 4,
 "nbformat_minor": 2
}
