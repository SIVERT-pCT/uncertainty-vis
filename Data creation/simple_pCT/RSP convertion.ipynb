{
 "cells": [
  {
   "cell_type": "code",
   "execution_count": 1,
   "id": "6908b929",
   "metadata": {
    "metadata": {}
   },
   "outputs": [],
   "source": [
    "import numpy as np\n",
    "from matplotlib import pyplot as plt\n",
    "import ipywidgets as widgets"
   ]
  },
  {
   "cell_type": "markdown",
   "id": "cc11324d",
   "metadata": {},
   "source": [
    "Giacometti et al - 2017 - Development of a high resolution voxelised head phantom for medical physics applications"
   ]
  },
  {
   "cell_type": "code",
   "execution_count": 7,
   "id": "bbb9e054",
   "metadata": {
    "metadata": {}
   },
   "outputs": [],
   "source": [
    "data = np.fromfile('../../Data/simple_pCT/Phantoms/Head//imageDump.raw', dtype=np.float32, sep=\"\")\n",
    "imageDump = data.reshape((130, 1026, 1026))"
   ]
  },
  {
   "cell_type": "code",
   "execution_count": 8,
   "id": "b5b2a2f9",
   "metadata": {
    "metadata": {}
   },
   "outputs": [
    {
     "data": {
      "application/vnd.jupyter.widget-view+json": {
       "model_id": "07fbe328633247d794c4f3a5850c76ac",
       "version_major": 2,
       "version_minor": 0
      },
      "text/plain": [
       "interactive(children=(IntSlider(value=513, description='y', max=1025), Output()), _dom_classes=('widget-intera…"
      ]
     },
     "metadata": {},
     "output_type": "display_data"
    }
   ],
   "source": [
    "@widgets.interact(y=(0,imageDump.shape[2]-1,1))\n",
    "def show_dmap(y=imageDump.shape[2]//2):\n",
    "    plt.figure(figsize=(18,10))\n",
    "    plt.imshow(imageDump[:,::6,y], aspect='auto', origin='lower')\n",
    "    plt.colorbar()\n",
    "    plt.show()"
   ]
  },
  {
   "cell_type": "code",
   "execution_count": 9,
   "id": "2083904e",
   "metadata": {
    "metadata": {}
   },
   "outputs": [],
   "source": [
    "mapping = np.array([\n",
    "    [-1010, -200],\n",
    "    [-200, 40],\n",
    "    [40, 80],\n",
    "    [80, 190],\n",
    "    [190, 600],\n",
    "    [600, 1100],\n",
    "    [1100, 1800],\n",
    "    [1800, 2500]\n",
    "])\n",
    "\n",
    "RSP_values = np.array([\n",
    "    0.001064, # Air\n",
    "    1.032, # RSP_SOFT_TISSUE\n",
    "    1.044, # RSP_BRAIN_TISSUE\n",
    "    1.069, # RSP_SPINAL_DISC\n",
    "    1.111, # RSP_TRABECULAR_BONE\n",
    "    1.331, # RSP_CORTICAL_BONE\n",
    "    1.524, # RSP_TOOTH_DENTINE\n",
    "    1.651 # RSP_TOOTH_ENAMEL\n",
    "])"
   ]
  },
  {
   "cell_type": "code",
   "execution_count": 10,
   "id": "5e6c2071",
   "metadata": {
    "metadata": {}
   },
   "outputs": [],
   "source": [
    "RSP = np.zeros_like(imageDump).flatten()\n",
    "#RSP[ (mapping[0,0] < data) & (data < mapping[0,1]) ] = RSP_values[0]\n",
    "#RSP[ (mapping[1,0] < data) & (data < mapping[1,1]) ] = RSP_values[1]\n",
    "#RSP[ (mapping[2,0] < data) & (data < mapping[2,1]) ] = RSP_values[2]\n",
    "#RSP[ (mapping[3,0] < data) & (data < mapping[3,1]) ] = RSP_values[3]\n",
    "#RSP[ (mapping[4,0] < data) & (data < mapping[4,1]) ] = RSP_values[4]\n",
    "#RSP[ (mapping[5,0] < data) & (data < mapping[5,1]) ] = RSP_values[5]\n",
    "#RSP[ (mapping[6,0] < data) & (data < mapping[6,1]) ] = RSP_values[6]\n",
    "#RSP[ (mapping[7,0] < data) & (data < mapping[7,1]) ] = RSP_values[7]\n",
    "\n",
    "for m,rsp in zip(mapping, RSP_values):\n",
    "    RSP[ (m[0] < data) & (data < m[1]) ] = rsp\n",
    "    \n",
    "RSP = RSP.reshape(imageDump.shape)"
   ]
  },
  {
   "cell_type": "code",
   "execution_count": 11,
   "id": "f3908d8c",
   "metadata": {
    "metadata": {}
   },
   "outputs": [
    {
     "data": {
      "application/vnd.jupyter.widget-view+json": {
       "model_id": "a4d74e8a5a2a4c88a227d2b73e704a8c",
       "version_major": 2,
       "version_minor": 0
      },
      "text/plain": [
       "interactive(children=(IntSlider(value=513, description='y', max=1025), Output()), _dom_classes=('widget-intera…"
      ]
     },
     "metadata": {},
     "output_type": "display_data"
    }
   ],
   "source": [
    "@widgets.interact(y=(0,RSP.shape[2]-1,1))\n",
    "def show_dmap(y=RSP.shape[2]//2):\n",
    "    plt.figure(figsize=(18,10))\n",
    "    plt.imshow(RSP[:,::6,y], aspect='auto', origin='lower')\n",
    "    plt.colorbar()\n",
    "    plt.show()"
   ]
  },
  {
   "cell_type": "code",
   "execution_count": 12,
   "id": "4b2caa19",
   "metadata": {
    "metadata": {}
   },
   "outputs": [],
   "source": [
    "np.save('../../Data/simple_pCT/Phantoms/Head/RSP.npy', RSP)"
   ]
  },
  {
   "cell_type": "code",
   "execution_count": null,
   "id": "200b8132",
   "metadata": {},
   "outputs": [],
   "source": []
  }
 ],
 "metadata": {
  "kernelspec": {
   "display_name": "pct",
   "language": "python",
   "name": "python3"
  },
  "language_info": {
   "codemirror_mode": {
    "name": "ipython",
    "version": 3
   },
   "file_extension": ".py",
   "mimetype": "text/x-python",
   "name": "python",
   "nbconvert_exporter": "python",
   "pygments_lexer": "ipython3",
   "version": "3.10.4"
  }
 },
 "nbformat": 4,
 "nbformat_minor": 5
}
