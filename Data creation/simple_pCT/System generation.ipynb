{
 "cells": [
  {
   "cell_type": "code",
   "execution_count": 1,
   "id": "eeb17fc4",
   "metadata": {
    "metadata": {}
   },
   "outputs": [],
   "source": [
    "import numpy as np\n",
    "from matplotlib import pyplot as plt\n",
    "import ipywidgets as widgets\n",
    "from scipy import sparse\n",
    "from scipy import integrate\n",
    "from scipy.interpolate import CubicSpline\n",
    "from scipy.sparse import linalg\n",
    "import concurrent.futures"
   ]
  },
  {
   "cell_type": "markdown",
   "id": "143edae7",
   "metadata": {},
   "source": [
    "# System generation\n",
    "We define the pCT system as a linear system as followed:\n",
    "$$\n",
    "    A x = b,\n",
    "$$\n",
    "while the matrix $A \\in \\mathbb{R}^{N \\times M}$ contains on each row a unique Most Likely Path of shape $M = I \\times J$ for each traversing proton of amount $N$, $b \\in \\mathbb{R}^N$ represents the Water Equvalent Path Length of each proton and $x \\in \\mathbb{R}^{I \\times J}$ models the Residual Stopping Power of the phantom. "
   ]
  },
  {
   "cell_type": "code",
   "execution_count": 2,
   "id": "ef66bf0a",
   "metadata": {
    "metadata": {}
   },
   "outputs": [
    {
     "name": "stdout",
     "output_type": "stream",
     "text": [
      "(130, 1026)\n"
     ]
    }
   ],
   "source": [
    "RSP_shape = (130, 1026)\n",
    "print(RSP_shape)"
   ]
  },
  {
   "cell_type": "markdown",
   "id": "8352bbc4",
   "metadata": {},
   "source": [
    "# System matrix A"
   ]
  },
  {
   "cell_type": "code",
   "execution_count": 13,
   "id": "1fbd27de",
   "metadata": {
    "metadata": {},
    "scrolled": false
   },
   "outputs": [
    {
     "data": {
      "application/vnd.jupyter.widget-view+json": {
       "model_id": "eee8ac300d094b3db0712a549c0181ec",
       "version_major": 2,
       "version_minor": 0
      },
      "text/plain": [
       "interactive(children=(IntSlider(value=15, description='offset', max=50, min=-50), IntSlider(value=-51, descrip…"
      ]
     },
     "metadata": {},
     "output_type": "display_data"
    }
   ],
   "source": [
    "def get_mlp(spline, phi, spotx=0, shape=(130, 1026), chord_length=True):\n",
    "    MLP_prototype = sparse.lil_matrix(shape)\n",
    "    \n",
    "    rotation = np.array([\n",
    "        [np.cos(-phi), -np.sin(-phi)],\n",
    "        [np.sin(-phi), np.cos(-phi)]\n",
    "    ]).T\n",
    "      \n",
    "    z_start = -81\n",
    "    dz = ( 2 * 81 )/shape[1]/2\n",
    "    box_edge = 96 # x direction\n",
    "    \n",
    "    # draw the spline\n",
    "    i = np.arange(-600,shape[1]+1600)\n",
    "    z_mlp = i * dz + z_start\n",
    "    x_mlp = spline(z_mlp)\n",
    "    # rotate\n",
    "    point_mlp = (rotation @ np.array([z_mlp, x_mlp])).T\n",
    "    \n",
    "    i_rotated = np.int64((point_mlp[:,0] - z_start) / dz/2)\n",
    "    j_rotated = np.int64((point_mlp[:,1] + box_edge) * shape[0] / (2 * box_edge) )\n",
    "    \n",
    "    valid_i = (i_rotated >= 0) & (i_rotated < shape[1])\n",
    "    valid_j = (j_rotated >= 0) & (j_rotated < shape[0])\n",
    "    \n",
    "    valid = valid_i & valid_j\n",
    "    \n",
    "    MLP_prototype[ j_rotated[valid], i_rotated[valid] ] = 1\n",
    "            \n",
    "    if chord_length:\n",
    "        points = np.array([z_mlp[valid], x_mlp[valid]]).transpose()\n",
    "        dx_dz = spline(points[:,0], 1)\n",
    "        \n",
    "        length = np.sqrt( dz**2 + dx_dz**2).sum()\n",
    "                \n",
    "        return MLP_prototype / length\n",
    "    else:\n",
    "        return MLP_prototype\n",
    "    \n",
    "    \n",
    "@widgets.interact(offset=(-50,50,1), phi=(-180,180,1), spotx=(-95,95,1))\n",
    "def show_beam(offset=15, phi=-51, spotx=0):\n",
    "    points = np.array([\n",
    "        [-500,spotx], # beam source\n",
    "        [-400,spotx],\n",
    "        [-300,spotx],\n",
    "        [-200,spotx],\n",
    "        [-100,spotx],\n",
    "        [-81,spotx], # enter phantom\n",
    "\n",
    "        [81, offset + spotx] # leave phantom\n",
    "    ])\n",
    "    \n",
    "    phi *= -np.pi/180\n",
    "    \n",
    "    rotation = np.array([\n",
    "        [np.cos(phi), -np.sin(phi)],\n",
    "        [np.sin(phi), np.cos(phi)]\n",
    "    ]).T\n",
    "\n",
    "    cube = np.array([\n",
    "        [-81,-96],\n",
    "        [-81,96],\n",
    "        [81,96],\n",
    "        [81,-96],\n",
    "        [-81,-96]\n",
    "    ]).T\n",
    "    \n",
    "    cube = (rotation @ cube).T\n",
    "\n",
    "    cs = CubicSpline(points[:,0], points[:,1])\n",
    "    tangent = cs(81, 1)\n",
    "    print('sensor hit: x =', tangent * (277-81) + cs(81))\n",
    "    \n",
    "    \n",
    "    MLP_prototype = get_mlp(cs, phi, spotx, shape=RSP_shape)\n",
    "    \n",
    "    z = np.linspace(-500,81)\n",
    "\n",
    "    plt.figure(figsize=(18,6))\n",
    "    plt.subplot(1,2,1)\n",
    "    plt.title('Overview')\n",
    "    plt.plot(cube[:,0], cube[:,1], 'k', lw=2)\n",
    "    plt.plot([277, 277], [-82, 82], c='orange', lw=2)\n",
    "    plt.plot(z, cs(z), c='tab:red', ls='dashed')\n",
    "    plt.plot(np.linspace(81, 277), tangent * np.linspace(0,277-81) + cs(81), c='tab:red', ls='dashed')\n",
    "    plt.grid()\n",
    "    plt.xlabel('z')\n",
    "    plt.ylabel('x')\n",
    "    plt.subplot(1,2,2)\n",
    "    plt.title('MLP')\n",
    "    plt.spy(MLP_prototype.toarray(), aspect='auto', origin='lower')\n",
    "    plt.colorbar()\n",
    "    plt.show()"
   ]
  },
  {
   "cell_type": "code",
   "execution_count": 11,
   "id": "c7089a55",
   "metadata": {},
   "outputs": [
    {
     "name": "stdout",
     "output_type": "stream",
     "text": [
      "179 1 130\n"
     ]
    }
   ],
   "source": [
    "num_angle = 179\n",
    "num_offset = 1\n",
    "num_spotx = 130\n",
    "chord_length = True\n",
    "print(num_angle, num_offset, num_spotx)"
   ]
  },
  {
   "cell_type": "code",
   "execution_count": 15,
   "id": "83c25999",
   "metadata": {},
   "outputs": [],
   "source": [
    "def worker_spotx_future(idx, cs, phi, spotx, target_shape, chord_length):\n",
    "    return get_mlp(cs, phi, spotx, shape=target_shape, chord_length=chord_length).reshape((1,-1))"
   ]
  },
  {
   "cell_type": "code",
   "execution_count": 16,
   "id": "96dbd275",
   "metadata": {},
   "outputs": [],
   "source": [
    "target_shape = RSP_shape\n",
    "\n",
    "angles = -np.linspace(-180,180,num_angle) * np.pi / 180\n",
    "if num_offset == 1:\n",
    "    offsets = [0]\n",
    "else:\n",
    "    offsets = np.linspace(-15, 15, num_offset)\n",
    "spotxs = np.linspace(-95, 95, num_spotx)\n",
    "\n",
    "MLP_angles_offsets_spotx = sparse.lil_matrix((len(angles) * len(offsets) * len(spotxs), np.prod(target_shape)))\n",
    "\n",
    "future_to_idx = {}\n",
    "with concurrent.futures.ThreadPoolExecutor(max_workers = 32) as executor:\n",
    "    for odx,spotx in enumerate(spotxs):\n",
    "        for xdx, offset in enumerate(offsets):\n",
    "        \n",
    "            points = np.array([\n",
    "                [-500,spotx], # beam source\n",
    "                [-400,spotx],\n",
    "                [-300,spotx],\n",
    "                [-200,spotx],\n",
    "                [-100,spotx],\n",
    "                [-81,spotx], # enter phantom\n",
    "\n",
    "                [81,offset + spotx] # leave phantom\n",
    "            ])\n",
    "\n",
    "            cs = CubicSpline(points[:,0], points[:,1])\n",
    "\n",
    "            for adx,phi in enumerate(angles):\n",
    "                idx = odx * len(angles)*len(offsets) + xdx * len(angles) + adx\n",
    "\n",
    "                future = executor.submit(worker_spotx_future, idx, cs, phi, spotx, target_shape, chord_length)\n",
    "                future_to_idx[future] = idx\n",
    "            \n",
    "for future in concurrent.futures.as_completed(future_to_idx):\n",
    "    idx = future_to_idx[future]\n",
    "    try:\n",
    "        MLP_angles_offsets_spotx[idx,:] = future.result()\n",
    "    except Exception as exc:\n",
    "            print('%r generated an exception: %s' % (idx, exc))"
   ]
  },
  {
   "cell_type": "code",
   "execution_count": 17,
   "id": "b7ef81ef",
   "metadata": {},
   "outputs": [
    {
     "name": "stdout",
     "output_type": "stream",
     "text": [
      "MLP_angles179_offset1_spotx130_exact_130_1026.npz\n"
     ]
    }
   ],
   "source": [
    "if chord_length:\n",
    "    sparse.save_npz('../../Data/simple_pCT/MLP/MLP_angles{:d}_offset{:d}_spotx{:d}_exact_{:d}_{:d}.npz'.format(num_angle, num_offset, num_spotx, target_shape[0], target_shape[1]), MLP_angles_offsets_spotx.tocsc())\n",
    "    print('MLP_angles{:d}_offset{:d}_spotx{:d}_exact_{:d}_{:d}.npz'.format(num_angle, num_offset, num_spotx, target_shape[0], target_shape[1]))\n",
    "else:\n",
    "    sparse.save_npz('MLP_angles{:d}_offset{:d}_spotx{:d}_map_{:d}_{:d}.npz'.format(num_angle, num_offset, num_spotx, target_shape[0], target_shape[1]), MLP_angles_offsets_spotx.tocsc())\n",
    "    print('MLP_angles{:d}_offset{:d}_spotx{:d}_map_{:d}_{:d}.npz'.format(num_angle, num_offset, num_spotx, target_shape[0], target_shape[1]))"
   ]
  },
  {
   "cell_type": "code",
   "execution_count": null,
   "id": "38bcbf2d",
   "metadata": {},
   "outputs": [],
   "source": []
  }
 ],
 "metadata": {
  "interpreter": {
   "hash": "1313183b19501a2416bbc9ce49d479f35a972677788ec3c0759d999f6a401c4e"
  },
  "kernelspec": {
   "display_name": "Python 3",
   "language": "python",
   "name": "python3"
  },
  "language_info": {
   "codemirror_mode": {
    "name": "ipython",
    "version": 3
   },
   "file_extension": ".py",
   "mimetype": "text/x-python",
   "name": "python",
   "nbconvert_exporter": "python",
   "pygments_lexer": "ipython3",
   "version": "3.10.0"
  }
 },
 "nbformat": 4,
 "nbformat_minor": 5
}
