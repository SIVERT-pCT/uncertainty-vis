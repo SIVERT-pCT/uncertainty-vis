{
 "cells": [
  {
   "cell_type": "code",
   "execution_count": 1,
   "id": "4466fb6f",
   "metadata": {},
   "outputs": [
    {
     "data": {
      "text/html": [
       "\n",
       "<script>\n",
       "code_show=false;\n",
       "function code_toggle(){\n",
       "    if(code_show){$('.prompt, .input, .output_stderr, .output_error').hide();}\n",
       "    else{$('.input, .prompt, .output_stderr, .output_error').show();}\n",
       "    code_show=!code_show;\n",
       "}\n",
       "function initialize(){\n",
       "    var output=$('.output_subarea.output_text.output_stream.output_stdout');\n",
       "    $.merge(output,$('.output_subarea.output_text.output_result'));\n",
       "    for(var i=0;i<output.length;i++)for(var j=0;j<output[i].children.length;j++)\n",
       "        output[i].children[j].style.fontFamily='Palatino';\n",
       "    code_toggle();\n",
       "}\n",
       "$(document).ready(initialize);\n",
       "</script>\n",
       "Click <a href=\"javascript:code_toggle()\">here</a> to show/hide codes in this notebook.\n"
      ],
      "text/plain": [
       "<IPython.core.display.HTML object>"
      ]
     },
     "execution_count": 1,
     "metadata": {},
     "output_type": "execute_result"
    }
   ],
   "source": [
    "from IPython.display import HTML\n",
    "HTML('''\n",
    "<script>\n",
    "code_show=false;\n",
    "function code_toggle(){\n",
    "    if(code_show){$('.prompt, .input, .output_stderr, .output_error').hide();}\n",
    "    else{$('.input, .prompt, .output_stderr, .output_error').show();}\n",
    "    code_show=!code_show;\n",
    "}\n",
    "function initialize(){\n",
    "    var output=$('.output_subarea.output_text.output_stream.output_stdout');\n",
    "    $.merge(output,$('.output_subarea.output_text.output_result'));\n",
    "    for(var i=0;i<output.length;i++)for(var j=0;j<output[i].children.length;j++)\n",
    "        output[i].children[j].style.fontFamily='Palatino';\n",
    "    code_toggle();\n",
    "}\n",
    "$(document).ready(initialize);\n",
    "</script>\n",
    "Click <a href=\"javascript:code_toggle()\">here</a> to show/hide codes in this notebook.\n",
    "''')"
   ]
  },
  {
   "cell_type": "markdown",
   "id": "b45e4548",
   "metadata": {},
   "source": [
    "# Error Propagation of Radon transform\n",
    "Let $I \\in \\mathbb{N}^{r \\times v}$ be a sinogram and the function $f: \\mathbb{N}^{r \\times v} \\rightarrow \\mathbb{N}^{n \\times n}$ is the inverse radon transorm. Further be $F_x$ the Jacobian of $f$:\n",
    "\\begin{align}\n",
    "    F_x &= \\left[ \\nabla f^T \\right]^T &= \\left[\\begin{array}{c}\n",
    "        f_1 \\\\\n",
    "        \\vdots \\\\\n",
    "        f_{nn}\n",
    "    \\end{array}\\right] \\left[\\begin{array}{ccc} \\frac{\\partial}{\\partial I_1} & \\dots & \\frac{\\partial}{\\partial I_{rn}} \\end{array}\\right] &= \\left[\\begin{array}{ccc}\n",
    "        \\frac{\\partial f_1}{\\partial I_1} & \\dots & \\frac{\\partial f_1}{\\partial I_{rv}} \\\\\n",
    "        \\vdots & \\ddots & \\vdots \\\\\n",
    "        \\frac{\\partial f_{nn}}{\\partial I_1} & \\dots & \\frac{\\partial f_{nn}}{\\partial I_{rv}}\n",
    "    \\end{array}\\right]\n",
    "\\end{align}"
   ]
  },
  {
   "cell_type": "markdown",
   "id": "58746bc8",
   "metadata": {},
   "source": [
    "We now assume that $I$~$\\mathcal{N}(\\mu, \\Sigma)$ is a realization of a multivariate normal distribution. The covariance matrix $\\Sigma$ can be modelled in a way, that the correlation factor $\\rho(i, j)$ is higher for columns $j$ and stays constant for rows $i$. We use exponential decay for the columns:\n",
    "$$\n",
    "    \\rho(i) = exp( - \\gamma i)\n",
    "$$"
   ]
  },
  {
   "cell_type": "markdown",
   "id": "57c9ed4f",
   "metadata": {},
   "source": [
    "The propagation of the uncertanty $\\Sigma$ can be computed as followed:\n",
    "$$\n",
    "    \\Sigma_f = F_x \\Sigma F_x^T\n",
    "$$"
   ]
  },
  {
   "cell_type": "code",
   "execution_count": 2,
   "id": "f5272318",
   "metadata": {},
   "outputs": [],
   "source": [
    "import os\n",
    "from os import path\n",
    "import numpy as np\n",
    "from matplotlib import pyplot as plt\n",
    "from scipy import linalg as la\n",
    "from scipy import special\n",
    "import tensorflow as tf\n",
    "import tensorflow_probability as tfp\n",
    "from skimage import transform\n",
    "from scipy.interpolate import interp1d\n",
    "from error_propagation_radon_transform import utils\n",
    "import pydicom\n",
    "\n",
    "import importlib\n",
    "importlib.reload(utils)\n",
    "\n",
    "from ipywidgets import interact, widgets, interactive_output\n",
    "from IPython.display import display"
   ]
  },
  {
   "cell_type": "markdown",
   "id": "04438d5e",
   "metadata": {},
   "source": [
    "# Exponential Decay\n",
    "$$\n",
    "    \\rho(i) = \\exp(-\\gamma i)\n",
    "$$"
   ]
  },
  {
   "cell_type": "code",
   "execution_count": 3,
   "id": "4fa38b13",
   "metadata": {},
   "outputs": [
    {
     "data": {
      "application/vnd.jupyter.widget-view+json": {
       "model_id": "bde5516cd64e40dbbc7be50de476bfd7",
       "version_major": 2,
       "version_minor": 0
      },
      "text/plain": [
       "interactive(children=(IntSlider(value=15, description='width', max=50, min=2), Output()), _dom_classes=('widge…"
      ]
     },
     "metadata": {},
     "output_type": "display_data"
    }
   ],
   "source": [
    "def exponential(value, gamma):\n",
    "    return np.exp( - gamma * value)\n",
    "\n",
    "@interact(width=(2,50))\n",
    "def interactive_exponential(width=15):\n",
    "    x = np.arange(0,width)\n",
    "    y = exponential(x, 1/np.log(width))\n",
    "    plt.bar(x, y)\n",
    "    plt.show()"
   ]
  },
  {
   "cell_type": "markdown",
   "id": "8368b722",
   "metadata": {},
   "source": [
    "# Covariance Matrix"
   ]
  },
  {
   "cell_type": "code",
   "execution_count": 4,
   "id": "5dc0f649",
   "metadata": {},
   "outputs": [
    {
     "data": {
      "application/vnd.jupyter.widget-view+json": {
       "model_id": "8e6d0365e01540139e0c7e8be51b5bce",
       "version_major": 2,
       "version_minor": 0
      },
      "text/plain": [
       "interactive(children=(IntSlider(value=10, description='width', max=32, min=1), Output()), _dom_classes=('widge…"
      ]
     },
     "metadata": {},
     "output_type": "display_data"
    }
   ],
   "source": [
    "@interact(width=(1, 32))\n",
    "def interact_cov(width=10):\n",
    "    var = np.ones((16,16))\n",
    "    covar = utils.build_covariance_matrix(var, function=exponential, width=width)\n",
    "\n",
    "    impulse = np.zeros_like(var)\n",
    "    impulse[var.shape[0]//2, var.shape[1]//2] = 1.0\n",
    "\n",
    "    response = covar @ impulse.flatten()\n",
    "\n",
    "    plt.figure(figsize=(18,6))\n",
    "    plt.subplot(1,2,1)\n",
    "    plt.imshow(covar)\n",
    "    plt.colorbar()\n",
    "    plt.subplot(1,2,2)\n",
    "    plt.imshow(response.reshape(var.shape))\n",
    "    plt.colorbar()\n",
    "    plt.show()\n",
    "    \n",
    "    plt.plot(response.reshape(var.shape)[var.shape[0]//2:, var.shape[1]//2])\n",
    "    plt.show()"
   ]
  },
  {
   "cell_type": "code",
   "execution_count": 5,
   "id": "ed61c1a4",
   "metadata": {},
   "outputs": [
    {
     "name": "stdout",
     "output_type": "stream",
     "text": [
      "(64, 64)\n"
     ]
    }
   ],
   "source": [
    "ds = pydicom.read_file('../Data/Train_Sets/CT/1/DICOM_anon/i0024,0000b.dcm')\n",
    "ConstPixelDims = (int(ds.Rows), int(ds.Columns))\n",
    "ConstPixelSpacing = (float(ds.PixelSpacing[0]), float(ds.PixelSpacing[1]), float(ds.SliceThickness))\n",
    "\n",
    "ct_scan = np.zeros(ConstPixelDims, dtype=ds.pixel_array.dtype)\n",
    "ct_scan[:,:] = ds.pixel_array\n",
    "\n",
    "ct_scan = ct_scan[::8,::8]\n",
    "img_shape = ct_scan.shape[0]\n",
    "\n",
    "ct_scan = ct_scan / ct_scan.max() * 255\n",
    "\n",
    "print(ct_scan.shape)"
   ]
  },
  {
   "cell_type": "code",
   "execution_count": 6,
   "id": "c0d36644",
   "metadata": {},
   "outputs": [
    {
     "name": "stderr",
     "output_type": "stream",
     "text": [
      "/home/vik/Programme/anaconda3/envs/ai-cpu/lib/python3.8/site-packages/skimage/transform/radon_transform.py:83: UserWarning: Radon transform: image must be zero outside the reconstruction circle\n",
      "  warn('Radon transform: image must be zero outside the '\n"
     ]
    },
    {
     "data": {
      "image/png": "[encoded data removed]",
      "text/plain": [
       "<Figure size 1296x432 with 6 Axes>"
      ]
     },
     "metadata": {
      "needs_background": "light"
     },
     "output_type": "display_data"
    }
   ],
   "source": [
    "fig, (ax1, ax2, ax3) = plt.subplots(1, 3, figsize=(18,6))\n",
    "ax1.set_title('Original')\n",
    "kid = ax1.imshow(ct_scan, cmap='gray')\n",
    "\n",
    "plt.colorbar(kid, ax=ax1)\n",
    "\n",
    "theta = np.linspace(0., 180., max(ct_scan.shape), endpoint=False)\n",
    "sinogram = transform.radon(ct_scan, theta=theta)\n",
    "dx, dy = 0.5 * 180.0 / max(ct_scan.shape), 0.5 / sinogram.shape[0]\n",
    "ax2.set_title('Radon transform\\n(Sinogram)')\n",
    "ax2.set_xlabel('Projection angle (deg)')\n",
    "ax2.set_ylabel('Projection position (pixels)')\n",
    "sin = ax2.imshow(sinogram, cmap='gray', extent=(-dx, 180 + dx, -dx, sinogram.shape[0] + dy), aspect='auto')\n",
    "\n",
    "plt.colorbar(sin, ax=ax2)\n",
    "\n",
    "reconstructed = transform.iradon(sinogram, theta=theta, filter_name='ramp')\n",
    "re = ax3.imshow(reconstructed, cmap='gray')\n",
    "plt.colorbar(re, ax=ax3)\n",
    "\n",
    "fig.tight_layout()\n",
    "plt.show()"
   ]
  },
  {
   "cell_type": "code",
   "execution_count": 7,
   "id": "55cc7039",
   "metadata": {},
   "outputs": [],
   "source": [
    "jacobian, kidney_reconstructed = utils.compute_gradient(sinogram, theta, ct_scan.shape, 'ramp', None)\n",
    "    \n",
    "input_range = 2464\n",
    "output_range = tf.reduce_max(kidney_reconstructed) - tf.reduce_min(kidney_reconstructed)\n",
    "    \n",
    "var = np.ones_like(sinogram) * input_range * 5e-2\n",
    "Sigma_in = utils.build_covariance_matrix(var, function=exponential, width=5)\n",
    "\n",
    "n = np.prod(ct_scan.shape)\n",
    "jacobian_reshaped = tf.math.real(tf.reshape(jacobian, (n, n)))\n",
    "\n",
    "Sigma = jacobian_reshaped @ Sigma_in @ tf.transpose(jacobian_reshaped)"
   ]
  },
  {
   "cell_type": "code",
   "execution_count": 8,
   "id": "a4e38b02",
   "metadata": {},
   "outputs": [
    {
     "name": "stdout",
     "output_type": "stream",
     "text": [
      "246.4\n"
     ]
    }
   ],
   "source": [
    "print(2464 * 10e-2)"
   ]
  },
  {
   "cell_type": "markdown",
   "id": "90bf8ec5",
   "metadata": {},
   "source": [
    "## Save the Jacobian/STD"
   ]
  },
  {
   "cell_type": "code",
   "execution_count": 8,
   "id": "c63eaae8",
   "metadata": {},
   "outputs": [],
   "source": [
    "if not path.exists('../Data/inverse_Radon_Transform'):\n",
    "    os.mkdir('../Data/inverse_Radon_Transform')\n",
    "\n",
    "np.save('../Data/inverse_Radon_Transform/sigma_64x64_expdecay246.4x10.npy', Sigma)\n",
    "\n",
    "standard_deviation = tf.math.sqrt(tf.reshape(tf.linalg.tensor_diag_part(Sigma), kidney_reconstructed.shape))\n",
    "\n",
    "np.save('../Data/inverse_Radon_Transform/std_64x64_expdecay246.4x10.npy', standard_deviation)"
   ]
  },
  {
   "cell_type": "markdown",
   "id": "cbe41fcf",
   "metadata": {},
   "source": [
    "# Isocontour Density\n",
    "$$\n",
    "    g_\\theta (x) = \\frac{1}{\\sigma(x)\\sqrt{2\\pi}} exp \\left( - \\frac{1}{2} \\left( \\frac{\\theta - \\mu(x)}{\\sigma(x)} \\right)^2 \\right)\n",
    "$$\n",
    "\n",
    "The value of the function is related to the numerical condition of isocontour extraction. In other words, how sensitive is the extraction of the isocontour to small pertubations $d t$ based on the normal distribution."
   ]
  },
  {
   "cell_type": "code",
   "execution_count": 9,
   "id": "bc1a0c0d",
   "metadata": {},
   "outputs": [],
   "source": [
    "def g(contour, mean, variance):\n",
    "    inner = - 0.5 * ( (contour - mean) / variance)**2\n",
    "    denumerator = variance * np.sqrt(2 * np.pi)\n",
    "    return np.exp(inner)/denumerator"
   ]
  },
  {
   "cell_type": "code",
   "execution_count": 10,
   "id": "f40dfaf9",
   "metadata": {},
   "outputs": [
    {
     "data": {
      "application/vnd.jupyter.widget-view+json": {
       "model_id": "81712ac357be48c5b7424d75c72a7b53",
       "version_major": 2,
       "version_minor": 0
      },
      "text/plain": [
       "VBox(children=(VBox(children=(FloatSlider(value=155.0, description='$\\\\theta$', layout=Layout(left='-60px', wi…"
      ]
     },
     "metadata": {},
     "output_type": "display_data"
    }
   ],
   "source": [
    "def plot_transform(theta):\n",
    "    variance = tf.math.sqrt(tf.reshape(tf.linalg.tensor_diag_part(Sigma), kidney_reconstructed.shape))\n",
    "    \n",
    "    icd = g(theta, kidney_reconstructed, tf.math.real(variance))\n",
    "    \n",
    "    plt.figure(figsize=(14,6))\n",
    "    plt.subplot(1,2,1)\n",
    "    plt.title('reconstructed')\n",
    "    plt.imshow(kidney_reconstructed, cmap='gray')\n",
    "    plt.colorbar()\n",
    "    plt.contour(kidney_reconstructed, [theta], colors='red')\n",
    "    \n",
    "    plt.subplot(1,2,2)\n",
    "    plt.title('Isocontour Density')\n",
    "    plt.imshow(icd)\n",
    "    plt.colorbar()\n",
    "    plt.contour(kidney_reconstructed, [theta], colors='red')\n",
    "    \n",
    "    plt.show()\n",
    "    \n",
    "max_theta = tf.reduce_max(kidney_reconstructed)\n",
    "theta_slider = widgets.FloatSlider(155.0, min=0, max=max_theta, step=0.001, description=r'$\\theta$', layout=widgets.Layout(left='-60px', width='390px'))\n",
    "\n",
    "transform_ui = interactive_output(plot_transform, {\n",
    "    'theta': theta_slider,\n",
    "})\n",
    "\n",
    "layout = widgets.VBox([\n",
    "    theta_slider,\n",
    "    transform_ui\n",
    "])\n",
    "\n",
    "display(widgets.VBox([\n",
    "    layout\n",
    "]))"
   ]
  },
  {
   "cell_type": "markdown",
   "id": "98fc655c",
   "metadata": {},
   "source": [
    "# Level-Crossing Probability Field\n",
    "$$\n",
    "    P_\\theta (x) = \\frac{1}{2} \\left( 1 - Erf \\left( \\frac{\\mu(x) - \\theta}{\\sqrt{2} \\sigma(x)} \\right) \\right)\n",
    "$$\n",
    "\n",
    "The value of the function can be interpreted as the probability of two independend realizations $y_a$ and $y_b$ of a random variable to be greater or equal to $\\theta$, while the other is smaller or equal to $\\theta$. In other words, how likely two independend realizations fullfill the fact that one is greater (or equal) and the other at the same time smaller (or equal) to $\\theta$."
   ]
  },
  {
   "cell_type": "code",
   "execution_count": 11,
   "id": "a9828378",
   "metadata": {},
   "outputs": [],
   "source": [
    "def lcp(contour, mean, variance):\n",
    "    inner = (mean - contour) / (np.sqrt(2)*variance)\n",
    "    return 0.5 * ( 1 - special.erf(inner)**2 )"
   ]
  },
  {
   "cell_type": "code",
   "execution_count": 12,
   "id": "fcbe2557",
   "metadata": {},
   "outputs": [
    {
     "data": {
      "application/vnd.jupyter.widget-view+json": {
       "model_id": "fbcf62f8b9804c3f8253849c04c9bc0c",
       "version_major": 2,
       "version_minor": 0
      },
      "text/plain": [
       "VBox(children=(VBox(children=(FloatSlider(value=155.0, description='$\\\\theta$', layout=Layout(left='-60px', wi…"
      ]
     },
     "metadata": {},
     "output_type": "display_data"
    }
   ],
   "source": [
    "def plot_transform(theta):\n",
    "    variance = tf.math.sqrt(tf.reshape(tf.linalg.tensor_diag_part(Sigma), kidney_reconstructed.shape))\n",
    "    \n",
    "    cross_prob = lcp(theta, kidney_reconstructed, tf.abs(variance))\n",
    "    \n",
    "    plt.figure(figsize=(14,6))\n",
    "    plt.subplot(1,2,1)\n",
    "    plt.title('reconstructed')\n",
    "    plt.imshow(kidney_reconstructed, cmap='gray')\n",
    "    plt.colorbar()\n",
    "    plt.contour(kidney_reconstructed, [theta], colors='red')\n",
    "    \n",
    "    plt.subplot(1,2,2)\n",
    "    plt.title('Level-Crossing Probability Field')\n",
    "    plt.imshow(cross_prob)\n",
    "    plt.colorbar()\n",
    "    plt.contour(kidney_reconstructed, [theta], colors='red')\n",
    "    \n",
    "    plt.show()\n",
    "    \n",
    "max_theta = tf.reduce_max(kidney_reconstructed)\n",
    "theta_slider = widgets.FloatSlider(155.0, min=0, max=max_theta, step=0.001, description=r'$\\theta$', layout=widgets.Layout(left='-60px', width='390px'))\n",
    "\n",
    "transform_ui = interactive_output(plot_transform, {\n",
    "    'theta': theta_slider,\n",
    "})\n",
    "\n",
    "layout = widgets.VBox([\n",
    "    theta_slider,\n",
    "    transform_ui\n",
    "])\n",
    "\n",
    "display(widgets.VBox([\n",
    "    layout\n",
    "]))"
   ]
  },
  {
   "cell_type": "code",
   "execution_count": null,
   "id": "759cb348",
   "metadata": {},
   "outputs": [],
   "source": []
  }
 ],
 "metadata": {
  "kernelspec": {
   "display_name": "Python [conda env:ai-cpu]",
   "language": "python",
   "name": "conda-env-ai-cpu-py"
  },
  "language_info": {
   "codemirror_mode": {
    "name": "ipython",
    "version": 3
   },
   "file_extension": ".py",
   "mimetype": "text/x-python",
   "name": "python",
   "nbconvert_exporter": "python",
   "pygments_lexer": "ipython3",
   "version": "3.8.10"
  }
 },
 "nbformat": 4,
 "nbformat_minor": 5
}
