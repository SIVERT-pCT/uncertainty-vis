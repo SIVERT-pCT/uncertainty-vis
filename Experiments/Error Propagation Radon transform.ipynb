{
 "cells": [
  {
   "cell_type": "code",
   "execution_count": 1,
   "id": "4466fb6f",
   "metadata": {},
   "outputs": [
    {
     "data": {
      "text/html": [
       "\n",
       "<script>\n",
       "code_show=false;\n",
       "function code_toggle(){\n",
       "    if(code_show){$('.prompt, .input, .output_stderr, .output_error').hide();}\n",
       "    else{$('.input, .prompt, .output_stderr, .output_error').show();}\n",
       "    code_show=!code_show;\n",
       "}\n",
       "function initialize(){\n",
       "    var output=$('.output_subarea.output_text.output_stream.output_stdout');\n",
       "    $.merge(output,$('.output_subarea.output_text.output_result'));\n",
       "    for(var i=0;i<output.length;i++)for(var j=0;j<output[i].children.length;j++)\n",
       "        output[i].children[j].style.fontFamily='Palatino';\n",
       "    code_toggle();\n",
       "}\n",
       "$(document).ready(initialize);\n",
       "</script>\n",
       "Click <a href=\"javascript:code_toggle()\">here</a> to show/hide codes in this notebook.\n"
      ],
      "text/plain": [
       "<IPython.core.display.HTML object>"
      ]
     },
     "execution_count": 1,
     "metadata": {},
     "output_type": "execute_result"
    }
   ],
   "source": [
    "from IPython.display import HTML\n",
    "HTML('''\n",
    "<script>\n",
    "code_show=false;\n",
    "function code_toggle(){\n",
    "    if(code_show){$('.prompt, .input, .output_stderr, .output_error').hide();}\n",
    "    else{$('.input, .prompt, .output_stderr, .output_error').show();}\n",
    "    code_show=!code_show;\n",
    "}\n",
    "function initialize(){\n",
    "    var output=$('.output_subarea.output_text.output_stream.output_stdout');\n",
    "    $.merge(output,$('.output_subarea.output_text.output_result'));\n",
    "    for(var i=0;i<output.length;i++)for(var j=0;j<output[i].children.length;j++)\n",
    "        output[i].children[j].style.fontFamily='Palatino';\n",
    "    code_toggle();\n",
    "}\n",
    "$(document).ready(initialize);\n",
    "</script>\n",
    "Click <a href=\"javascript:code_toggle()\">here</a> to show/hide codes in this notebook.\n",
    "''')"
   ]
  },
  {
   "cell_type": "markdown",
   "id": "b45e4548",
   "metadata": {},
   "source": [
    "# Error Propagation of Radon transform\n",
    "Let $I \\in \\mathbb{N}^{r \\times v}$ be a sinogram and the function $f: \\mathbb{N}^{r \\times v} \\rightarrow \\mathbb{N}^{n \\times n}$ is the inverse radon transorm. Further be $F_x$ the Jacobian of $f$:\n",
    "\\begin{align}\n",
    "    F_x &= \\left[ \\nabla f^T \\right]^T &= \\left[\\begin{array}{c}\n",
    "        f_1 \\\\\n",
    "        \\vdots \\\\\n",
    "        f_{nn}\n",
    "    \\end{array}\\right] \\left[\\begin{array}{ccc} \\frac{\\partial}{\\partial I_1} & \\dots & \\frac{\\partial}{\\partial I_{rn}} \\end{array}\\right] &= \\left[\\begin{array}{ccc}\n",
    "        \\frac{\\partial f_1}{\\partial I_1} & \\dots & \\frac{\\partial f_1}{\\partial I_{rv}} \\\\\n",
    "        \\vdots & \\ddots & \\vdots \\\\\n",
    "        \\frac{\\partial f_{nn}}{\\partial I_1} & \\dots & \\frac{\\partial f_{nn}}{\\partial I_{rv}}\n",
    "    \\end{array}\\right]\n",
    "\\end{align}"
   ]
  },
  {
   "cell_type": "markdown",
   "id": "58746bc8",
   "metadata": {},
   "source": [
    "We now assume that $I$~$\\mathcal{N}(\\mu, \\Sigma)$ is a realization of a multivariate normal distribution. The covariance matrix $\\Sigma$ can be modelled in a way, that the correlation factor $\\rho(i, j)$ is higher for columns $j$ and stays constant for rows $i$. We use exponential decay for the columns:\n",
    "$$\n",
    "    \\rho(i) = exp( - \\gamma i)\n",
    "$$"
   ]
  },
  {
   "cell_type": "markdown",
   "id": "57c9ed4f",
   "metadata": {},
   "source": [
    "The propagation of the uncertanty $\\Sigma$ can be computed as followed:\n",
    "$$\n",
    "    \\Sigma_f = F_x \\Sigma F_x^T\n",
    "$$"
   ]
  },
  {
   "cell_type": "code",
   "execution_count": 2,
   "id": "f5272318",
   "metadata": {},
   "outputs": [],
   "source": [
    "import numpy as np\n",
    "from matplotlib import pyplot as plt\n",
    "from scipy import linalg as la\n",
    "import tensorflow as tf\n",
    "import tensorflow_probability as tfp\n",
    "from skimage import transform\n",
    "from scipy.interpolate import interp1d\n",
    "from error_propagation_radon_transform import utils\n",
    "\n",
    "import importlib\n",
    "importlib.reload(utils)\n",
    "\n",
    "from ipywidgets import interact, widgets, interactive_output\n",
    "from IPython.display import display"
   ]
  },
  {
   "cell_type": "markdown",
   "id": "04438d5e",
   "metadata": {},
   "source": [
    "# Exponential Decay\n",
    "$$\n",
    "    \\rho(i) = \\exp(-\\gamma i)\n",
    "$$"
   ]
  },
  {
   "cell_type": "code",
   "execution_count": 3,
   "id": "4fa38b13",
   "metadata": {},
   "outputs": [
    {
     "data": {
      "application/vnd.jupyter.widget-view+json": {
       "model_id": "51f7a18681754e4b909e81fc47f4bf11",
       "version_major": 2,
       "version_minor": 0
      },
      "text/plain": [
       "interactive(children=(IntSlider(value=15, description='width', max=50, min=2), Output()), _dom_classes=('widge…"
      ]
     },
     "metadata": {},
     "output_type": "display_data"
    }
   ],
   "source": [
    "def exponential(value, gamma):\n",
    "    return np.exp( - gamma * value)\n",
    "\n",
    "@interact(width=(2,50))\n",
    "def interactive_exponential(width=15):\n",
    "    x = np.arange(0,width)\n",
    "    y = exponential(x, 1/np.log(width))\n",
    "    plt.bar(x, y)\n",
    "    plt.show()"
   ]
  },
  {
   "cell_type": "markdown",
   "id": "681f474e",
   "metadata": {},
   "source": [
    "# Linear decay\n",
    "\\begin{align}\n",
    "    r(h) &= - \\gamma h + 1, & \\gamma &\\in (0,1)\n",
    "\\end{align}"
   ]
  },
  {
   "cell_type": "code",
   "execution_count": 3,
   "id": "384c0915",
   "metadata": {},
   "outputs": [
    {
     "data": {
      "application/vnd.jupyter.widget-view+json": {
       "model_id": "7e4fea789ea644ada0a0fe8077185a58",
       "version_major": 2,
       "version_minor": 0
      },
      "text/plain": [
       "interactive(children=(IntSlider(value=15, description='width', max=50, min=1), Output()), _dom_classes=('widge…"
      ]
     },
     "metadata": {},
     "output_type": "display_data"
    }
   ],
   "source": [
    "def linear(value, gamma):\n",
    "    return - gamma * value + 1\n",
    "\n",
    "@interact(width=(1,50))\n",
    "def interactive_linear(width=15):\n",
    "    x = np.arange(0,width)\n",
    "    y = linear(x, 1/width)\n",
    "    plt.bar(x, y)\n",
    "    plt.show()"
   ]
  },
  {
   "cell_type": "markdown",
   "id": "8368b722",
   "metadata": {},
   "source": [
    "# Covariance Matrix"
   ]
  },
  {
   "cell_type": "code",
   "execution_count": 4,
   "id": "5dc0f649",
   "metadata": {},
   "outputs": [
    {
     "data": {
      "application/vnd.jupyter.widget-view+json": {
       "model_id": "84ac2037e81c48bc92c1102e37c109d9",
       "version_major": 2,
       "version_minor": 0
      },
      "text/plain": [
       "interactive(children=(IntSlider(value=10, description='width', max=32, min=1), Output()), _dom_classes=('widge…"
      ]
     },
     "metadata": {},
     "output_type": "display_data"
    }
   ],
   "source": [
    "@interact(width=(1, 32))\n",
    "def interact_cov(width=10):\n",
    "    var = np.ones((16,16))\n",
    "    covar = utils.build_covariance_y(var, function=exponential, width=width)\n",
    "\n",
    "    impulse = np.zeros_like(var)\n",
    "    impulse[var.shape[0]//2, var.shape[1]//2] = 1.0\n",
    "\n",
    "    response = covar @ impulse.flatten()\n",
    "\n",
    "    plt.figure(figsize=(18,6))\n",
    "    plt.subplot(1,2,1)\n",
    "    plt.imshow(covar)\n",
    "    plt.colorbar()\n",
    "    plt.subplot(1,2,2)\n",
    "    plt.imshow(response.reshape(var.shape))\n",
    "    plt.colorbar()\n",
    "    plt.show()\n",
    "    \n",
    "    plt.plot(response.reshape(var.shape)[var.shape[0]//2:, var.shape[1]//2])\n",
    "    plt.show()"
   ]
  },
  {
   "cell_type": "code",
   "execution_count": 5,
   "id": "ed61c1a4",
   "metadata": {},
   "outputs": [
    {
     "name": "stdout",
     "output_type": "stream",
     "text": [
      "(64, 64)\n"
     ]
    }
   ],
   "source": [
    "kidney = np.loadtxt('../Data/kidney.csv', delimiter=',', skiprows=1, usecols=(0), dtype=np.float32).reshape((512,512))\n",
    "\n",
    "#enforce to be zero on the edges\n",
    "kidney[:,:10] = 50\n",
    "kidney[:,-10:] = 50\n",
    "kidney[:10,:] = 50\n",
    "kidney[-10:,:] = 50\n",
    "\n",
    "kidney = kidney[::8,::8]\n",
    "img_shape = kidney.shape[0]\n",
    "\n",
    "print(kidney.shape)"
   ]
  },
  {
   "cell_type": "code",
   "execution_count": 10,
   "id": "c0d36644",
   "metadata": {},
   "outputs": [
    {
     "name": "stdout",
     "output_type": "stream",
     "text": [
      "(64, 64)\n"
     ]
    },
    {
     "data": {
      "image/png": "[encoded data removed]",
      "text/plain": [
       "<Figure size 1296x432 with 6 Axes>"
      ]
     },
     "metadata": {
      "needs_background": "light"
     },
     "output_type": "display_data"
    }
   ],
   "source": [
    "fig, (ax1, ax2, ax3) = plt.subplots(1, 3, figsize=(18,6))\n",
    "ax1.set_title('Original')\n",
    "kid = ax1.imshow(kidney, cmap='gray')\n",
    "\n",
    "plt.colorbar(kid, ax=ax1)\n",
    "\n",
    "theta = np.linspace(0., 180., max(kidney.shape), endpoint=False)\n",
    "sinogram = transform.radon(kidney, theta=theta)\n",
    "dx, dy = 0.5 * 180.0 / max(kidney.shape), 0.5 / sinogram.shape[0]\n",
    "ax2.set_title('Radon transform\\n(Sinogram)')\n",
    "ax2.set_xlabel('Projection angle (deg)')\n",
    "ax2.set_ylabel('Projection position (pixels)')\n",
    "sin = ax2.imshow(sinogram, cmap='gray', extent=(-dx, 180 + dx, -dx, sinogram.shape[0] + dy), aspect='auto')\n",
    "\n",
    "print(sinogram.shape)\n",
    "\n",
    "plt.colorbar(sin, ax=ax2)\n",
    "\n",
    "reconstructed = transform.iradon(sinogram, theta=theta, filter_name='ramp')\n",
    "re = ax3.imshow(reconstructed, cmap='gray')\n",
    "plt.colorbar(re, ax=ax3)\n",
    "\n",
    "fig.tight_layout()\n",
    "plt.show()"
   ]
  },
  {
   "cell_type": "code",
   "execution_count": 7,
   "id": "f9a11f23",
   "metadata": {},
   "outputs": [
    {
     "data": {
      "application/vnd.jupyter.widget-view+json": {
       "model_id": "a70afd0ac2cb4572950f44f894fbe370",
       "version_major": 2,
       "version_minor": 0
      },
      "text/plain": [
       "FloatProgress(value=0.0, bar_style='info', description='Loading:', max=74.0)"
      ]
     },
     "metadata": {},
     "output_type": "display_data"
    },
    {
     "data": {
      "application/vnd.jupyter.widget-view+json": {
       "model_id": "4d40c1daed164a9e98a8feeef278a6b6",
       "version_major": 2,
       "version_minor": 0
      },
      "text/plain": [
       "interactive(children=(Dropdown(description='filter_name', options=('ramp', 'shepp-logan', 'cosine', 'hamming',…"
      ]
     },
     "metadata": {},
     "output_type": "display_data"
    }
   ],
   "source": [
    "prog = widgets.FloatProgress(\n",
    "    value=0,\n",
    "    min=0,\n",
    "    max=10 + img_shape,\n",
    "    description='Loading:',\n",
    "    bar_style='info',\n",
    "    orientation='horizontal'\n",
    ")\n",
    "\n",
    "display(prog)\n",
    "@interact(width=(1, 30), filter_name=['ramp', 'shepp-logan', 'cosine', 'hamming', 'hann', None], percent=(0,100,10))\n",
    "def show_radon_transform(filter_name='ramp', width=10, percent=10):\n",
    "    prog.bar_style = 'info'\n",
    "    prog.value = 0\n",
    "    \n",
    "    jacobian, kidney_reconstructed = utils.compute_gradient(sinogram, theta, kidney.shape, filter_name, prog)\n",
    "    \n",
    "    prog.value += 1\n",
    "    \n",
    "    input_range = sinogram.max() - sinogram.min()\n",
    "    output_range = tf.reduce_max(kidney_reconstructed) - tf.reduce_min(kidney_reconstructed)\n",
    "    print(input_range)\n",
    "    \n",
    "    var = np.ones_like(sinogram) * 1100\n",
    "    Sigma_in = utils.build_covariance_y(var, function=exponential, width=width)\n",
    "    \n",
    "    prog.value += 1\n",
    "    \n",
    "    n = np.prod(kidney.shape)\n",
    "    jacobian_reshaped = tf.reshape(jacobian, (n, n))\n",
    "    \n",
    "    Sigma = jacobian_reshaped @ Sigma_in @ tf.transpose(jacobian_reshaped)\n",
    "    \n",
    "    variance = tf.reshape(tf.abs(tf.linalg.tensor_diag_part(Sigma)), kidney.shape)\n",
    "    \n",
    "    if filter_name == None:\n",
    "        filter_name = 'None'\n",
    "    \n",
    "    np.save('../Data/iradon/mu_'+filter_name+'.npy', kidney_reconstructed)\n",
    "    np.save('../Data/iradon/df_dx_'+filter_name+'.npy', jacobian_reshaped)\n",
    "        \n",
    "    prog.value += 1\n",
    "\n",
    "    plt.figure(figsize=(18,12))\n",
    "    plt.subplot(2,2,1)\n",
    "    plt.title('Sinogram')\n",
    "    plt.imshow(sinogram, cmap='gray', extent=(-dx, 180 + dx, -dx, sinogram.shape[0] + dy), aspect='auto')\n",
    "    plt.colorbar()\n",
    "    \n",
    "    prog.value += 1\n",
    "\n",
    "    plt.subplot(2,2,2)\n",
    "    plt.title('inverse Radon transform')\n",
    "    plt.imshow(kidney_reconstructed, cmap='gray')\n",
    "    plt.colorbar()\n",
    "    \n",
    "    prog.value += 1\n",
    "\n",
    "    plt.subplot(2,2,3)\n",
    "    plt.title(r'$\\Sigma$')\n",
    "    plt.imshow(Sigma_in)\n",
    "    plt.colorbar()\n",
    "    \n",
    "    prog.value += 1\n",
    "    \n",
    "    plt.subplot(2,2,4)\n",
    "    plt.title(r'$\\sigma^2_f$')\n",
    "    plt.imshow(variance)\n",
    "    plt.colorbar()\n",
    "    \n",
    "    plt.show()\n",
    "    \n",
    "    prog.bar_style = 'success'\n",
    "    prog.value += 1"
   ]
  },
  {
   "cell_type": "code",
   "execution_count": 19,
   "id": "9678f838",
   "metadata": {},
   "outputs": [
    {
     "name": "stdout",
     "output_type": "stream",
     "text": [
      "WARNING:tensorflow:6 out of the last 6 calls to <function pfor.<locals>.f at 0x7f29bc12d9d0> triggered tf.function retracing. Tracing is expensive and the excessive number of tracings could be due to (1) creating @tf.function repeatedly in a loop, (2) passing tensors with different shapes, (3) passing Python objects instead of tensors. For (1), please define your @tf.function outside of the loop. For (2), @tf.function has experimental_relax_shapes=True option that relaxes argument shapes that can avoid unnecessary retracing. For (3), please refer to https://www.tensorflow.org/guide/function#controlling_retracing and https://www.tensorflow.org/api_docs/python/tf/function for  more details.\n"
     ]
    }
   ],
   "source": [
    "jacobian, kidney_reconstructed = utils.compute_gradient(sinogram, theta, kidney.shape, 'shepp-logan', None)\n",
    "    \n",
    "input_range = sinogram.max() - sinogram.min()\n",
    "output_range = tf.reduce_max(kidney_reconstructed) - tf.reduce_min(kidney_reconstructed)\n",
    "    \n",
    "var = np.ones_like(sinogram) * 30\n",
    "Sigma_in = utils.build_covariance_y(var, function=exponential, width=5)\n",
    "\n",
    "n = np.prod(kidney.shape)\n",
    "jacobian_reshaped = tf.reshape(jacobian, (n, n))\n",
    "\n",
    "Sigma = jacobian_reshaped @ Sigma_in @ tf.transpose(jacobian_reshaped)"
   ]
  },
  {
   "cell_type": "code",
   "execution_count": 21,
   "id": "f40dfaf9",
   "metadata": {},
   "outputs": [
    {
     "data": {
      "application/vnd.jupyter.widget-view+json": {
       "model_id": "befed45c3eb34a42afd25af7043b93aa",
       "version_major": 2,
       "version_minor": 0
      },
      "text/plain": [
       "VBox(children=(HBox(children=(IntSlider(value=32, description='y', layout=Layout(height='290px', top='-15px'),…"
      ]
     },
     "metadata": {},
     "output_type": "display_data"
    }
   ],
   "source": [
    "def plot_transform(x, y):\n",
    "    variance = tf.reshape(tf.linalg.tensor_diag_part(Sigma), kidney_reconstructed.shape)\n",
    "    \n",
    "    \n",
    "    \n",
    "    plt.figure(figsize=(14,4))\n",
    "    plt.subplot(1,3,1)\n",
    "    plt.title('reconstructed')\n",
    "    plt.imshow(kidney_reconstructed, cmap='gray')\n",
    "    plt.scatter(x, kidney_reconstructed.shape[1] - 1 - y, s=100)\n",
    "    plt.subplot(1,3,2)\n",
    "    plt.title(r'$real(\\sigma^2)$')\n",
    "    plt.imshow(tf.math.real(variance), cmap='gray')\n",
    "    plt.colorbar()\n",
    "    plt.scatter(x, kidney_reconstructed.shape[1] - 1 - y, s=100)\n",
    "    plt.subplot(1,3,3)\n",
    "    plt.title(r'$imag(\\sigma^2)$')\n",
    "    plt.imshow(tf.math.imag(variance), cmap='gray')\n",
    "    plt.colorbar()\n",
    "    plt.scatter(x, kidney_reconstructed.shape[1] - 1 - y, s=100)\n",
    "    \n",
    "    plt.show()\n",
    "    \n",
    "def plot_covar(x, y):\n",
    "    y = kidney_reconstructed.shape[1] - 1 - y\n",
    "    \n",
    "    idx = kidney_reconstructed.shape[0] * y + x\n",
    "    \n",
    "    plt.figure(figsize=(16,8))\n",
    "    plt.subplot(1,2,1)\n",
    "    plt.title(r'$real(\\Sigma)|_{xy}$')\n",
    "    plt.imshow(tf.math.real(tf.reshape(Sigma[idx,:], kidney_reconstructed.shape)))\n",
    "    plt.colorbar()\n",
    "    plt.subplot(1,2,2)\n",
    "    plt.title(r'$imag(\\Sigma)|_{xy}$')\n",
    "    plt.imshow(tf.math.imag(tf.reshape(Sigma[idx,:], kidney_reconstructed.shape)))\n",
    "    plt.colorbar()\n",
    "    plt.show()\n",
    "\n",
    "x_slider = widgets.IntSlider(32, 0, kidney_reconstructed.shape[0]-1, 1, description='x', layout=widgets.Layout(left='-60px', width='390px'))\n",
    "y_slider = widgets.IntSlider(32, 0, kidney_reconstructed.shape[0]-1, 1, description='y', orientation='vertical', layout=widgets.Layout(top='-15px', height='290px'))\n",
    "\n",
    "transform_ui = interactive_output(plot_transform, {\n",
    "    'x': x_slider,\n",
    "    'y': y_slider\n",
    "})\n",
    "covar_ui = interactive_output(plot_covar, {\n",
    "    'x': x_slider,\n",
    "    'y': y_slider\n",
    "})\n",
    "\n",
    "layout = widgets.HBox([\n",
    "    y_slider,\n",
    "    widgets.VBox([\n",
    "        transform_ui,\n",
    "        x_slider\n",
    "    ])\n",
    "])\n",
    "\n",
    "display(widgets.VBox([\n",
    "    layout,\n",
    "    covar_ui\n",
    "]))"
   ]
  },
  {
   "cell_type": "code",
   "execution_count": 14,
   "id": "5954e5a4",
   "metadata": {},
   "outputs": [
    {
     "data": {
      "image/png": "[encoded data removed]",
      "text/plain": [
       "<Figure size 1296x432 with 2 Axes>"
      ]
     },
     "metadata": {
      "needs_background": "light"
     },
     "output_type": "display_data"
    }
   ],
   "source": [
    "Sigma_cleaned = tf.math.real(Sigma).numpy()\n",
    "for i in range(Sigma.shape[0]):\n",
    "    Sigma_cleaned[i,i] = 0\n",
    "summed = tf.reduce_max(tf.math.real(Sigma_cleaned), axis=0)\n",
    "\n",
    "plt.figure(figsize=(18,6))\n",
    "plt.imshow(tf.reshape(summed, kidney_reconstructed.shape))\n",
    "plt.colorbar()\n",
    "plt.show()"
   ]
  },
  {
   "cell_type": "code",
   "execution_count": 9,
   "id": "fd51cb31",
   "metadata": {},
   "outputs": [
    {
     "name": "stdout",
     "output_type": "stream",
     "text": [
      "jacobian: 1024.0 GByte\n"
     ]
    }
   ],
   "source": [
    "print('jacobian:', np.prod([262144,524288]) * 8 / 2**30, 'GByte')\n",
    "#print('Σ:', np.prod(Sigma_in.shape) * 4 / 2**20, 'MByte')"
   ]
  },
  {
   "cell_type": "markdown",
   "id": "84c1b6f1",
   "metadata": {},
   "source": [
    "<div style=\"height: 300px\"></div>"
   ]
  },
  {
   "cell_type": "code",
   "execution_count": 89,
   "id": "a9828378",
   "metadata": {},
   "outputs": [
    {
     "data": {
      "image/png": "[encoded data removed]",
      "text/plain": [
       "<Figure size 432x288 with 2 Axes>"
      ]
     },
     "metadata": {
      "needs_background": "light"
     },
     "output_type": "display_data"
    },
    {
     "data": {
      "image/png": "[encoded data removed]",
      "text/plain": [
       "<Figure size 432x288 with 2 Axes>"
      ]
     },
     "metadata": {
      "needs_background": "light"
     },
     "output_type": "display_data"
    }
   ],
   "source": [
    "def build_covariance_y(variance, function, width=3):\n",
    "    '''\n",
    "    Generate a covariance matrix, which covariance is along the \n",
    "    y-dimension of a grid.\n",
    "\n",
    "    Parameter\n",
    "    ---------\n",
    "    variance: array_like\n",
    "        A 2D array of variances for each pixel.\n",
    "    '''\n",
    "    \n",
    "    im_height, im_width = variance.shape\n",
    "    n = im_height * im_width\n",
    "    var = np.diagflat(variance.flatten())\n",
    "    \n",
    "    for p in range(n):\n",
    "        idy = utils.get_neigbours_y(p, width, im_height, im_width)\n",
    "        \n",
    "        omega = np.arange(0,width+1)\n",
    "        rho = function(omega, 1/np.log(width+1))\n",
    "        \n",
    "        top = 1\n",
    "        bottom = min(width, p//im_width)\n",
    "        for idx in idy:\n",
    "            if p < idx:\n",
    "                # bottom\n",
    "                #var[p,idx] = np.sqrt(var[p,p]) * np.sqrt(var[idx,idx]) * rho[top]\n",
    "                var[idx,p] = np.sqrt(var[p,p]) * np.sqrt(var[idx,idx]) * rho[top]\n",
    "                top += 1\n",
    "            if p > idx:\n",
    "            #    # top\n",
    "                var[idx,p] = np.sqrt(var[p,p]) * np.sqrt(var[idx,idx]) * rho[bottom]\n",
    "            #    var[p,idx] = np.sqrt(var[p,p]) * np.sqrt(var[idx,idx]) * bottom\n",
    "                bottom -= 1\n",
    "            \n",
    "    return var\n",
    "            \n",
    "var = np.ones((9,9))\n",
    "Sigma = build_covariance_y(var, exponential, 6)\n",
    "\n",
    "impulse = np.zeros((9,9))\n",
    "impulse[0,2] = 1\n",
    "\n",
    "response = np.reshape(Sigma @ impulse.flatten(), (9,9))\n",
    "\n",
    "plt.imshow(response)\n",
    "plt.colorbar()\n",
    "plt.show()\n",
    "\n",
    "plt.imshow(Sigma[:19,:19])\n",
    "plt.colorbar()\n",
    "plt.show()\n",
    "\n",
    "#plt.plot(response[:,4])\n",
    "#plt.show()"
   ]
  },
  {
   "cell_type": "code",
   "execution_count": null,
   "id": "ff4feed4",
   "metadata": {},
   "outputs": [],
   "source": []
  }
 ],
 "metadata": {
  "kernelspec": {
   "display_name": "Python [conda env:ai-cpu]",
   "language": "python",
   "name": "conda-env-ai-cpu-py"
  },
  "language_info": {
   "codemirror_mode": {
    "name": "ipython",
    "version": 3
   },
   "file_extension": ".py",
   "mimetype": "text/x-python",
   "name": "python",
   "nbconvert_exporter": "python",
   "pygments_lexer": "ipython3",
   "version": "3.8.10"
  }
 },
 "nbformat": 4,
 "nbformat_minor": 5
}
