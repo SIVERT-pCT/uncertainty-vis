{
 "cells": [
  {
   "cell_type": "code",
   "execution_count": 1,
   "id": "f23d571a",
   "metadata": {},
   "outputs": [
    {
     "data": {
      "text/html": [
       "\n",
       "<script>\n",
       "code_show=false;\n",
       "function code_toggle(){\n",
       "    if(code_show){$('.prompt, .input, .output_stderr, .output_error').hide();}\n",
       "    else{$('.input, .prompt, .output_stderr, .output_error').show();}\n",
       "    code_show=!code_show;\n",
       "}\n",
       "function initialize(){\n",
       "    var output=$('.output_subarea.output_text.output_stream.output_stdout');\n",
       "    $.merge(output,$('.output_subarea.output_text.output_result'));\n",
       "    for(var i=0;i<output.length;i++)for(var j=0;j<output[i].children.length;j++)\n",
       "        output[i].children[j].style.fontFamily='Palatino';\n",
       "    code_toggle();\n",
       "}\n",
       "$(document).ready(initialize);\n",
       "</script>\n",
       "Click <a href=\"javascript:code_toggle()\">here</a> to show/hide codes in this notebook.\n"
      ],
      "text/plain": [
       "<IPython.core.display.HTML object>"
      ]
     },
     "execution_count": 1,
     "metadata": {},
     "output_type": "execute_result"
    }
   ],
   "source": [
    "from IPython.display import HTML\n",
    "HTML('''\n",
    "<script>\n",
    "code_show=false;\n",
    "function code_toggle(){\n",
    "    if(code_show){$('.prompt, .input, .output_stderr, .output_error').hide();}\n",
    "    else{$('.input, .prompt, .output_stderr, .output_error').show();}\n",
    "    code_show=!code_show;\n",
    "}\n",
    "function initialize(){\n",
    "    var output=$('.output_subarea.output_text.output_stream.output_stdout');\n",
    "    $.merge(output,$('.output_subarea.output_text.output_result'));\n",
    "    for(var i=0;i<output.length;i++)for(var j=0;j<output[i].children.length;j++)\n",
    "        output[i].children[j].style.fontFamily='Palatino';\n",
    "    code_toggle();\n",
    "}\n",
    "$(document).ready(initialize);\n",
    "</script>\n",
    "Click <a href=\"javascript:code_toggle()\">here</a> to show/hide codes in this notebook.\n",
    "''')"
   ]
  },
  {
   "cell_type": "markdown",
   "id": "fd5f365a",
   "metadata": {},
   "source": [
    "# Comparing PDFs\n",
    "Here, we compare two PDFs or a field of PDFs in a naive way. We show the difference of their moments ($\\mu$,$\\sigma^2$)."
   ]
  },
  {
   "cell_type": "code",
   "execution_count": 2,
   "id": "4199677f",
   "metadata": {},
   "outputs": [],
   "source": [
    "import numpy as np\n",
    "from matplotlib import pyplot as plt\n",
    "from ipywidgets import interact\n",
    "import utils"
   ]
  },
  {
   "cell_type": "markdown",
   "id": "2df5effe",
   "metadata": {},
   "source": [
    "## 1D"
   ]
  },
  {
   "cell_type": "markdown",
   "id": "43ecf34c",
   "metadata": {},
   "source": [
    "Let $X$ ~ $N(\\mu_x, \\sigma_x^2)$ and $Y$ ~ $N(\\mu_y, \\sigma_y^2)$ be two random variables, of a normal distribution. We can compare their moments as followed:\n",
    "$$\n",
    "    \\mu = \\mu_x - \\mu_y \\\\\n",
    "    \\sigma^2 = \\sigma_x^2 - \\sigma_y^2\n",
    "$$"
   ]
  },
  {
   "cell_type": "code",
   "execution_count": 3,
   "id": "cf949137",
   "metadata": {},
   "outputs": [],
   "source": [
    "def normal_dist(x , mean , var):\n",
    "    prob_density = 1 / (np.sqrt(2*np.pi)*var) * np.exp(-0.5*((x-mean)/var)**2)\n",
    "    return prob_density"
   ]
  },
  {
   "cell_type": "code",
   "execution_count": 4,
   "id": "ca20e1fc",
   "metadata": {},
   "outputs": [
    {
     "data": {
      "application/vnd.jupyter.widget-view+json": {
       "model_id": "ff65fdcb943b42b887b35c36bc078266",
       "version_major": 2,
       "version_minor": 0
      },
      "text/plain": [
       "interactive(children=(FloatSlider(value=0.5, description='mu_x', max=1.0), FloatSlider(value=0.1, description=…"
      ]
     },
     "metadata": {},
     "output_type": "display_data"
    }
   ],
   "source": [
    "@interact(mu_x=(0.,1.), var_x=(0.1,1.), mu_y=(0.,1.), var_y=(0.1,1.))\n",
    "def show_moments(mu_x = 0.5, var_x = 0., mu_y = 1., var_y = 0.6):\n",
    "    space = np.linspace(-2, 4, 100)\n",
    "\n",
    "    x = normal_dist(space, mu_x, var_x)\n",
    "    y = normal_dist(space, mu_y, var_y)\n",
    "\n",
    "    mu = mu_x - mu_y\n",
    "    var = var_x - var_y\n",
    "\n",
    "    # P(mu)\n",
    "    p_mean_x = normal_dist(mu_x, mu_x, var_x)\n",
    "    p_mean_y = normal_dist(mu_y, mu_y, var_y)\n",
    "    # P(sigma)\n",
    "\n",
    "    plt.figure(figsize=(18,8))\n",
    "    ax1 = plt.subplot(2,1,1)\n",
    "    plt.plot(space, x)\n",
    "    plt.plot(space, y)\n",
    "    #plt.ylim(0, p_mean_x + 0.5 if p_mean_x >= p_mean_y else p_mean_y + 0.5)\n",
    "    # mean\n",
    "    plt.vlines(mu_x, 0, 1.0, ls='dashed', colors='k')\n",
    "    plt.vlines(mu_y, 0, 1.0, ls='dashed', colors='k')\n",
    "\n",
    "    mu_pos = mu_x if mu_x <= mu_y else mu_y\n",
    "    plt.text(mu_pos, 1.05, r'$\\mu = {:.2f}$'.format(mu))\n",
    "    ax1.annotate('', xy=(mu_x, 1.0), xytext=(mu_y, 1.0), arrowprops=dict(arrowstyle=\"|-|\"))\n",
    "\n",
    "    ax2 = plt.subplot(2,1,2)\n",
    "\n",
    "    x = normal_dist(space, 0, var_x)\n",
    "    y = normal_dist(space, 0, var_y)\n",
    "\n",
    "    plt.plot(space, x)\n",
    "    plt.plot(space, y)\n",
    "    plt.xlim(-2, 2)\n",
    "    plt.ylim(0, 1.7)\n",
    "    plt.vlines(-np.sqrt(var_x), 0, 1.0, ls='-.', colors='k')\n",
    "    plt.vlines(np.sqrt(var_x), 0, 1.0, ls='-.', colors='k')\n",
    "    plt.vlines(-np.sqrt(var_y), 0, 1.5, ls='-.', colors='k')\n",
    "    plt.vlines(np.sqrt(var_y), 0, 1.5, ls='-.', colors='k')\n",
    "\n",
    "    plt.text(0, 1.05, r'$\\sigma_x = {:.2f}$'.format(np.sqrt(var_x)))\n",
    "    ax2.annotate('', xy=(-np.sqrt(var_x), 1.0), xytext=(np.sqrt(var_x), 1.0), arrowprops=dict(arrowstyle=\"|-|\"))\n",
    "\n",
    "    plt.text(0, 1.55, r'$\\sigma_y = {:.2f}$'.format(np.sqrt(var_y)))\n",
    "    ax2.annotate('', xy=(-np.sqrt(var_y), 1.5), xytext=(np.sqrt(var_y), 1.5), arrowprops=dict(arrowstyle=\"|-|\"))\n",
    "\n",
    "    plt.show()"
   ]
  },
  {
   "cell_type": "markdown",
   "id": "0f65dfc6",
   "metadata": {},
   "source": [
    "# 2D"
   ]
  },
  {
   "cell_type": "code",
   "execution_count": 7,
   "id": "9baafac0",
   "metadata": {},
   "outputs": [
    {
     "data": {
      "application/vnd.jupyter.widget-view+json": {
       "model_id": "bfe6a1d0fd6b4bb1bee21aa472f999be",
       "version_major": 2,
       "version_minor": 0
      },
      "text/plain": [
       "interactive(children=(Dropdown(description='algo1', options=('ramp', 'cosine', 'hamming', 'hann', 'shepp-logan…"
      ]
     },
     "metadata": {},
     "output_type": "display_data"
    }
   ],
   "source": [
    "width = 10\n",
    "percent = 5\n",
    " \n",
    "#input_range = 8649.794 # max - min value of sinogram\n",
    "input_range = 30\n",
    "var = np.ones((64,64)) * input_range\n",
    "Sigma_in = utils.build_covariance_matrix(var, function=utils.exponential, width=width)\n",
    "\n",
    "algs = ['ramp', 'cosine', 'hamming', 'hann', 'shepp-logan']\n",
    "\n",
    "@interact(algo1=algs, algo2=algs)\n",
    "def compare(algo1='ramp', algo2='cosine'):\n",
    "    mu1 = np.load('../../Data/iradon/mu_'+algo1+'.npy')\n",
    "    df_dx1 = np.load('../../Data/iradon/df_dx_'+algo1+'.npy')\n",
    "    Sigma1 = df_dx1 @ Sigma_in @ np.transpose(df_dx1)\n",
    "    variance1 = np.reshape(np.abs(np.diagonal(Sigma1)), mu1.shape)\n",
    "    \n",
    "    mu2 = np.load('../../Data/iradon/mu_'+algo2+'.npy')\n",
    "    df_dx2 = np.load('../../Data/iradon/df_dx_'+algo2+'.npy')\n",
    "    Sigma2 = df_dx2 @ Sigma_in @ np.transpose(df_dx2)\n",
    "    variance2 = np.reshape(np.abs(np.diagonal(Sigma2)), mu2.shape)\n",
    "    \n",
    "    mu = mu1 - mu2\n",
    "    variance = variance1 - variance2\n",
    "    \n",
    "    plt.figure(figsize=(18,6))\n",
    "    plt.suptitle(algo1)\n",
    "    plt.subplot(1,2,1)\n",
    "    plt.imshow(mu1)\n",
    "    plt.colorbar()\n",
    "\n",
    "    plt.subplot(1,2,2)\n",
    "    plt.imshow(variance1)\n",
    "    plt.colorbar()\n",
    "    \n",
    "    plt.show()\n",
    "    \n",
    "    plt.figure(figsize=(18,6))\n",
    "    plt.suptitle(algo2)\n",
    "    plt.subplot(1,2,1)\n",
    "    plt.imshow(mu2)\n",
    "    plt.colorbar()\n",
    "\n",
    "    plt.subplot(1,2,2)\n",
    "    plt.imshow(variance2)\n",
    "    plt.colorbar()\n",
    "    \n",
    "    plt.show()\n",
    "    \n",
    "    plt.figure(figsize=(18,6))\n",
    "    plt.suptitle('difference')\n",
    "    plt.subplot(1,2,1)\n",
    "    plt.imshow(mu, cmap='RdBu')\n",
    "    plt.colorbar()\n",
    "\n",
    "    plt.subplot(1,2,2)\n",
    "    plt.imshow(variance, cmap='RdBu')\n",
    "    plt.colorbar()\n",
    "    \n",
    "    plt.show()"
   ]
  },
  {
   "cell_type": "code",
   "execution_count": null,
   "id": "debe4087",
   "metadata": {},
   "outputs": [],
   "source": []
  }
 ],
 "metadata": {
  "kernelspec": {
   "display_name": "Python [conda env:pct] *",
   "language": "python",
   "name": "conda-env-pct-py"
  },
  "language_info": {
   "codemirror_mode": {
    "name": "ipython",
    "version": 3
   },
   "file_extension": ".py",
   "mimetype": "text/x-python",
   "name": "python",
   "nbconvert_exporter": "python",
   "pygments_lexer": "ipython3",
   "version": "3.8.10"
  }
 },
 "nbformat": 4,
 "nbformat_minor": 5
}
