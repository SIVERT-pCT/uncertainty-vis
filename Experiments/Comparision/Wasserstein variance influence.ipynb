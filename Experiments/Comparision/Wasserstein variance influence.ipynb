{
 "cells": [
  {
   "cell_type": "markdown",
   "id": "0f9e80ea",
   "metadata": {},
   "source": [
    "# Wasserstein variance influence\n",
    "A question which pup up is, how much difference is influenced by the variance or the mean."
   ]
  },
  {
   "cell_type": "code",
   "execution_count": 1,
   "id": "cc47678a",
   "metadata": {},
   "outputs": [],
   "source": [
    "import numpy as np\n",
    "from matplotlib import pyplot as plt\n",
    "import ipywidgets as widgets\n",
    "from IPython.display import display\n",
    "import utils\n",
    "import scipy"
   ]
  },
  {
   "cell_type": "code",
   "execution_count": 2,
   "id": "fcda2301",
   "metadata": {},
   "outputs": [],
   "source": [
    "def wasserstein(mu1, var1, mu2, var2):\n",
    "    return np.sqrt(\n",
    "        ( mu1 - mu2 )**2 + ( np.sqrt(var1) - np.sqrt(var2) )**2\n",
    "    )\n",
    "\n",
    "def wasserstein_matrix(mu1, var1, mu2, var2):\n",
    "    #print( np.trace( var1 ), np.trace( var2 ), np.trace(- 2 * np.transpose( np.transpose(var2) @ var1 @ np.transpose(var2) ) ) )\n",
    "    return np.sqrt(\n",
    "        np.linalg.norm( mu1.flatten() - mu2.flatten() )**2 + np.trace(\n",
    "            var1 + var2 - 2 * scipy.linalg.sqrtm( scipy.linalg.sqrtm(var2) @ var1 @ scipy.linalg.sqrtm(var2) )\n",
    "        )\n",
    "    )"
   ]
  },
  {
   "cell_type": "code",
   "execution_count": 3,
   "id": "c16b44cd",
   "metadata": {},
   "outputs": [
    {
     "data": {
      "image/png": "[encoded data removed]",
      "text/plain": [
       "<Figure size 1296x432 with 1 Axes>"
      ]
     },
     "metadata": {
      "needs_background": "light"
     },
     "output_type": "display_data"
    }
   ],
   "source": [
    "colormap = np.empty((64,64,3))\n",
    "\n",
    "for i in range(colormap.shape[0]):\n",
    "    for j in range(colormap.shape[1]):\n",
    "        colormap[i,j,:] = (64-i)/64 * (64-j)/64\n",
    "        \n",
    "plt.figure(figsize=(18,6))\n",
    "plt.imshow(colormap, origin='lower')\n",
    "plt.xlabel(r'$\\Vert\\delta \\mu\\Vert_2$ or $\\Vert\\delta \\sigma\\Vert_2$')\n",
    "plt.ylabel(r'$W_2$')\n",
    "plt.show()"
   ]
  },
  {
   "cell_type": "markdown",
   "id": "5bbbeae3",
   "metadata": {},
   "source": [
    "# Alpha as the second encoding"
   ]
  },
  {
   "cell_type": "code",
   "execution_count": 4,
   "id": "27f3cb60",
   "metadata": {},
   "outputs": [
    {
     "data": {
      "application/vnd.jupyter.widget-view+json": {
       "model_id": "440e948fd77149d4b9f59a5b2eddfa66",
       "version_major": 2,
       "version_minor": 0
      },
      "text/plain": [
       "interactive(children=(Dropdown(description='algo1', options=('ramp', 'cosine', 'hamming', 'hann', 'shepp-logan…"
      ]
     },
     "metadata": {},
     "output_type": "display_data"
    }
   ],
   "source": [
    "width = 10\n",
    "percent = 5\n",
    " \n",
    "#input_range = 8649.794 # max - min value of sinogram\n",
    "input_range = 1100\n",
    "var = np.ones((64,64)) * input_range\n",
    "Sigma_in = utils.build_covariance_y(var, function=utils.exponential, width=width)\n",
    "\n",
    "algs = ['ramp', 'cosine', 'hamming', 'hann', 'shepp-logan', 'None']\n",
    "\n",
    "@widgets.interact(algo1=algs, algo2=algs)\n",
    "def compare(algo1='ramp', algo2='cosine'):\n",
    "    mu1 = np.load('../../Data/iradon/mu_'+algo1+'.npy')\n",
    "    df_dx1 = np.load('../../Data/iradon/df_dx_'+algo1+'.npy')\n",
    "    Sigma1 = df_dx1 @ Sigma_in @ np.transpose(df_dx1)\n",
    "    variance1 = np.reshape(np.abs(np.diag(Sigma1)), mu1.shape)\n",
    "    \n",
    "    mu2 = np.load('../../Data/iradon/mu_'+algo2+'.npy')\n",
    "    df_dx2 = np.load('../../Data/iradon/df_dx_'+algo2+'.npy')\n",
    "    Sigma2 = df_dx2 @ Sigma_in @ np.transpose(df_dx2)\n",
    "    variance2 = np.reshape(np.abs(np.diag(Sigma2)), mu2.shape)\n",
    "    \n",
    "    BD = wasserstein(mu1, variance1, mu2, variance2)\n",
    "    var_diff = np.abs(variance1 - variance2)\n",
    "    var_diff /= var_diff.max()\n",
    "    \n",
    "    m_diff = np.abs(mu1 - mu2)\n",
    "    m_diff /= m_diff.max()\n",
    "    \n",
    "    plt.figure(figsize=(18,6))\n",
    "    plt.title('W_2')\n",
    "    plt.imshow(BD, cmap='Greys')\n",
    "    plt.colorbar()\n",
    "    plt.show()\n",
    "    \n",
    "    plt.figure(figsize=(18,6))\n",
    "    plt.subplot(1,2,1)\n",
    "    plt.title(r'$W_2$ & $\\delta \\sigma$')\n",
    "    plt.imshow(BD, cmap='Greys', alpha=var_diff)\n",
    "    \n",
    "    plt.subplot(1,2,2)\n",
    "    plt.title(r'$W_2$ & $\\delta \\mu$')\n",
    "    plt.imshow(BD, cmap='Greys', alpha=m_diff )\n",
    "    \n",
    "    plt.show()"
   ]
  },
  {
   "cell_type": "code",
   "execution_count": 5,
   "id": "bb945bb6",
   "metadata": {},
   "outputs": [
    {
     "data": {
      "application/vnd.jupyter.widget-view+json": {
       "model_id": "4ea75ea10c76412288b4cb52bedd7c04",
       "version_major": 2,
       "version_minor": 0
      },
      "text/plain": [
       "interactive(children=(Dropdown(description='algo1', options=('ramp', 'cosine', 'hamming', 'hann', 'shepp-logan…"
      ]
     },
     "metadata": {},
     "output_type": "display_data"
    }
   ],
   "source": [
    "width = 10\n",
    " \n",
    "#input_range = 8649.794 # max - min value of sinogram\n",
    "input_range = 1100\n",
    "var = np.ones((64,64)) * input_range\n",
    "Sigma_in = utils.build_covariance_y(var, function=utils.exponential, width=width)\n",
    "\n",
    "algs = ['ramp', 'cosine', 'hamming', 'hann', 'shepp-logan', 'None']\n",
    "\n",
    "@widgets.interact(algo1=algs, algo2=algs, width=(1,10))\n",
    "def compare(algo1='ramp', algo2='cosine', width=1):\n",
    "    mu1 = np.load('../../Data/iradon/mu_'+algo1+'.npy')\n",
    "    df_dx1 = np.load('../../Data/iradon/df_dx_'+algo1+'.npy')\n",
    "    Sigma1 = np.abs(df_dx1 @ Sigma_in @ np.transpose(df_dx1))\n",
    "    variance1 = np.reshape(np.diag(Sigma1), mu1.shape)\n",
    "\n",
    "    mu2 = np.load('../../Data/iradon/mu_'+algo2+'.npy')\n",
    "    df_dx2 = np.load('../../Data/iradon/df_dx_'+algo2+'.npy')\n",
    "    Sigma2 = np.abs(df_dx2 @ Sigma_in @ np.transpose(df_dx2))\n",
    "    variance2 = np.reshape(np.diag(Sigma2), mu2.shape)\n",
    "\n",
    "    BD = np.zeros((64*64,))\n",
    "    alpha_var = np.zeros((64*64,))\n",
    "    alpha_mu = np.zeros((64*64,))\n",
    "    alpha_covar = np.zeros((64*64,))\n",
    "    for p in range(64*64):\n",
    "        neigbours = utils.get_neighbour_indices(p, width, 64, 64)\n",
    "        n_flatten = neigbours.flatten().astype(np.int64)\n",
    "        S1_covar = np.array([[Sigma1[i,j] for i in n_flatten] for j in n_flatten])\n",
    "        S2_covar = np.array([[Sigma2[i,j] for i in n_flatten] for j in n_flatten])\n",
    "        M1 = mu1.flatten()[n_flatten]\n",
    "        M2 = mu2.flatten()[n_flatten]\n",
    "        \n",
    "        BD[p] = wasserstein_matrix(M1, S1_covar, M2, S2_covar)\n",
    "        alpha_mu[p] = np.abs(mu1.flatten()[p] - mu2.flatten()[p])\n",
    "        alpha_var[p] = np.abs( variance1.flatten()[p] - variance2.flatten()[p] )\n",
    "        \n",
    "        # remove the variance and leave only the covariance rho * sigma_i * sigma_j\n",
    "        S1_co = S1_covar - np.diag(np.diag(S1_covar))\n",
    "        S2_co = S2_covar - np.diag(np.diag(S2_covar))\n",
    "        # remove the sigma_i and sigma_j, resulting in rho\n",
    "        #S1_co /= np.prod(np.diag(S1_covar))\n",
    "        #S2_co /= np.prod(np.diag(S2_covar))\n",
    "        \n",
    "        alpha_covar[p] = np.sum(np.abs(S1_co - S2_co))\n",
    "\n",
    "    BD = BD.reshape((64,64))\n",
    "    alpha_var = alpha_var.reshape((64,64))\n",
    "    alpha_var /= alpha_var.max()\n",
    "    alpha_mu = alpha_mu.reshape((64,64))\n",
    "    alpha_mu /= alpha_mu.max()\n",
    "    alpha_covar = alpha_covar.reshape((64,64))\n",
    "    alpha_covar /= alpha_covar.max()\n",
    "    \n",
    "    plt.figure(figsize=(18,6))\n",
    "    plt.title(r'$W_2$')\n",
    "    plt.imshow(BD, cmap='Greys')\n",
    "    plt.colorbar()\n",
    "    plt.show()\n",
    "\n",
    "    plt.figure(figsize=(18,6))\n",
    "    plt.subplot(1,3,1)\n",
    "    plt.title(r'$W_2$ & $\\delta \\mu$')\n",
    "    plt.imshow(BD, cmap='Greys', alpha=alpha_mu)\n",
    "    plt.subplot(1,3,2)\n",
    "    plt.title(r'$W_2$ & $\\delta \\sigma$')\n",
    "    plt.imshow(BD, cmap='Greys', alpha=alpha_var)\n",
    "    plt.subplot(1,3,3)\n",
    "    plt.title(r'$W_2$ & $\\delta \\Sigma$')\n",
    "    plt.imshow(BD, cmap='Greys', alpha=alpha_covar)\n",
    "\n",
    "    plt.show()"
   ]
  },
  {
   "cell_type": "code",
   "execution_count": null,
   "id": "3cf72985",
   "metadata": {},
   "outputs": [],
   "source": []
  }
 ],
 "metadata": {
  "kernelspec": {
   "display_name": "Python [conda env:pct] *",
   "language": "python",
   "name": "conda-env-pct-py"
  },
  "language_info": {
   "codemirror_mode": {
    "name": "ipython",
    "version": 3
   },
   "file_extension": ".py",
   "mimetype": "text/x-python",
   "name": "python",
   "nbconvert_exporter": "python",
   "pygments_lexer": "ipython3",
   "version": "3.8.10"
  }
 },
 "nbformat": 4,
 "nbformat_minor": 5
}
