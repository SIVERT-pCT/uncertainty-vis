{
 "cells": [
  {
   "cell_type": "markdown",
   "id": "2c886f9b",
   "metadata": {},
   "source": [
    "# Bhattacharyya distance\n",
    "Here, we compare two PDFs or a field of PDFs using the [Bhattacharyya distance](https://en.wikipedia.org/wiki/Bhattacharyya_distance)."
   ]
  },
  {
   "cell_type": "code",
   "execution_count": 1,
   "id": "74ee3b87",
   "metadata": {},
   "outputs": [],
   "source": [
    "import numpy as np\n",
    "from matplotlib import pyplot as plt\n",
    "import ipywidgets as widgets\n",
    "from IPython.display import display\n",
    "import utils"
   ]
  },
  {
   "cell_type": "markdown",
   "id": "8c8610e2",
   "metadata": {},
   "source": [
    "# 1D"
   ]
  },
  {
   "cell_type": "markdown",
   "id": "5bf70427",
   "metadata": {},
   "source": [
    "Let $X$ ~ $N(\\mu_x, \\sigma_x^2)$ and $Y$ ~ $N(\\mu_y, \\sigma_y^2)$ be two random variables, of a normal distribution $p(x)$ and $q(x)$. We can compare their Bhattacharyya distance as followed:\n",
    "$$\n",
    "    D_B(p, q) = - \\ln\\left( BC(p,q) \\right) \\\\\n",
    "    BC(p, q) = \\sum\\limits_{x \\in X} \\sqrt{ p(x) q(x) }\n",
    "$$\n",
    "For nornal distributions, the closed form can be used:\n",
    "$$\n",
    "    D_B(p, q) = \\frac{1}{4} \\ln\\left[ \\frac{1}{4} \\left( \\frac{\\sigma_x^2}{\\sigma_y^2} + \\frac{\\sigma_y^2}{\\sigma_x^2} + 2 \\right) \\right] + \\frac{1}{4}\\left( \\frac{(\\mu_x - \\mu_y)^2}{\\sigma_x^2 + \\sigma_y^2} \\right)\n",
    "$$\n",
    "In order to take covariances into account, the following form can be used:\n",
    "$$\n",
    "    D_B = \\frac{1}{8} ( \\mu_x - \\mu_y)^T \\Sigma^{-1} (\\mu_x - \\mu_y) + \\frac{1}{2} \\ln \\left( \\frac{\\det \\Sigma}{ \\sqrt{ \\det \\Sigma_x \\det \\Sigma_y } } \\right) \\\\\n",
    "    \\Sigma = \\frac{ \\Sigma_x + \\Sigma_y }{2}\n",
    "$$"
   ]
  },
  {
   "cell_type": "code",
   "execution_count": 2,
   "id": "5c3a7d2f",
   "metadata": {},
   "outputs": [],
   "source": [
    "def bhattacharyya(mu1, var1, mu2, var2):\n",
    "    return 0.25 * np.log(\n",
    "        0.25 * (\n",
    "            var1/var2 + var2/var1 + 2\n",
    "        )\n",
    "    ) + 0.25 * (\n",
    "        (mu1 - mu2)**2 / ( var1 + var2 )\n",
    "    )\n",
    "\n",
    "def bhattacharyya_matrix(mu1, sigma1, mu2, sigma2):\n",
    "    sigma = (sigma1 + sigma2) * 0.5\n",
    "    return 0.125 * np.transpose((mu1 - mu2).flatten()) @ np.linalg.inv(sigma) @ (mu1 - mu2).flatten()\n",
    "    + 0.5 * np.log( np.linalg.det(sigma) / np.sqrt( np.linalg.det(sigma1) * np.linalg.det(sigma2) ) )"
   ]
  },
  {
   "cell_type": "code",
   "execution_count": 3,
   "id": "c2796b6c",
   "metadata": {},
   "outputs": [],
   "source": [
    "def normal_dist(x , mean , var):\n",
    "    return 1 / np.sqrt(2*np.pi * var) * np.exp(-0.5*(x-mean)**2/var)"
   ]
  },
  {
   "cell_type": "code",
   "execution_count": 4,
   "id": "8078ecc2",
   "metadata": {},
   "outputs": [
    {
     "data": {
      "application/vnd.jupyter.widget-view+json": {
       "model_id": "70533649f00341e79c59c5b2441601d7",
       "version_major": 2,
       "version_minor": 0
      },
      "text/plain": [
       "VBox(children=(HBox(children=(VBox(children=(FloatSlider(value=0.0, description='$\\\\mu_x$:', layout=Layout(lef…"
      ]
     },
     "metadata": {},
     "output_type": "display_data"
    }
   ],
   "source": [
    "max_mu = 6.0\n",
    "max_sigma = 2.0\n",
    "\n",
    "def show_bhattacharyya_mu(mu_x = 0.0, var_x = 0.1, mu_y = 0.0, var_y = 0.6, max_mu=max_mu, max_sigma=max_sigma):\n",
    "    mu1 = np.linspace(0, max_mu)\n",
    "    mu2 = np.linspace(0, max_mu)\n",
    "    \n",
    "    mu11, mu22 = np.meshgrid(mu1, mu2)\n",
    "    \n",
    "    BD_mu = bhattacharyya(mu11, var_x, mu22, var_y)\n",
    "    print(bhattacharyya(mu_x, var_x, mu_y, var_y))\n",
    "    \n",
    "    plt.figure(figsize=(7,6))\n",
    "    plt.title(r'$\\mu_x$-$\\mu_y$-plane')\n",
    "    plt.imshow(BD_mu)\n",
    "    plt.colorbar()\n",
    "    plt.scatter(mu_x/max_mu * (len(mu1)-1), mu_y/max_mu * (len(mu2)-1), c='magenta')\n",
    "    plt.xlabel(r'$\\mu_x$')\n",
    "    plt.ylabel(r'$\\mu_y$')\n",
    "    plt.xticks(np.linspace(0, len(mu1), 5), np.linspace(mu1[0], mu1[-1], 5))\n",
    "    plt.yticks(np.linspace(0, len(mu2), 5), np.linspace(mu2[0], mu2[-1], 5))\n",
    "    plt.xlim(0,len(mu1)-1)\n",
    "    plt.ylim(0,len(mu2)-1)\n",
    "    \n",
    "    plt.show()\n",
    "    \n",
    "def show_bhattacharyya_sigma(mu_x = 0.0, var_x = 0.1, mu_y = 0.0, var_y = 0.6, max_mu=max_mu, max_sigma=max_sigma):\n",
    "    var1 = np.linspace(0.1, max_sigma)\n",
    "    var2 = np.linspace(0.1, max_sigma)\n",
    "    \n",
    "    var11, var22 = np.meshgrid(var1, var2)\n",
    "    \n",
    "    BD_var = bhattacharyya(mu_x, var11, mu_y, var22)\n",
    "    print(bhattacharyya(mu_x, var_x, mu_y, var_y))\n",
    "    \n",
    "    plt.figure(figsize=(7,6))\n",
    "    plt.title(r'$\\sigma_x$-$\\sigma_y$-plane')\n",
    "    plt.imshow(BD_var)\n",
    "    plt.colorbar()\n",
    "    plt.scatter(var_x / max_sigma * (len(var1)-1), var_y / max_sigma * (len(var2)-1), c='magenta')\n",
    "    plt.xlabel(r'$\\sigma_x$')\n",
    "    plt.ylabel(r'$\\sigma_y$')\n",
    "    plt.xticks(np.linspace(0, len(var1), 5), np.linspace(var1[0], var1[-1], 5))\n",
    "    plt.yticks(np.linspace(0, len(var2), 5), np.linspace(var2[0], var2[-1], 5))\n",
    "    plt.xlim(0,len(var1)-1)\n",
    "    plt.ylim(0,len(var2)-1)\n",
    "    \n",
    "def show_pdfs(mu_x = 0.0, var_x = 0.1, mu_y = 0.0, var_y = 0.6, max_mu=max_mu):\n",
    "    space = np.linspace(0, max_mu, 200)\n",
    "    \n",
    "    x = normal_dist(space, mu_x, var_x)\n",
    "    y = normal_dist(space, mu_y, var_y)\n",
    "    \n",
    "    plt.figure(figsize=(18,6))\n",
    "    plt.plot(space, x)\n",
    "    plt.plot(space, y)\n",
    "    plt.xlim(0,max_mu)\n",
    "    plt.ylim(0,4)\n",
    "    plt.show()\n",
    "    \n",
    "mu_x_widget = widgets.FloatSlider(\n",
    "    value=0,\n",
    "    min=0,\n",
    "    max=max_mu,\n",
    "    step=0.1,\n",
    "    description=r'$\\mu_x$:',\n",
    "    layout=widgets.Layout(left='70px', width='395px')\n",
    ")\n",
    "\n",
    "mu_y_widget = widgets.FloatSlider(\n",
    "    value=0,\n",
    "    min=0,\n",
    "    max=max_mu,\n",
    "    step=0.1,\n",
    "    orientation='vertical',\n",
    "    description=r'$\\mu_y$:',\n",
    "    layout=widgets.Layout(left='0px', height='355px')\n",
    ")\n",
    "\n",
    "var_x_widget = widgets.FloatSlider(\n",
    "    value=0.1,\n",
    "    min=0.1,\n",
    "    max=max_sigma,\n",
    "    step=0.1,\n",
    "    description=r'$\\sigma_x$:',\n",
    "    layout=widgets.Layout(left='70px', width='405px')\n",
    ")\n",
    "\n",
    "var_y_widget = widgets.FloatSlider(\n",
    "    value=0.1,\n",
    "    min=0.1,\n",
    "    max=max_sigma,\n",
    "    step=0.1,\n",
    "    orientation='vertical',\n",
    "    description=r'$\\sigma_y$:',\n",
    "    layout=widgets.Layout(top='0px', height='355px')\n",
    ")\n",
    "\n",
    "sigma_interact = widgets.interactive_output(show_bhattacharyya_sigma, {\n",
    "    'mu_x': mu_x_widget,\n",
    "    'var_x': var_x_widget,\n",
    "    'mu_y': mu_y_widget,\n",
    "    'var_y': var_y_widget\n",
    "})\n",
    "\n",
    "mu_interact = widgets.interactive_output(show_bhattacharyya_mu, {\n",
    "    'mu_x': mu_x_widget,\n",
    "    'var_x': var_x_widget,\n",
    "    'mu_y': mu_y_widget,\n",
    "    'var_y': var_y_widget\n",
    "})\n",
    "\n",
    "pdf_interact = widgets.interactive_output(show_pdfs, {\n",
    "    'mu_x': mu_x_widget,\n",
    "    'var_x': var_x_widget,\n",
    "    'mu_y': mu_y_widget,\n",
    "    'var_y': var_y_widget\n",
    "})\n",
    "\n",
    "layout = widgets.HBox([\n",
    "    widgets.VBox([\n",
    "        mu_x_widget,\n",
    "        widgets.HBox([\n",
    "            mu_y_widget,\n",
    "            mu_interact\n",
    "        ])\n",
    "    ]),\n",
    "    widgets.VBox([\n",
    "        var_x_widget,\n",
    "        widgets.HBox([\n",
    "            var_y_widget,\n",
    "            sigma_interact\n",
    "        ])\n",
    "    ])\n",
    "])\n",
    "\n",
    "display(widgets.VBox([\n",
    "    layout,\n",
    "    pdf_interact\n",
    "]))"
   ]
  },
  {
   "cell_type": "markdown",
   "id": "7cae2fe5",
   "metadata": {},
   "source": [
    "# 2D (without covariance)"
   ]
  },
  {
   "cell_type": "code",
   "execution_count": 5,
   "id": "38263fee",
   "metadata": {},
   "outputs": [
    {
     "data": {
      "application/vnd.jupyter.widget-view+json": {
       "model_id": "3e7da7d74608432191181a26bde582c0",
       "version_major": 2,
       "version_minor": 0
      },
      "text/plain": [
       "interactive(children=(Dropdown(description='algo1', options=('ramp', 'cosine', 'hamming', 'hann', 'shepp-logan…"
      ]
     },
     "metadata": {},
     "output_type": "display_data"
    }
   ],
   "source": [
    "width = 10\n",
    "percent = 5\n",
    " \n",
    "input_range = 8649.794 # max - min value of sinogram\n",
    "var = np.ones((64,64)) * input_range * percent*1e-2\n",
    "Sigma_in = utils.build_covariance_matrix(var, function=utils.exponential, width=width)\n",
    "\n",
    "algs = ['ramp', 'cosine', 'hamming', 'hann', 'shepp-logan']\n",
    "\n",
    "@widgets.interact(algo1=algs, algo2=algs)\n",
    "def compare(algo1='ramp', algo2='cosine'):\n",
    "    mu1 = np.load('../../Data/iradon/mu_'+algo1+'.npy')\n",
    "    df_dx1 = np.abs(np.load('../../Data/iradon/df_dx_'+algo1+'.npy'))\n",
    "    Sigma1 = df_dx1 @ Sigma_in @ np.transpose(df_dx1)\n",
    "    variance1 = np.reshape(np.abs(np.diagonal(Sigma1)), mu1.shape)\n",
    "    \n",
    "    mu2 = np.load('../../Data/iradon/mu_'+algo2+'.npy')\n",
    "    df_dx2 = np.abs(np.load('../../Data/iradon/df_dx_'+algo2+'.npy'))\n",
    "    Sigma2 = df_dx2 @ Sigma_in @ np.transpose(df_dx2)\n",
    "    variance2 = np.reshape(np.abs(np.diagonal(Sigma2)), mu2.shape)\n",
    "    \n",
    "    BD = bhattacharyya(mu1, variance1, mu2, variance2)\n",
    "    \n",
    "    plt.figure(figsize=(18,6))\n",
    "    plt.suptitle(algo1)\n",
    "    plt.subplot(1,2,1)\n",
    "    plt.imshow(mu1)\n",
    "    plt.colorbar()\n",
    "\n",
    "    plt.subplot(1,2,2)\n",
    "    plt.imshow(variance1)\n",
    "    plt.colorbar()\n",
    "    \n",
    "    plt.show()\n",
    "    \n",
    "    plt.figure(figsize=(18,6))\n",
    "    plt.suptitle(algo2)\n",
    "    plt.subplot(1,2,1)\n",
    "    plt.imshow(mu2)\n",
    "    plt.colorbar()\n",
    "\n",
    "    plt.subplot(1,2,2)\n",
    "    plt.imshow(variance2)\n",
    "    plt.colorbar()\n",
    "    \n",
    "    plt.show()\n",
    "    \n",
    "    plt.figure(figsize=(18,6))\n",
    "    plt.suptitle('difference')\n",
    "    plt.subplot(1,2,1)\n",
    "    plt.imshow(BD)\n",
    "    plt.colorbar()\n",
    "    \n",
    "    plt.show()"
   ]
  },
  {
   "cell_type": "markdown",
   "id": "d803c2d6",
   "metadata": {},
   "source": [
    "# 2D with covariance"
   ]
  },
  {
   "cell_type": "code",
   "execution_count": 6,
   "id": "94bd2dcd",
   "metadata": {
    "scrolled": false
   },
   "outputs": [
    {
     "data": {
      "application/vnd.jupyter.widget-view+json": {
       "model_id": "4f70f94e7bf341579f8484a85e82206c",
       "version_major": 2,
       "version_minor": 0
      },
      "text/plain": [
       "interactive(children=(Dropdown(description='algo1', options=('ramp', 'cosine', 'hamming', 'hann', 'shepp-logan…"
      ]
     },
     "metadata": {},
     "output_type": "display_data"
    }
   ],
   "source": [
    "width = 10\n",
    "percent = 5\n",
    " \n",
    "input_range = 8649.794 # max - min value of sinogram\n",
    "var = np.ones((64,64)) * input_range * percent*1e-2\n",
    "Sigma_in = utils.build_covariance_matrix(var, function=utils.exponential, width=width)\n",
    "\n",
    "algs = ['ramp', 'cosine', 'hamming', 'hann', 'shepp-logan']\n",
    "\n",
    "@widgets.interact(algo1=algs, algo2=algs)\n",
    "def compare(algo1='ramp', algo2='cosine'):\n",
    "    mu1 = np.load('../../Data/iradon/mu_'+algo1+'.npy')\n",
    "    df_dx1 = np.abs(np.load('../../Data/iradon/df_dx_'+algo1+'.npy'))\n",
    "    Sigma1 = np.abs(df_dx1 @ Sigma_in @ np.transpose(df_dx1))\n",
    "    \n",
    "    mu2 = np.load('../../Data/iradon/mu_'+algo2+'.npy')\n",
    "    df_dx2 = np.abs(np.load('../../Data/iradon/df_dx_'+algo2+'.npy'))\n",
    "    Sigma2 = np.abs(df_dx2 @ Sigma_in @ np.transpose(df_dx2))\n",
    "    \n",
    "    BD = bhattacharyya_matrix(mu1, Sigma1, mu2, Sigma2)\n",
    "    \n",
    "    plt.figure(figsize=(18,6))\n",
    "    plt.suptitle(algo1)\n",
    "    plt.subplot(1,2,1)\n",
    "    plt.imshow(mu1)\n",
    "    plt.colorbar()\n",
    "\n",
    "    plt.subplot(1,2,2)\n",
    "    plt.imshow(Sigma1)\n",
    "    plt.colorbar()\n",
    "    \n",
    "    plt.show()\n",
    "    \n",
    "    plt.figure(figsize=(18,6))\n",
    "    plt.suptitle(algo2)\n",
    "    plt.subplot(1,2,1)\n",
    "    plt.imshow(mu2)\n",
    "    plt.colorbar()\n",
    "\n",
    "    plt.subplot(1,2,2)\n",
    "    plt.imshow(Sigma2)\n",
    "    plt.colorbar()\n",
    "    \n",
    "    plt.show()\n",
    "    \n",
    "    display(widgets.HTML('<h1>Difference: {:.02f}</h1>'.format(BD)))"
   ]
  },
  {
   "cell_type": "code",
   "execution_count": null,
   "id": "7a083fe6",
   "metadata": {},
   "outputs": [],
   "source": []
  }
 ],
 "metadata": {
  "kernelspec": {
   "display_name": "Python [conda env:pct] *",
   "language": "python",
   "name": "conda-env-pct-py"
  },
  "language_info": {
   "codemirror_mode": {
    "name": "ipython",
    "version": 3
   },
   "file_extension": ".py",
   "mimetype": "text/x-python",
   "name": "python",
   "nbconvert_exporter": "python",
   "pygments_lexer": "ipython3",
   "version": "3.8.10"
  }
 },
 "nbformat": 4,
 "nbformat_minor": 5
}
