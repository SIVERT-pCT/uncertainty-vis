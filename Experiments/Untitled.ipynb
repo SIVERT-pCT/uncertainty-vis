{
 "cells": [
  {
   "cell_type": "code",
   "execution_count": 1,
   "id": "34d06921",
   "metadata": {},
   "outputs": [],
   "source": [
    "import nibabel as nib\n",
    "import numpy as np"
   ]
  },
  {
   "cell_type": "code",
   "execution_count": 2,
   "id": "8be6077f",
   "metadata": {},
   "outputs": [],
   "source": [
    "data = np.load('../Data/inverse_Radon_Transform/reconstructed-64x64x96.npy')\n",
    "new_image = nib.Nifti1Image(data, affine=np.eye(4))\n",
    "nib.save(new_image, '../Data/inverse_Radon_Transform/reconstructed-64x64x96.nii')"
   ]
  },
  {
   "cell_type": "code",
   "execution_count": 4,
   "id": "f6a7ff55",
   "metadata": {},
   "outputs": [],
   "source": [
    "std3d = np.load('../Data/inverse_Radon_Transform/std3d_64x64_expdecay246.4x10.npy')\n",
    "std3d_image = nib.Nifti1Image(std3d, affine=np.eye(4))\n",
    "nib.save(std3d_image, '../Data/inverse_Radon_Transform/std3d_64x64_expdecay246.4x10.nii')"
   ]
  },
  {
   "cell_type": "code",
   "execution_count": 5,
   "id": "3c7b892c",
   "metadata": {},
   "outputs": [],
   "source": []
  },
  {
   "cell_type": "code",
   "execution_count": null,
   "id": "55c05731",
   "metadata": {},
   "outputs": [],
   "source": []
  }
 ],
 "metadata": {
  "kernelspec": {
   "display_name": "Python [conda env:vtk]",
   "language": "python",
   "name": "conda-env-vtk-py"
  },
  "language_info": {
   "codemirror_mode": {
    "name": "ipython",
    "version": 3
   },
   "file_extension": ".py",
   "mimetype": "text/x-python",
   "name": "python",
   "nbconvert_exporter": "python",
   "pygments_lexer": "ipython3",
   "version": "3.7.10"
  }
 },
 "nbformat": 4,
 "nbformat_minor": 5
}
