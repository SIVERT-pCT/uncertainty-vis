{
 "cells": [
  {
   "cell_type": "code",
   "execution_count": 1,
   "id": "proprietary-psychiatry",
   "metadata": {},
   "outputs": [
    {
     "data": {
      "text/html": [
       "\n",
       "<script>\n",
       "code_show=false;\n",
       "function code_toggle(){\n",
       "    if(code_show){$('.prompt, .input, .output_stderr, .output_error').hide();}\n",
       "    else{$('.input, .prompt, .output_stderr, .output_error').show();}\n",
       "    code_show=!code_show;\n",
       "}\n",
       "function initialize(){\n",
       "    var output=$('.output_subarea.output_text.output_stream.output_stdout');\n",
       "    $.merge(output,$('.output_subarea.output_text.output_result'));\n",
       "    for(var i=0;i<output.length;i++)for(var j=0;j<output[i].children.length;j++)\n",
       "        output[i].children[j].style.fontFamily='Palatino';\n",
       "    code_toggle();\n",
       "}\n",
       "$(document).ready(initialize);\n",
       "</script>\n",
       "Click <a href=\"javascript:code_toggle()\">here</a> to show/hide codes in this notebook.\n"
      ],
      "text/plain": [
       "<IPython.core.display.HTML object>"
      ]
     },
     "execution_count": 1,
     "metadata": {},
     "output_type": "execute_result"
    }
   ],
   "source": [
    "from IPython.display import HTML\n",
    "HTML('''\n",
    "<script>\n",
    "code_show=false;\n",
    "function code_toggle(){\n",
    "    if(code_show){$('.prompt, .input, .output_stderr, .output_error').hide();}\n",
    "    else{$('.input, .prompt, .output_stderr, .output_error').show();}\n",
    "    code_show=!code_show;\n",
    "}\n",
    "function initialize(){\n",
    "    var output=$('.output_subarea.output_text.output_stream.output_stdout');\n",
    "    $.merge(output,$('.output_subarea.output_text.output_result'));\n",
    "    for(var i=0;i<output.length;i++)for(var j=0;j<output[i].children.length;j++)\n",
    "        output[i].children[j].style.fontFamily='Palatino';\n",
    "    code_toggle();\n",
    "}\n",
    "$(document).ready(initialize);\n",
    "</script>\n",
    "Click <a href=\"javascript:code_toggle()\">here</a> to show/hide codes in this notebook.\n",
    "''')"
   ]
  },
  {
   "cell_type": "markdown",
   "id": "infinite-judgment",
   "metadata": {},
   "source": [
    "# Extended Level Crossing Probabilities\n",
    "The work of Pöthkow et al.[<sup id=\"fn1-back\">1</sup>](#fn1) calculates the probability of an isovalue $\\vartheta$ crossing a 1-cell (edge), 2-cell (rectangle) and 3-cell (cuboids), thus producing an isocontour. Their statistical model relies on gausian distributed random fields including correlations within each $n$-cell. To achieve this, the multi-variate distribution function $f_{\\mathbf{Y}}(y_1, \\dots, y_n)$ has to be integrated in each domain in order to identify the joint probability $(y_1 \\leq \\vartheta  \\wedge y_2 > \\vartheta) \\vee (y_1 > \\vartheta \\wedge y_2 \\leq \\vartheta)$, which results in calculating the cumulative probability distribution till $\\vartheta$ from $-\\infty$ for one dimension and from $+\\infty$ in the other dimension.\n",
    "\n",
    "The process of integrating higher dimensional mulitvariate random fields is a challenging task, as the authors stated for a field of 3 dimensions, the 8-dimensional cuboid, whose joint probability funtion in an 8-dimensional Gaussian PDF results in $2^8 = 256$ cases, consisting of $254$ cases for *crossing* ($14$ distinct marching cubes cases) and 2 cases for *non-crossing*.\n",
    "\n",
    "A more performant solution to this problem could be solved by utilizing the [characteristic function](https://en.wikipedia.org/wiki/Characteristic_function_(probability_theory)) of an multivariate probability function:\n",
    "$$\n",
    "    \\varphi_{\\mathbf{Y}}(t) = exp\\left( i \\mathbf{\\mu}^T \\mathbf{t} - \\frac{1}{2} \\mathbf{t}^T \\mathbf{\\Sigma t} \\right),\n",
    "$$\n",
    "while $\\mathbf{\\mu}$ is the mean vector of the random variables $\\mathbf{Y} = [Y_1, Y_2]$ and $\\mathbf{\\Sigma}$ represents the covariance matrix.\n",
    "\n",
    "Thus, the work of Nuttall[<sup id=\"fn2-back\">2</sup>](#fn2) could be used to calculate the cumulative probability distribution directly from the characteristic function. This results in a bounded single integration, which is not limited anymore on multivariate normal distributions. Characteristic function is defined for a variety of density distribution functions and can be computed, if a probability density function does not exists. These proberties of this approach fill the homogeneous literature on visualizations using normal distributions.\n",
    "\n",
    "[<sup id=\"fn1\">1</sup>](#fn1-back): Pöthkow, Weber, und Hege, „Probabilistic marching cubes“.\n",
    "[<sup id=\"fn2\">2</sup>](#fn2-back): Nuttall, „Numerical evaluation of cumulative probability distribution functions directly from characteristic functions“."
   ]
  },
  {
   "cell_type": "code",
   "execution_count": null,
   "id": "dense-mercury",
   "metadata": {},
   "outputs": [],
   "source": []
  }
 ],
 "metadata": {
  "kernelspec": {
   "display_name": "Python [conda env:pct] *",
   "language": "python",
   "name": "conda-env-pct-py"
  },
  "language_info": {
   "codemirror_mode": {
    "name": "ipython",
    "version": 3
   },
   "file_extension": ".py",
   "mimetype": "text/x-python",
   "name": "python",
   "nbconvert_exporter": "python",
   "pygments_lexer": "ipython3",
   "version": "3.9.1"
  }
 },
 "nbformat": 4,
 "nbformat_minor": 5
}
