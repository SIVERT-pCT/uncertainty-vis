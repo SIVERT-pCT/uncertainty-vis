{
 "cells": [
  {
   "cell_type": "code",
   "execution_count": 60,
   "id": "recreational-benefit",
   "metadata": {},
   "outputs": [
    {
     "data": {
      "text/html": [
       "\n",
       "<script>\n",
       "code_show=false;\n",
       "function code_toggle(){\n",
       "    if(code_show){$('.prompt, .input, .output_stderr, .output_error').hide();}\n",
       "    else{$('.input, .prompt, .output_stderr, .output_error').show();}\n",
       "    code_show=!code_show;\n",
       "}\n",
       "function initialize(){\n",
       "    var output=$('.output_subarea.output_text.output_stream.output_stdout');\n",
       "    $.merge(output,$('.output_subarea.output_text.output_result'));\n",
       "    for(var i=0;i<output.length;i++)for(var j=0;j<output[i].children.length;j++)\n",
       "        output[i].children[j].style.fontFamily='Palatino';\n",
       "    code_toggle();\n",
       "}\n",
       "$(document).ready(initialize);\n",
       "</script>\n",
       "Click <a href=\"javascript:code_toggle()\">here</a> to show/hide codes in this notebook.\n"
      ],
      "text/plain": [
       "<IPython.core.display.HTML object>"
      ]
     },
     "execution_count": 60,
     "metadata": {},
     "output_type": "execute_result"
    }
   ],
   "source": [
    "from IPython.display import HTML\n",
    "HTML('''\n",
    "<script>\n",
    "code_show=false;\n",
    "function code_toggle(){\n",
    "    if(code_show){$('.prompt, .input, .output_stderr, .output_error').hide();}\n",
    "    else{$('.input, .prompt, .output_stderr, .output_error').show();}\n",
    "    code_show=!code_show;\n",
    "}\n",
    "function initialize(){\n",
    "    var output=$('.output_subarea.output_text.output_stream.output_stdout');\n",
    "    $.merge(output,$('.output_subarea.output_text.output_result'));\n",
    "    for(var i=0;i<output.length;i++)for(var j=0;j<output[i].children.length;j++)\n",
    "        output[i].children[j].style.fontFamily='Palatino';\n",
    "    code_toggle();\n",
    "}\n",
    "$(document).ready(initialize);\n",
    "</script>\n",
    "Click <a href=\"javascript:code_toggle()\">here</a> to show/hide codes in this notebook.\n",
    "''')"
   ]
  },
  {
   "cell_type": "markdown",
   "id": "encouraging-connecticut",
   "metadata": {
    "slideshow": {
     "slide_type": "slide"
    }
   },
   "source": [
    "# Uncertain Isocontours\n",
    "This notebook implements the work of Pöthkow et. al [<sup id=\"fn1-back\">1</sup>](#fn1)\n",
    "\n",
    "[<sup id=\"fn1\">1</sup>](#fn1-back): Pothkow und Hege, „Positional Uncertainty of Isocontours“."
   ]
  },
  {
   "cell_type": "code",
   "execution_count": 73,
   "id": "designing-passenger",
   "metadata": {},
   "outputs": [],
   "source": [
    "import numpy as np\n",
    "from matplotlib import pyplot as plt\n",
    "from scipy import linalg as la\n",
    "from scipy import special\n",
    "from ipywidgets import interact, interact_manual"
   ]
  },
  {
   "cell_type": "markdown",
   "id": "international-cathedral",
   "metadata": {},
   "source": [
    "## Model"
   ]
  },
  {
   "cell_type": "code",
   "execution_count": 2,
   "id": "internal-parker",
   "metadata": {},
   "outputs": [],
   "source": [
    "def curve(x):\n",
    "    return (x/10)**3 - 6*(x/10)**2 + 4*x/10 + 30"
   ]
  },
  {
   "cell_type": "code",
   "execution_count": 3,
   "id": "geological-production",
   "metadata": {
    "scrolled": true
   },
   "outputs": [
    {
     "data": {
      "image/png": "[encoded data removed]",
      "text/plain": [
       "<Figure size 432x288 with 1 Axes>"
      ]
     },
     "metadata": {
      "needs_background": "light"
     },
     "output_type": "display_data"
    }
   ],
   "source": [
    "x = np.linspace(0, 50)\n",
    "y = curve(x)\n",
    "\n",
    "plt.figure()\n",
    "plt.plot(x, y)\n",
    "plt.xlim(0,50)\n",
    "plt.ylim(0,50)\n",
    "plt.show()"
   ]
  },
  {
   "cell_type": "markdown",
   "id": "stretch-greek",
   "metadata": {},
   "source": [
    "## Probability density function\n",
    "\\begin{align}\n",
    "    {\\displaystyle f(x)={\\frac {1}{\\sigma {\\sqrt {2\\pi }}}}e^{-{\\frac {1}{2}}\\left({\\frac {x-\\mu }{\\sigma }}\\right)^{2}}}\n",
    "\\end{align}"
   ]
  },
  {
   "cell_type": "code",
   "execution_count": 5,
   "id": "caroline-temperature",
   "metadata": {},
   "outputs": [],
   "source": [
    "def normal(x, mu, sigma):\n",
    "    return 1 / (sigma * np.sqrt(2 * np.pi)) * np.exp( - 0.5 * ( (x - mu)/sigma )**2 )"
   ]
  },
  {
   "cell_type": "code",
   "execution_count": 49,
   "id": "immediate-convenience",
   "metadata": {},
   "outputs": [],
   "source": [
    "def generate_normal(i, j, m1=15., m2=7., var=1.):\n",
    "    v = curve(i)\n",
    "    \n",
    "    mu = np.ones_like(i, dtype=np.float64)\n",
    "    type1 = v >= j\n",
    "    mu[ type1 ] = m1\n",
    "    \n",
    "    type2 = v < j\n",
    "    mu[ type2 ] = m2\n",
    "    \n",
    "    variance = np.zeros_like(i, dtype=np.float64)\n",
    "    variance = np.abs(v - j)\n",
    "    variance /= np.max(variance)\n",
    "    variance = 1 - variance + 1e-9\n",
    "    variance *= var\n",
    "    \n",
    "    return mu, variance"
   ]
  },
  {
   "cell_type": "markdown",
   "id": "female-trance",
   "metadata": {},
   "source": [
    "# Isocontour Density\n",
    "$$\n",
    "    g_\\theta (x) = \\frac{1}{\\sigma(x)\\sqrt{2\\pi}} exp \\left( - \\frac{1}{2} \\left( \\frac{\\theta - \\mu(x)}{\\sigma(x)} \\right)^2 \\right)\n",
    "$$"
   ]
  },
  {
   "cell_type": "code",
   "execution_count": 74,
   "id": "lyric-basic",
   "metadata": {},
   "outputs": [],
   "source": [
    "def g(contour, mean, variance):\n",
    "    inner = - 0.5 * ( (contour - mean) / variance)**2\n",
    "    denumerator = variance * np.sqrt(2 * np.pi)\n",
    "    return np.exp(inner)/denumerator"
   ]
  },
  {
   "cell_type": "code",
   "execution_count": 75,
   "id": "understanding-income",
   "metadata": {
    "scrolled": false
   },
   "outputs": [
    {
     "data": {
      "application/vnd.jupyter.widget-view+json": {
       "model_id": "7976f31ca99845809e2197377c92e931",
       "version_major": 2,
       "version_minor": 0
      },
      "text/plain": [
       "interactive(children=(FloatSlider(value=15.0, description='mean1', max=15.0, min=10.0), FloatSlider(value=7.0,…"
      ]
     },
     "metadata": {},
     "output_type": "display_data"
    }
   ],
   "source": [
    "@interact(mean1=(10.,15.), mean2=(1e-9,10), var=(1e-9,3), contour=(1e-9,15.))\n",
    "def generate_icd(mean1=15., mean2=7., var=1., contour=10.):\n",
    "    x = np.arange(50)\n",
    "    y = np.arange(50)\n",
    "    xx, yy = np.meshgrid(x, y)\n",
    "\n",
    "    mean, variance = generate_normal(xx, yy, mean1, mean2, var)\n",
    "\n",
    "    plt.figure(figsize=(18,6))\n",
    "    plt.subplot(1,2,1)\n",
    "    plt.title('Mean $\\mu$')\n",
    "    plt.imshow(mean)\n",
    "    plt.colorbar()\n",
    "\n",
    "    plt.subplot(1,2,2)\n",
    "    plt.title('Variance $\\sigma^2$')\n",
    "    plt.imshow(variance)\n",
    "    plt.colorbar()\n",
    "    plt.show()\n",
    "    \n",
    "    sample = np.random.normal(mean, variance)\n",
    "    icd = g(contour, mean, variance)\n",
    "\n",
    "    plt.figure(figsize=(18,6))\n",
    "    plt.subplot(1,2,1)\n",
    "    plt.title('realization & contour')\n",
    "    plt.imshow(sample)\n",
    "    plt.colorbar()\n",
    "    plt.contour(sample, levels=[contour], colors='r')\n",
    "    plt.subplot(1,2,2)\n",
    "    plt.title('ICD & contour')\n",
    "    plt.imshow(icd)\n",
    "    plt.colorbar()\n",
    "    plt.contour(sample, levels=[contour], colors='r')\n",
    "    plt.show()"
   ]
  },
  {
   "cell_type": "markdown",
   "id": "measured-hypothesis",
   "metadata": {},
   "source": [
    "# Level-Crossing Probability Field\n",
    "$$\n",
    "    P_\\theta (x) = \\frac{1}{2} \\left( 1 - Erf \\left( \\frac{\\mu(x) - \\theta}{\\sqrt{2} \\sigma(x)} \\right) \\right)\n",
    "$$"
   ]
  },
  {
   "cell_type": "code",
   "execution_count": 77,
   "id": "single-sense",
   "metadata": {},
   "outputs": [],
   "source": [
    "def lcp(contour, mean, variance):\n",
    "    inner = (mean - contour) / (np.sqrt(2)*variance)\n",
    "    return 0.5 * ( 1 - special.erf(inner) )"
   ]
  },
  {
   "cell_type": "code",
   "execution_count": 78,
   "id": "christian-strain",
   "metadata": {},
   "outputs": [
    {
     "data": {
      "application/vnd.jupyter.widget-view+json": {
       "model_id": "94f5ee4915dd491499bbaba8ad23b398",
       "version_major": 2,
       "version_minor": 0
      },
      "text/plain": [
       "interactive(children=(FloatSlider(value=15.0, description='mean1', max=15.0, min=10.0), FloatSlider(value=7.0,…"
      ]
     },
     "metadata": {},
     "output_type": "display_data"
    }
   ],
   "source": [
    "@interact(mean1=(10.,15.), mean2=(1e-9,10), var=(1e-9,3), contour=(1e-9,15.))\n",
    "def generate_icd(mean1=15., mean2=7., var=1., contour=10.):\n",
    "    x = np.arange(50)\n",
    "    y = np.arange(50)\n",
    "    xx, yy = np.meshgrid(x, y)\n",
    "\n",
    "    mean, variance = generate_normal(xx, yy, mean1, mean2, var)\n",
    "\n",
    "    plt.figure(figsize=(18,6))\n",
    "    plt.subplot(1,2,1)\n",
    "    plt.title('Mean $\\mu$')\n",
    "    plt.imshow(mean)\n",
    "    plt.colorbar()\n",
    "\n",
    "    plt.subplot(1,2,2)\n",
    "    plt.title('Variance $\\sigma^2$')\n",
    "    plt.imshow(variance)\n",
    "    plt.colorbar()\n",
    "    plt.show()\n",
    "    \n",
    "    sample = np.random.normal(mean, variance)\n",
    "    LCP = lcp(contour, mean, variance)\n",
    "\n",
    "    plt.figure(figsize=(18,6))\n",
    "    plt.subplot(1,2,1)\n",
    "    plt.title('realization & contour')\n",
    "    plt.imshow(sample)\n",
    "    plt.colorbar()\n",
    "    plt.contour(sample, levels=[contour], colors='r')\n",
    "    plt.subplot(1,2,2)\n",
    "    plt.title('LCP & contour')\n",
    "    plt.imshow(LCP)\n",
    "    plt.colorbar()\n",
    "    plt.contour(sample, levels=[contour], colors='r')\n",
    "    plt.show()"
   ]
  },
  {
   "cell_type": "code",
   "execution_count": null,
   "id": "municipal-burke",
   "metadata": {},
   "outputs": [],
   "source": []
  }
 ],
 "metadata": {
  "kernelspec": {
   "display_name": "Python [conda env:pct] *",
   "language": "python",
   "name": "conda-env-pct-py"
  },
  "language_info": {
   "codemirror_mode": {
    "name": "ipython",
    "version": 3
   },
   "file_extension": ".py",
   "mimetype": "text/x-python",
   "name": "python",
   "nbconvert_exporter": "python",
   "pygments_lexer": "ipython3",
   "version": "3.9.1"
  }
 },
 "nbformat": 4,
 "nbformat_minor": 5
}
