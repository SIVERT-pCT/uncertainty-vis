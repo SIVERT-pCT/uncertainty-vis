{
 "cells": [
  {
   "cell_type": "markdown",
   "id": "4bc2588e",
   "metadata": {},
   "source": [
    "# Variance magnitude analysis\n",
    "Based on the linear error propagation, we can explore a suitable uncertainty of the input by defining an acceptable output variance. \n",
    "\n",
    "Let $I \\in \\mathbb{N}^{r \\times v}$ be a sinogram and the function $f: \\mathbb{N}^{r \\times v} \\rightarrow \\mathbb{N}^{n \\times n}$ is the inverse radon transorm. Further be $F_x$ the Jacobian of $f$:\n",
    "\\begin{align}\n",
    "    F_x &= \\left[ \\nabla f^T \\right]^T &= \\left[\\begin{array}{c}\n",
    "        f_1 \\\\\n",
    "        \\vdots \\\\\n",
    "        f_{nn}\n",
    "    \\end{array}\\right] \\left[\\begin{array}{ccc} \\frac{\\partial}{\\partial I_1} & \\dots & \\frac{\\partial}{\\partial I_{rn}} \\end{array}\\right] &= \\left[\\begin{array}{ccc}\n",
    "        \\frac{\\partial f_1}{\\partial I_1} & \\dots & \\frac{\\partial f_1}{\\partial I_{rv}} \\\\\n",
    "        \\vdots & \\ddots & \\vdots \\\\\n",
    "        \\frac{\\partial f_{nn}}{\\partial I_1} & \\dots & \\frac{\\partial f_{nn}}{\\partial I_{rv}}\n",
    "    \\end{array}\\right]\n",
    "\\end{align}\n",
    "\n",
    "We now assume that $I$~$\\mathcal{N}(\\mu, \\Sigma)$ is a realization of a multivariate normal distribution. The covariance matrix $\\Sigma$ can be modelled in a way, that the correlation factor $\\rho(i, j)$ is higher for columns $j$ and stays constant for rows $i$. We use exponential decay for the columns:\n",
    "$$\n",
    "    \\rho(i) = exp( - \\gamma i)\n",
    "$$\n",
    "\n",
    "The propagation of the uncertanty $\\Sigma$ can be computed as followed:\n",
    "$$\n",
    "    \\Sigma_f = F_x \\Sigma F_x^T\n",
    "$$\n",
    "\n",
    "Now, we define an acceptable $\\Sigma_f \\leq \\varepsilon$ and identify $\\Sigma$, which fullfills this condition by iterative exploration."
   ]
  },
  {
   "cell_type": "code",
   "execution_count": 3,
   "id": "d8e300af",
   "metadata": {},
   "outputs": [],
   "source": [
    "import numpy as np\n",
    "from matplotlib import pyplot as plt\n",
    "import ipywidgets as widgets\n",
    "from IPython.display import display\n",
    "from Comparision import utils"
   ]
  },
  {
   "cell_type": "code",
   "execution_count": 10,
   "id": "2f58509e",
   "metadata": {},
   "outputs": [
    {
     "data": {
      "application/vnd.jupyter.widget-view+json": {
       "model_id": "1403561f30cf4cc384073f3cffa28f35",
       "version_major": 2,
       "version_minor": 0
      },
      "text/plain": [
       "interactive(children=(IntSlider(value=10, description='input_range', min=10), Output()), _dom_classes=('widget…"
      ]
     },
     "metadata": {},
     "output_type": "display_data"
    }
   ],
   "source": [
    "df_dx = np.load('../Data/iradon/df_dx_ramp.npy')\n",
    "\n",
    "@widgets.interact(input_range=(10,100))\n",
    "def show_variance(input_range = 30):\n",
    "    width = 10\n",
    "    \n",
    "    var = np.ones((64,64)) * input_range\n",
    "    Sigma_in = utils.build_covariance_matrix(var, function=utils.exponential, width=width)\n",
    "\n",
    "    Sigma = df_dx @ Sigma_in @ np.transpose(df_dx)\n",
    "\n",
    "    variance = np.reshape(np.abs(np.diag(Sigma)), (64,64))\n",
    "\n",
    "    plt.figure(figsize=(18,6))\n",
    "    plt.imshow(variance)\n",
    "    plt.colorbar()\n",
    "    plt.show()"
   ]
  },
  {
   "cell_type": "code",
   "execution_count": null,
   "id": "922e3872",
   "metadata": {},
   "outputs": [],
   "source": []
  }
 ],
 "metadata": {
  "kernelspec": {
   "display_name": "Python [conda env:pct] *",
   "language": "python",
   "name": "conda-env-pct-py"
  },
  "language_info": {
   "codemirror_mode": {
    "name": "ipython",
    "version": 3
   },
   "file_extension": ".py",
   "mimetype": "text/x-python",
   "name": "python",
   "nbconvert_exporter": "python",
   "pygments_lexer": "ipython3",
   "version": "3.8.10"
  }
 },
 "nbformat": 4,
 "nbformat_minor": 5
}
