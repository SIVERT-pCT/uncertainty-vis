{
 "cells": [
  {
   "cell_type": "code",
   "execution_count": 1,
   "id": "recreational-benefit",
   "metadata": {},
   "outputs": [
    {
     "data": {
      "text/html": [
       "\n",
       "<script>\n",
       "code_show=false;\n",
       "function code_toggle(){\n",
       "    if(code_show){$('.prompt, .input, .output_stderr, .output_error').hide();}\n",
       "    else{$('.input, .prompt, .output_stderr, .output_error').show();}\n",
       "    code_show=!code_show;\n",
       "}\n",
       "function initialize(){\n",
       "    var output=$('.output_subarea.output_text.output_stream.output_stdout');\n",
       "    $.merge(output,$('.output_subarea.output_text.output_result'));\n",
       "    for(var i=0;i<output.length;i++)for(var j=0;j<output[i].children.length;j++)\n",
       "        output[i].children[j].style.fontFamily='Palatino';\n",
       "    code_toggle();\n",
       "}\n",
       "$(document).ready(initialize);\n",
       "</script>\n",
       "Click <a href=\"javascript:code_toggle()\">here</a> to show/hide codes in this notebook.\n"
      ],
      "text/plain": [
       "<IPython.core.display.HTML object>"
      ]
     },
     "execution_count": 1,
     "metadata": {},
     "output_type": "execute_result"
    }
   ],
   "source": [
    "from IPython.display import HTML\n",
    "HTML('''\n",
    "<script>\n",
    "code_show=false;\n",
    "function code_toggle(){\n",
    "    if(code_show){$('.prompt, .input, .output_stderr, .output_error').hide();}\n",
    "    else{$('.input, .prompt, .output_stderr, .output_error').show();}\n",
    "    code_show=!code_show;\n",
    "}\n",
    "function initialize(){\n",
    "    var output=$('.output_subarea.output_text.output_stream.output_stdout');\n",
    "    $.merge(output,$('.output_subarea.output_text.output_result'));\n",
    "    for(var i=0;i<output.length;i++)for(var j=0;j<output[i].children.length;j++)\n",
    "        output[i].children[j].style.fontFamily='Palatino';\n",
    "    code_toggle();\n",
    "}\n",
    "$(document).ready(initialize);\n",
    "</script>\n",
    "Click <a href=\"javascript:code_toggle()\">here</a> to show/hide codes in this notebook.\n",
    "''')"
   ]
  },
  {
   "cell_type": "markdown",
   "id": "encouraging-connecticut",
   "metadata": {
    "slideshow": {
     "slide_type": "slide"
    }
   },
   "source": [
    "# Uncertain Isocontours\n",
    "This notebook implements the work of Pöthkow et. al [<sup id=\"fn1-back\">1</sup>](#fn1)\n",
    "\n",
    "[<sup id=\"fn1\">1</sup>](#fn1-back): Pothkow und Hege, „Positional Uncertainty of Isocontours“."
   ]
  },
  {
   "cell_type": "code",
   "execution_count": 2,
   "id": "designing-passenger",
   "metadata": {},
   "outputs": [],
   "source": [
    "import numpy as np\n",
    "from matplotlib import pyplot as plt\n",
    "from scipy import linalg as la\n",
    "from scipy import special\n",
    "import ipywidgets\n",
    "from ipywidgets import interact, interact_manual"
   ]
  },
  {
   "cell_type": "markdown",
   "id": "international-cathedral",
   "metadata": {},
   "source": [
    "## Model"
   ]
  },
  {
   "cell_type": "code",
   "execution_count": 3,
   "id": "geological-production",
   "metadata": {
    "scrolled": true
   },
   "outputs": [
    {
     "data": {
      "image/png": "[encoded data removed]",
      "text/plain": [
       "<Figure size 432x288 with 2 Axes>"
      ]
     },
     "metadata": {
      "needs_background": "light"
     },
     "output_type": "display_data"
    }
   ],
   "source": [
    "model = np.zeros((50,50))\n",
    "\n",
    "model[:20,:] = 10.\n",
    "model[20:30,:] = np.transpose([np.linspace(10,5,10)]*50)\n",
    "model[30:,:] = 5.\n",
    "\n",
    "plt.figure()\n",
    "plt.imshow(model)\n",
    "plt.colorbar()\n",
    "plt.show()"
   ]
  },
  {
   "cell_type": "markdown",
   "id": "stretch-greek",
   "metadata": {},
   "source": [
    "## Probability density function\n",
    "\\begin{align}\n",
    "    {\\displaystyle f(x)={\\frac {1}{\\sigma {\\sqrt {2\\pi }}}}e^{-{\\frac {1}{2}}\\left({\\frac {x-\\mu }{\\sigma }}\\right)^{2}}}\n",
    "\\end{align}"
   ]
  },
  {
   "cell_type": "code",
   "execution_count": 4,
   "id": "caroline-temperature",
   "metadata": {},
   "outputs": [],
   "source": [
    "def normal(x, mu, sigma):\n",
    "    return 1 / (sigma * np.sqrt(2 * np.pi)) * np.exp( - 0.5 * ( (x - mu)/sigma )**2 )"
   ]
  },
  {
   "cell_type": "code",
   "execution_count": 5,
   "id": "immediate-convenience",
   "metadata": {},
   "outputs": [],
   "source": [
    "def generate_normal(i, j, m1=15., m2=7., var=1.):\n",
    "    mu = np.zeros((50,50))\n",
    "    mu[:20,:] = m1\n",
    "    mu[20:30,:] = np.transpose([np.linspace(m1,m2,10)]*50)\n",
    "    mu[30:,:] = m2\n",
    "    \n",
    "    variance = np.ones((50,50)) * var\n",
    "    \n",
    "    return mu, variance"
   ]
  },
  {
   "cell_type": "code",
   "execution_count": 6,
   "id": "flexible-justice",
   "metadata": {},
   "outputs": [
    {
     "data": {
      "application/vnd.jupyter.widget-view+json": {
       "model_id": "6ba27e666ebc41b0be6e025f559bf801",
       "version_major": 2,
       "version_minor": 0
      },
      "text/plain": [
       "interactive(children=(FloatSlider(value=10.0, description='mean1', max=10.0, min=1.0), FloatSlider(value=7.0, …"
      ]
     },
     "metadata": {},
     "output_type": "display_data"
    }
   ],
   "source": [
    "mean = np.empty((50,50))\n",
    "variance = np.empty((50,50))\n",
    "sample = np.empty((50,50))\n",
    "@interact(\n",
    "    mean1=(1.,10.), \n",
    "    mean2=(1.,10.), \n",
    "    var=(1e-9,3), \n",
    ")\n",
    "def generate_sample(mean1=10., mean2=7., var=1.):\n",
    "    global mean\n",
    "    global variance\n",
    "    global sample\n",
    "    \n",
    "    x = np.arange(50)\n",
    "    y = np.arange(50)\n",
    "    xx, yy = np.meshgrid(x, y)\n",
    "\n",
    "    mean, variance = generate_normal(xx, yy, mean1, mean2, var)\n",
    "\n",
    "    plt.figure(figsize=(18,6))\n",
    "    plt.subplot(1,2,1)\n",
    "    plt.title('Mean $\\mu$')\n",
    "    plt.imshow(mean)\n",
    "    plt.colorbar()\n",
    "\n",
    "    plt.subplot(1,2,2)\n",
    "    plt.title('Variance $\\sigma^2$')\n",
    "    plt.imshow(variance)\n",
    "    plt.colorbar()\n",
    "    plt.show()\n",
    "\n",
    "    sample = np.random.normal(mean, variance)\n",
    "    \n",
    "    plt.figure(figsize=(18,6))\n",
    "    plt.title('realization')\n",
    "    plt.imshow(sample)\n",
    "    plt.colorbar()\n",
    "    plt.show()"
   ]
  },
  {
   "cell_type": "markdown",
   "id": "female-trance",
   "metadata": {},
   "source": [
    "# Isocontour Density\n",
    "$$\n",
    "    g_\\theta (x) = \\frac{1}{\\sigma(x)\\sqrt{2\\pi}} exp \\left( - \\frac{1}{2} \\left( \\frac{\\theta - \\mu(x)}{\\sigma(x)} \\right)^2 \\right)\n",
    "$$\n",
    "\n",
    "The value of the function is related to the numerical condition of isocontour extraction. In other words, how sensitive is the extraction of the isocontour to small pertubations $d t$ based on the normal distribution."
   ]
  },
  {
   "cell_type": "code",
   "execution_count": 7,
   "id": "lyric-basic",
   "metadata": {},
   "outputs": [],
   "source": [
    "def g(contour, mean, variance):\n",
    "    inner = - 0.5 * ( (contour - mean) / variance)**2\n",
    "    denumerator = variance * np.sqrt(2 * np.pi)\n",
    "    return np.exp(inner)/denumerator"
   ]
  },
  {
   "cell_type": "code",
   "execution_count": 8,
   "id": "understanding-income",
   "metadata": {
    "scrolled": false
   },
   "outputs": [
    {
     "data": {
      "application/vnd.jupyter.widget-view+json": {
       "model_id": "66d115fff9664041bd2d3ab88d315c69",
       "version_major": 2,
       "version_minor": 0
      },
      "text/plain": [
       "interactive(children=(FloatSlider(value=10.0, description='contour', max=15.0, min=1e-09), Output()), _dom_cla…"
      ]
     },
     "metadata": {},
     "output_type": "display_data"
    }
   ],
   "source": [
    "@interact(\n",
    "    sample=ipywidgets.fixed(sample), \n",
    "    mean=ipywidgets.fixed(mean),\n",
    "    variance=ipywidgets.fixed(variance),\n",
    "    contour=(1e-9,15.)\n",
    ")\n",
    "def generate_icd(sample=sample, mean=mean, variance=variance, contour=10.):\n",
    "    icd = g(contour, mean, variance)\n",
    "    \n",
    "    plt.figure(figsize=(18,6))\n",
    "    plt.subplot(1,2,1)\n",
    "    plt.title('realization & contour')\n",
    "    plt.imshow(sample)\n",
    "    plt.colorbar()\n",
    "    plt.contour(sample, levels=[contour], colors='r')\n",
    "    plt.subplot(1,2,2)\n",
    "    plt.title('ICD & contour')\n",
    "    plt.imshow(icd)\n",
    "    plt.colorbar()\n",
    "    plt.contour(sample, levels=[contour], colors='r')\n",
    "    plt.show()"
   ]
  },
  {
   "cell_type": "markdown",
   "id": "measured-hypothesis",
   "metadata": {},
   "source": [
    "# Level-Crossing Probability Field\n",
    "$$\n",
    "    P_\\theta (x) = \\frac{1}{2} \\left( 1 - Erf \\left( \\frac{\\mu(x) - \\theta}{\\sqrt{2} \\sigma(x)} \\right) \\right)\n",
    "$$\n",
    "\n",
    "The value of the function can be interpreted as the probability of two independend realizations $y_a$ and $y_b$ of a random variable to be greater or equal to $\\theta$, while the other is smaller or equal to $\\theta$. In other words, how likely two independend realizations fullfill the fact that one is greater (or equal) and the other at the same time smaller (or equal) to $\\theta$."
   ]
  },
  {
   "cell_type": "code",
   "execution_count": 9,
   "id": "single-sense",
   "metadata": {},
   "outputs": [],
   "source": [
    "def lcp(contour, mean, variance):\n",
    "    inner = (mean - contour) / (np.sqrt(2)*variance)\n",
    "    return 0.5 * ( 1 - special.erf(inner)**2 )"
   ]
  },
  {
   "cell_type": "code",
   "execution_count": 10,
   "id": "christian-strain",
   "metadata": {},
   "outputs": [
    {
     "data": {
      "application/vnd.jupyter.widget-view+json": {
       "model_id": "2d9d6f3b203546379d2b810b2a2118c9",
       "version_major": 2,
       "version_minor": 0
      },
      "text/plain": [
       "interactive(children=(FloatSlider(value=10.0, description='contour', max=15.0, min=1e-09), Output()), _dom_cla…"
      ]
     },
     "metadata": {},
     "output_type": "display_data"
    }
   ],
   "source": [
    "@interact(\n",
    "    sample=ipywidgets.fixed(sample), \n",
    "    mean=ipywidgets.fixed(mean),\n",
    "    variance=ipywidgets.fixed(variance),\n",
    "    contour=(1e-9,15.)\n",
    ")\n",
    "def generate_icd(sample=sample, mean=mean, variance=variance, contour=10.):\n",
    "    LCP = lcp(contour, mean, variance)\n",
    "\n",
    "    plt.figure(figsize=(18,6))\n",
    "    plt.subplot(1,2,1)\n",
    "    plt.title('realization & contour')\n",
    "    plt.imshow(sample)\n",
    "    plt.colorbar()\n",
    "    plt.contour(sample, levels=[contour], colors='r')\n",
    "    plt.subplot(1,2,2)\n",
    "    plt.title('LCP & contour')\n",
    "    plt.imshow(LCP)\n",
    "    plt.colorbar()\n",
    "    plt.contour(sample, levels=[contour], colors='r')\n",
    "    plt.show()"
   ]
  },
  {
   "cell_type": "code",
   "execution_count": null,
   "id": "municipal-burke",
   "metadata": {},
   "outputs": [],
   "source": []
  }
 ],
 "metadata": {
  "kernelspec": {
   "display_name": "Python [conda env:pct] *",
   "language": "python",
   "name": "conda-env-pct-py"
  },
  "language_info": {
   "codemirror_mode": {
    "name": "ipython",
    "version": 3
   },
   "file_extension": ".py",
   "mimetype": "text/x-python",
   "name": "python",
   "nbconvert_exporter": "python",
   "pygments_lexer": "ipython3",
   "version": "3.8.10"
  },
  "notify_time": "5"
 },
 "nbformat": 4,
 "nbformat_minor": 5
}
