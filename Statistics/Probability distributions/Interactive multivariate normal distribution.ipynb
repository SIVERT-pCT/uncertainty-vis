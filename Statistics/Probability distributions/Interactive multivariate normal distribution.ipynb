{
 "cells": [
  {
   "cell_type": "code",
   "execution_count": 1,
   "id": "social-agency",
   "metadata": {},
   "outputs": [],
   "source": [
    "import numpy as np\n",
    "from matplotlib import pyplot as plt\n",
    "from scipy import linalg as la\n",
    "from ipywidgets import interact, interact_manual"
   ]
  },
  {
   "cell_type": "markdown",
   "id": "emotional-cancer",
   "metadata": {},
   "source": [
    "# Model"
   ]
  },
  {
   "cell_type": "code",
   "execution_count": 2,
   "id": "loaded-prompt",
   "metadata": {},
   "outputs": [],
   "source": [
    "def curve(x):\n",
    "    return (x/10)**3 - 6*(x/10)**2 + 4*x/10 + 30"
   ]
  },
  {
   "cell_type": "code",
   "execution_count": 3,
   "id": "elegant-clone",
   "metadata": {},
   "outputs": [
    {
     "data": {
      "image/png": "[encoded data removed]",
      "text/plain": [
       "<Figure size 432x288 with 1 Axes>"
      ]
     },
     "metadata": {
      "needs_background": "light"
     },
     "output_type": "display_data"
    }
   ],
   "source": [
    "x = np.linspace(0, 50)\n",
    "y = curve(x)\n",
    "\n",
    "plt.figure()\n",
    "plt.plot(x, y)\n",
    "plt.xlim(0,50)\n",
    "plt.ylim(0,50)\n",
    "plt.show()"
   ]
  },
  {
   "cell_type": "code",
   "execution_count": 4,
   "id": "criminal-sleep",
   "metadata": {},
   "outputs": [],
   "source": [
    "def generate_normal(i, j, v1=15., v2=7., var=1.0):\n",
    "    v = curve(i)\n",
    "    \n",
    "    mu = np.ones_like(i, dtype=np.float64)\n",
    "    type1 = v >= j\n",
    "    mu[ type1 ] = v1\n",
    "    \n",
    "    type2 = v < j\n",
    "    mu[ type2 ] = v2\n",
    "    \n",
    "    variance = np.zeros_like(i, dtype=np.float64)\n",
    "    variance = np.abs(v - j)\n",
    "    variance /= np.max(variance)\n",
    "    variance = 1 - variance\n",
    "    variance *= var\n",
    "    \n",
    "    return mu, variance"
   ]
  },
  {
   "cell_type": "markdown",
   "id": "parental-optimum",
   "metadata": {},
   "source": [
    "# Exponential decay function\n",
    "For a distance $h$ in pixel, this function defines the decay of the covariance.\n",
    "$$\n",
    "    r(h) = exp( - \\gamma h)\n",
    "$$"
   ]
  },
  {
   "cell_type": "code",
   "execution_count": 5,
   "id": "opponent-person",
   "metadata": {},
   "outputs": [
    {
     "data": {
      "application/vnd.jupyter.widget-view+json": {
       "model_id": "897cf50bf6e44dbc8a3a451a1ec1907d",
       "version_major": 2,
       "version_minor": 0
      },
      "text/plain": [
       "interactive(children=(IntSlider(value=2, description='width', max=50, min=2), Output()), _dom_classes=('widget…"
      ]
     },
     "metadata": {},
     "output_type": "display_data"
    }
   ],
   "source": [
    "def exponential(value, gamma):\n",
    "    return np.exp( - gamma * value)\n",
    "\n",
    "@interact(width=(2,50))\n",
    "def interactive_exponential(width=2):\n",
    "    x = np.arange(0,width)\n",
    "    y = exponential(x, 1/np.log(width))\n",
    "    plt.bar(x, y)\n",
    "    plt.show()"
   ]
  },
  {
   "cell_type": "markdown",
   "id": "studied-arizona",
   "metadata": {},
   "source": [
    "# Linear decay function\n",
    "\\begin{align}\n",
    "    r(h) &= - \\gamma h + 1, & \\gamma &\\in (0,1)\n",
    "\\end{align}"
   ]
  },
  {
   "cell_type": "code",
   "execution_count": 6,
   "id": "eleven-scholar",
   "metadata": {},
   "outputs": [
    {
     "data": {
      "application/vnd.jupyter.widget-view+json": {
       "model_id": "1d6a310aa57048c5ad843f87339afc86",
       "version_major": 2,
       "version_minor": 0
      },
      "text/plain": [
       "interactive(children=(IntSlider(value=1, description='width', max=50, min=1), Output()), _dom_classes=('widget…"
      ]
     },
     "metadata": {},
     "output_type": "display_data"
    }
   ],
   "source": [
    "def linear(value, gamma):\n",
    "    return - gamma * value + 1\n",
    "\n",
    "@interact(width=(1,50))\n",
    "def interactive_linear(width=1):\n",
    "    x = np.arange(0,width)\n",
    "    y = linear(x, 1/width)\n",
    "    plt.bar(x, y)\n",
    "    plt.show()"
   ]
  },
  {
   "cell_type": "code",
   "execution_count": 8,
   "id": "polyphonic-glucose",
   "metadata": {},
   "outputs": [
    {
     "data": {
      "application/vnd.jupyter.widget-view+json": {
       "model_id": "27f86a181c7a4fabb1564e905b6fecb9",
       "version_major": 2,
       "version_minor": 0
      },
      "text/plain": [
       "interactive(children=(IntSlider(value=1, description='width', max=50, min=1), Output()), _dom_classes=('widget…"
      ]
     },
     "metadata": {},
     "output_type": "display_data"
    }
   ],
   "source": [
    "def constant(value, width):\n",
    "    return 1.0\n",
    "\n",
    "@interact(width=(1,50))\n",
    "def interactive_constant(width=1):\n",
    "    x = np.arange(width)\n",
    "    y = constant(x, width)\n",
    "    plt.bar(x, y)\n",
    "    plt.show()"
   ]
  },
  {
   "cell_type": "markdown",
   "id": "taken-humanitarian",
   "metadata": {},
   "source": [
    "# Building the covariance matrix\n",
    "Let $G = (V,A)$ be an unidirected graph with its vertices $|V| = n$ and its adjacency matrix $A$. This graph models a 2D grid, including the diagonal connections. While the adjacency matrix $A$ represents the closest points (1-hop away) of each point $i$, we can compute the connections, which are 2-hops away as followed:\n",
    "\\begin{align}\n",
    "    A^{(2)} &= A \\cdot A - A - \\mathbf{I}.\n",
    "\\end{align}\n",
    "Now, all entries of $A^{(2)}$, which are greater than zero are 2-hop away of the vertex corresponding to that pixel. The selfconnected case is represented by the identity matrix $\\mathbf{I}$. This can be done for arbitrary distances $d$ as followed:\n",
    "\\begin{align}\n",
    "    A^{(d)} &= \\prod\\limits^d_{i=1} A - \\sum\\limits^{d-1}_{j=1} A^{(i)} - \\mathbf{I}\n",
    "\\end{align}\n",
    "Please note, $A^{(d)}$ contains only the d-hop connections, while $A \\cdot A$ contains entries representing connections from 0-hop (self-connected) till 2-hop.\n",
    "\n",
    "Now, we construct a matrix $M \\in \\mathbb{R}^{n \\times n}$, which uses the d-hop adjacency matrices $A^{(d)}$ by modulating them based on a distance funcion $r: \\mathbb{N} \\rightarrow \\mathbb{R}$.\n",
    "\\begin{align}\n",
    "    M &= \\mathbf{I} ~ r(0) + \\sum\\limits^d_{i=1} A^{(i)} r(i)\n",
    "\\end{align}\n",
    "To enforce a positive semi-definite matrix we multiply it with its transpose and normalize it:\n",
    "\\begin{align}\n",
    "    \\hat{R} &= M \\cdot M^T \\\\\n",
    "    R &= \\frac{1}{r_{max}} \\hat{R}, & r_{max} &= max \\{v_{ij} \\in \\hat{R}\\}\n",
    "\\end{align}\n",
    "\n",
    "Let $V \\in \\mathbb{R}^{n \\times n}$ be a matrix, which only has entries in its diagonals. Those entries represent the variance of a pixel $i$:\n",
    "\\begin{align}\n",
    "    V_{ij} = \\left\\{\\begin{array}{c}\n",
    "        \\sigma_i \\\\\n",
    "        0\n",
    "    \\end{array} \\begin{array}{c}\n",
    "        & i = j \\\\\n",
    "        & i \\neq j\n",
    "    \\end{array}\n",
    "    \\right.\n",
    "\\end{align}\n",
    "\n",
    "Both, the positive semi-definete normalized distance matrix $M$ and the matrix $V$, containing the variances produce by their product a covariance matrix $C$ with a decaying covariance depending on the distance of the vertex:\n",
    "\\begin{align}\n",
    "    C &= V \\cdot M \\cdot V \\\\\n",
    "    C_{i,j} &= \\left\\{ \\begin{array}{cc}\n",
    "        \\sigma_i^2 & i=j \\\\\n",
    "        \\rho_{i,j} \\sigma_i \\sigma_j & i \\neq j\n",
    "    \\end{array}\\right.\n",
    "\\end{align}"
   ]
  },
  {
   "cell_type": "code",
   "execution_count": 20,
   "id": "threaded-talent",
   "metadata": {},
   "outputs": [],
   "source": [
    "def build_covariance_matrix(variance, function=exponential, width=3):\n",
    "    n = variance.shape[0]\n",
    "    var = np.diag(variance.flatten())\n",
    "    \n",
    "    distance_map = [\n",
    "        np.eye(n*n)\n",
    "    ]\n",
    "    \n",
    "    if width > 1:\n",
    "        # connect each row\n",
    "        tpRow = np.zeros((n,1), dtype=np.float32)\n",
    "        tpRow[1] = 1\n",
    "        offdi = la.toeplitz(tpRow)\n",
    "        # connect each column\n",
    "        tpEdge = np.zeros((n,1), dtype=np.float32)\n",
    "        tpEdge[0] = 1\n",
    "        offedge = la.toeplitz(tpEdge)\n",
    "        #connect diagonals\n",
    "        tpDiag = np.zeros((n,1), dtype=np.float32)\n",
    "        tpDiag[1] = 1\n",
    "        offdiag = la.toeplitz(tpDiag)\n",
    "\n",
    "        I = np.eye(n, dtype=np.float32)\n",
    "        Ileft = np.roll(I, 1, axis=0) + np.roll(I, -1, axis=0)\n",
    "        Ileft[0,n-1] = 0\n",
    "        Ileft[n-1,0] = 0\n",
    "\n",
    "        A = np.kron(I, offdi) + np.kron(Ileft, offedge) + np.kron(Ileft, offdiag)\n",
    "        if function == linear:\n",
    "            A *= function(1, 1.0/width)\n",
    "        else:\n",
    "            A *= function(1, 1/np.log(width))\n",
    "        A *= 0.01\n",
    "        \n",
    "        distance_map.append(A)\n",
    "        \n",
    "    for weight in range(2, width//2):\n",
    "        A_depth = distance_map[-1] @ distance_map[1]\n",
    "        A_depth[ A_depth > 0 ] = 1.0\n",
    "        for A_prev in distance_map:\n",
    "            A_depth[ A_prev > 0 ] = 0.0\n",
    "            \n",
    "        if function == linear:\n",
    "            A_depth *= function(weight, 1.0/width)\n",
    "        else:\n",
    "            A_depth *= function(weight, 1/np.log(width))\n",
    "        A_depth *= 0.01\n",
    "            \n",
    "        distance_map.append(A_depth)\n",
    "\n",
    "        \n",
    "    # enforce positive semi-definite\n",
    "    R = np.sum(distance_map, axis=0)\n",
    "    #R = R @ R.T\n",
    "    #R /= R.max()\n",
    "    covariance = var @ R @ var\n",
    "    \n",
    "    return covariance"
   ]
  },
  {
   "cell_type": "markdown",
   "id": "respective-state",
   "metadata": {},
   "source": [
    "# Realizations"
   ]
  },
  {
   "cell_type": "code",
   "execution_count": 21,
   "id": "written-expense",
   "metadata": {
    "scrolled": false
   },
   "outputs": [
    {
     "data": {
      "application/vnd.jupyter.widget-view+json": {
       "model_id": "9c14f678c4524838b5312693788885dd",
       "version_major": 2,
       "version_minor": 0
      },
      "text/plain": [
       "interactive(children=(FloatSlider(value=15.0, description='mean1', max=20.0, min=10.0), FloatSlider(value=13.0…"
      ]
     },
     "metadata": {},
     "output_type": "display_data"
    }
   ],
   "source": [
    "@interact_manual(mean1=(10.0,20.0), mean2=(10.0,20.0), variance=(0.5,10.0), width=(1,50), variance_model=['edge', 'inv_edge', 'constant'], decay_function=['exponential', 'linear', 'constant'])\n",
    "def generate_samples(mean1=15.0, mean2=13.0, variance=1.0, width=3, variance_model='edge', decay_function='exponential'):\n",
    "    x = np.arange(50)\n",
    "    y = np.arange(50)\n",
    "    xx, yy = np.meshgrid(x, y)\n",
    "    \n",
    "    mean, variance_map = generate_normal(xx, yy, mean1, mean2, variance)\n",
    "    \n",
    "    if variance_model == 'edge':\n",
    "        used_variance = variance_map\n",
    "    elif variance_model == 'inv_edge':\n",
    "        used_variance = variance - variance_map\n",
    "    else:\n",
    "        used_variance = np.ones_like(variance_map) * variance\n",
    "        \n",
    "    if decay_function == 'constant':\n",
    "        decay_func = constant\n",
    "    elif decay_function == 'linear':\n",
    "        decay_func = linear\n",
    "    else:\n",
    "        decay_func = exponential\n",
    "        \n",
    "    covariance = build_covariance_matrix(used_variance, decay_func, width)\n",
    "    \n",
    "    impulse = np.zeros_like(mean)\n",
    "    impulse[mean.shape[0]//4*3, mean.shape[1]//4*3] = 1.0\n",
    "    impulse[mean.shape[0]//2, mean.shape[1]//2] = 1.0\n",
    "    impulse[mean.shape[0]//4, mean.shape[1]//4] = 1.0\n",
    "    impulse = impulse.flatten()\n",
    "\n",
    "    plt.figure(figsize=(18,12))\n",
    "    plt.subplot(2,2,1)\n",
    "    plt.title('Mean $\\mu$')\n",
    "    plt.imshow(mean)\n",
    "    plt.colorbar()\n",
    "\n",
    "    plt.subplot(2,2,2)\n",
    "    plt.title('Standard deviation $\\sigma$')\n",
    "    plt.imshow(used_variance)\n",
    "    plt.colorbar()\n",
    "\n",
    "    plt.subplot(2,2,3)\n",
    "    plt.title('Covariance $\\Sigma$')\n",
    "    plt.imshow(covariance)\n",
    "    plt.colorbar()\n",
    "\n",
    "    plt.subplot(2,2,4)\n",
    "    plt.title('Covariance of single points')\n",
    "    plt.imshow( (impulse @ covariance).reshape(mean.shape) )\n",
    "    plt.colorbar()\n",
    "\n",
    "    plt.show()\n",
    "    \n",
    "    plt.figure(figsize=(18,8))\n",
    "    for i in range(6):\n",
    "        plt.subplot(2,3,i+1)\n",
    "        \n",
    "        sample = np.random.multivariate_normal(mean.flatten(), covariance)\n",
    "\n",
    "        plt.imshow(sample.reshape(mean.shape))\n",
    "        plt.colorbar()\n",
    "        \n",
    "    plt.show()"
   ]
  },
  {
   "cell_type": "markdown",
   "id": "leading-scheme",
   "metadata": {},
   "source": [
    "# Validation"
   ]
  },
  {
   "cell_type": "code",
   "execution_count": 24,
   "id": "abstract-ecology",
   "metadata": {},
   "outputs": [
    {
     "data": {
      "image/png": "[encoded data removed]",
      "text/plain": [
       "<Figure size 432x288 with 1 Axes>"
      ]
     },
     "metadata": {
      "needs_background": "light"
     },
     "output_type": "display_data"
    }
   ],
   "source": [
    "mean1 = 15.\n",
    "mean2 = 13.\n",
    "variance = 1.0\n",
    "decay_function = exponential\n",
    "variance_model = 'edge'\n",
    "width = 20\n",
    "\n",
    "x = np.arange(50)\n",
    "y = np.arange(50)\n",
    "xx, yy = np.meshgrid(x, y)\n",
    "\n",
    "mean, variance_map = generate_normal(xx, yy, mean1, mean2, variance)\n",
    "\n",
    "if variance_model == 'edge':\n",
    "    used_variance = variance_map\n",
    "elif variance_model == 'inv_edge':\n",
    "    used_variance = variance - variance_map\n",
    "else:\n",
    "    used_variance = np.ones_like(variance_map) * variance\n",
    "covariance = build_covariance_matrix(used_variance, decay_function, width)\n",
    "\n",
    "impulse = np.zeros_like(mean)\n",
    "impulse[mean.shape[0]//2, mean.shape[1]//2] = 1.0\n",
    "impulse = impulse.flatten()\n",
    "\n",
    "response = (impulse @ covariance).reshape(mean.shape)\n",
    "\n",
    "x_val = np.arange(width)\n",
    "\n",
    "if decay_function == linear:\n",
    "    y_val = decay_function(x_val, 1.0/width)\n",
    "else:\n",
    "    y_val = decay_function(x_val, 1/np.log(width))\n",
    "\n",
    "plt.plot(response[mean.shape[0]//2,mean.shape[1]//2:mean.shape[1]//2+width])\n",
    "plt.plot(x_val, y_val)\n",
    "plt.show()"
   ]
  },
  {
   "cell_type": "code",
   "execution_count": null,
   "id": "tested-weekend",
   "metadata": {},
   "outputs": [],
   "source": []
  }
 ],
 "metadata": {
  "kernelspec": {
   "display_name": "Python [conda env:pct] *",
   "language": "python",
   "name": "conda-env-pct-py"
  },
  "language_info": {
   "codemirror_mode": {
    "name": "ipython",
    "version": 3
   },
   "file_extension": ".py",
   "mimetype": "text/x-python",
   "name": "python",
   "nbconvert_exporter": "python",
   "pygments_lexer": "ipython3",
   "version": "3.9.1"
  }
 },
 "nbformat": 4,
 "nbformat_minor": 5
}
